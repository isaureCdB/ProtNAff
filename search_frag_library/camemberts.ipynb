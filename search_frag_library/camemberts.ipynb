{
 "cells": [
  {
   "cell_type": "code",
   "execution_count": 29,
   "metadata": {},
   "outputs": [],
   "source": [
    "%run load_data.py"
   ]
  },
  {
   "cell_type": "code",
   "execution_count": 34,
   "metadata": {},
   "outputs": [],
   "source": [
    "from query import *"
   ]
  },
  {
   "cell_type": "code",
   "execution_count": 2,
   "metadata": {},
   "outputs": [],
   "source": [
    "ss = query(chaindata, chainschema, fragments, is_ss, \"ss\", part=None)"
   ]
  },
  {
   "cell_type": "code",
   "execution_count": 3,
   "metadata": {},
   "outputs": [],
   "source": [
    "ds = query(chaindata, chainschema, fragments, is_ds, \"ss\", part=None)"
   ]
  },
  {
   "cell_type": "code",
   "execution_count": 4,
   "metadata": {},
   "outputs": [],
   "source": [
    "ss_ph = query(chaindata, chainschema, fragments[ss], contact_parts, \"interface_protein\", part=\"ph\")"
   ]
  },
  {
   "cell_type": "code",
   "execution_count": 5,
   "metadata": {},
   "outputs": [],
   "source": [
    "ds_ph = query(chaindata, chainschema, fragments[ds], contact_parts, \"interface_protein\", part=\"ph\")"
   ]
  },
  {
   "cell_type": "code",
   "execution_count": null,
   "metadata": {},
   "outputs": [],
   "source": [
    "100*sum(ds)/len(fragments)"
   ]
  },
  {
   "cell_type": "code",
   "execution_count": null,
   "metadata": {},
   "outputs": [],
   "source": [
    "100*sum(ds_ph)/sum(ds)"
   ]
  },
  {
   "cell_type": "code",
   "execution_count": null,
   "metadata": {},
   "outputs": [],
   "source": [
    "ss_base = query(chaindata, chainschema, fragments[ss], contact_parts, \"interface_protein\", part=\"base\")"
   ]
  },
  {
   "cell_type": "code",
   "execution_count": null,
   "metadata": {},
   "outputs": [],
   "source": [
    "ss_sug = query(chaindata, chainschema, fragments[ss], contact_parts, \"interface_protein\", part=\"sug\")"
   ]
  },
  {
   "cell_type": "code",
   "execution_count": null,
   "metadata": {},
   "outputs": [],
   "source": [
    "counts={}\n",
    "for part in [\"ph\",\"sug\", \"base\"]:\n",
    "    for statename, state in zip([\"ss\",\"ds\"],[ss, ds]):\n",
    "        print(part, statename)\n",
    "        counts[statename, part] = np.array(query(chaindata, chainschema, fragments[state], contact_parts, \"interface_protein\", part))"
   ]
  },
  {
   "cell_type": "code",
   "execution_count": null,
   "metadata": {},
   "outputs": [],
   "source": [
    "sum(counts[\"ss\",\"base\"])"
   ]
  },
  {
   "cell_type": "code",
   "execution_count": null,
   "metadata": {},
   "outputs": [],
   "source": [
    "ss_contact = sum([sum(counts[\"ss\",i]) for i in [\"sug\", \"ph\", \"base\"]])"
   ]
  },
  {
   "cell_type": "code",
   "execution_count": null,
   "metadata": {},
   "outputs": [],
   "source": [
    "ds_contact = sum([sum(counts[\"ds\",i]) for i in [\"sug\", \"ph\", \"base\"]])"
   ]
  },
  {
   "cell_type": "code",
   "execution_count": null,
   "metadata": {},
   "outputs": [],
   "source": [
    "def sum_bool(counts, statename):\n",
    "    mask = counts[statename,\"sug\"] | counts[statename,\"ph\"] | counts[statename,\"base\"]\n",
    "    print(len(mask))\n",
    "    return sum(mask)"
   ]
  },
  {
   "cell_type": "code",
   "execution_count": null,
   "metadata": {},
   "outputs": [],
   "source": [
    "ds_all=sum_bool(counts, \"ds\")\n",
    "ss_all=sum_bool(counts, \"ss\")"
   ]
  },
  {
   "cell_type": "code",
   "execution_count": null,
   "metadata": {},
   "outputs": [],
   "source": [
    "ds_all"
   ]
  },
  {
   "cell_type": "code",
   "execution_count": null,
   "metadata": {},
   "outputs": [],
   "source": [
    "ss_all"
   ]
  },
  {
   "cell_type": "code",
   "execution_count": null,
   "metadata": {},
   "outputs": [],
   "source": [
    "100*sum(counts[\"ss\",\"base\"])/ss_all"
   ]
  },
  {
   "cell_type": "code",
   "execution_count": null,
   "metadata": {},
   "outputs": [],
   "source": [
    "100*sum(counts[\"ds\",\"base\"])/ds_all"
   ]
  },
  {
   "cell_type": "code",
   "execution_count": null,
   "metadata": {},
   "outputs": [],
   "source": [
    "100*sum(counts[\"ss\",\"ph\"])/ss_all"
   ]
  },
  {
   "cell_type": "code",
   "execution_count": null,
   "metadata": {},
   "outputs": [],
   "source": [
    "100*sum(counts[\"ds\",\"ph\"])/ds_all"
   ]
  },
  {
   "cell_type": "code",
   "execution_count": null,
   "metadata": {},
   "outputs": [],
   "source": [
    "100*sum(counts[\"ss\",\"sug\"])/ss_all"
   ]
  },
  {
   "cell_type": "code",
   "execution_count": null,
   "metadata": {},
   "outputs": [],
   "source": [
    "100*sum(counts[\"ds\",\"sug\"])/ds_all"
   ]
  },
  {
   "cell_type": "code",
   "execution_count": null,
   "metadata": {},
   "outputs": [],
   "source": [
    "sum(counts[\"ss\",\"base\"])"
   ]
  },
  {
   "cell_type": "code",
   "execution_count": null,
   "metadata": {},
   "outputs": [],
   "source": [
    "ss_all - sum(counts[\"ss\",\"base\"])"
   ]
  },
  {
   "cell_type": "code",
   "execution_count": null,
   "metadata": {},
   "outputs": [],
   "source": [
    "sum(counts[\"ds\",\"base\"])"
   ]
  },
  {
   "cell_type": "code",
   "execution_count": null,
   "metadata": {},
   "outputs": [],
   "source": [
    "ds_all - sum(counts[\"ds\",\"base\"])"
   ]
  },
  {
   "cell_type": "code",
   "execution_count": null,
   "metadata": {},
   "outputs": [],
   "source": [
    "from scipy.stats import fisher_exact\n",
    "a=[[22043, 7248],[68126, 48909]]\n",
    "fisher_exact(a)"
   ]
  },
  {
   "cell_type": "code",
   "execution_count": null,
   "metadata": {},
   "outputs": [],
   "source": [
    "p = \"ph\"\n",
    "a = sum(counts[\"ss\",p])\n",
    "b = ss_all - sum(counts[\"ss\",p])\n",
    "c = sum(counts[\"ds\",p])\n",
    "d = ds_all - sum(counts[\"ds\",p])\n",
    "table = [[a,b],[c,d]]\n",
    "fisher_exact(table)"
   ]
  },
  {
   "cell_type": "code",
   "execution_count": null,
   "metadata": {},
   "outputs": [],
   "source": [
    "stats={ \"ph\":[100*sum(counts[\"ss\",\"ph\"])/ss_all, 100*sum(counts[\"ds\",\"ph\"])/ds_all],\n",
    "       \"sug\":[100*sum(counts[\"ss\",\"sug\"])/ss_all, 100*sum(counts[\"ds\",\"sug\"])/ds_all],\n",
    "       \"base\": [100*sum(counts[\"ss\",\"base\"])/ss_all, 100*sum(counts[\"ds\",\"base\"])/ds_all] }"
   ]
  },
  {
   "cell_type": "code",
   "execution_count": null,
   "metadata": {},
   "outputs": [],
   "source": [
    "stats"
   ]
  },
  {
   "cell_type": "code",
   "execution_count": null,
   "metadata": {},
   "outputs": [],
   "source": [
    "frag20=fragments[:10]\n",
    "frag20"
   ]
  },
  {
   "cell_type": "code",
   "execution_count": null,
   "metadata": {},
   "outputs": [],
   "source": [
    "import pandas as pd\n",
    "pd.DataFrame.from_records(frag20[\"\"])"
   ]
  },
  {
   "cell_type": "code",
   "execution_count": null,
   "metadata": {},
   "outputs": [],
   "source": []
  },
  {
   "cell_type": "code",
   "execution_count": null,
   "metadata": {},
   "outputs": [],
   "source": [
    "mask1=(fragments[\"seq\"]== b'ACU')\n",
    "mask2=(fragments[\"structure\"]==b'1OOA')\n",
    "frag=fragments[mask1&mask2][-1]"
   ]
  },
  {
   "cell_type": "code",
   "execution_count": null,
   "metadata": {},
   "outputs": [],
   "source": [
    "r=query_one_frag(chaindata, chainschema, frag, \"interface_protein\", \"ph\")\n",
    "contact_parts(r)"
   ]
  },
  {
   "cell_type": "markdown",
   "metadata": {},
   "source": [
    "# Question 2\n",
    "For single-stranded fragments where the middle residue contacts with the phosphate,\n",
    " how many stacking interactions does it make with neighboring bases?"
   ]
  },
  {
   "cell_type": "code",
   "execution_count": 8,
   "metadata": {},
   "outputs": [],
   "source": [
    "# Select single-stranded fragments\n",
    "ss = query(chaindata, chainschema, fragments, is_ss, \"ss\", part=None)\n",
    "frag_ss = fragments[ss]\n",
    "\n",
    "# mask (True or False for every fragment in frag_ss) on frags with central nucl in contact with prot via ph\n",
    "ss_ph = np.array(query(chaindata, chainschema, frag_ss, contact_parts, \"interface_protein\", part=\"ph\"))"
   ]
  },
  {
   "cell_type": "code",
   "execution_count": 9,
   "metadata": {},
   "outputs": [],
   "source": [
    "frag_ss = fragments[ss]\n",
    "# mask on frag_ss with central base stacking with base n-1\n",
    "ss_stackprev = query(chaindata, chainschema, frag_ss, contact_parts, \"stacking\", pos=\"n-1\")"
   ]
  },
  {
   "cell_type": "code",
   "execution_count": 10,
   "metadata": {},
   "outputs": [],
   "source": [
    "# mask on frag_ss with central base stacking with base n+1\n",
    "ss_stacknext = query(chaindata, chainschema, frag_ss, contact_parts, \"stacking\", pos=\"n+1\")"
   ]
  },
  {
   "cell_type": "code",
   "execution_count": 11,
   "metadata": {},
   "outputs": [
    {
     "name": "stdout",
     "output_type": "stream",
     "text": [
      "7599 7547\n"
     ]
    }
   ],
   "source": [
    "a = sum(ss_stacknext)\n",
    "b = sum(ss_stackprev)\n",
    "print(a, b)"
   ]
  },
  {
   "cell_type": "code",
   "execution_count": 12,
   "metadata": {},
   "outputs": [],
   "source": [
    "ss_stack = np.array(ss_stackprev,int)+np.array(ss_stacknext,int)"
   ]
  },
  {
   "cell_type": "code",
   "execution_count": 13,
   "metadata": {},
   "outputs": [],
   "source": [
    "#number of stack for each frag_ss that bind via ph\n",
    "stack_ph = ss_stack[ss_ph]\n",
    "\n",
    "#number of stack for each frag_ss that does not bind via ph\n",
    "stack_noph = ss_stack[~ss_ph]"
   ]
  },
  {
   "cell_type": "code",
   "execution_count": 21,
   "metadata": {},
   "outputs": [],
   "source": [
    "import numpy as np\n",
    "data1 = np.unique(stack_ph,return_counts=True)\n",
    "a1 = data1[1][0] + data1[1][1]\n",
    "b1 = data1[1][2]"
   ]
  },
  {
   "cell_type": "code",
   "execution_count": 22,
   "metadata": {},
   "outputs": [],
   "source": [
    "data2 = np.unique(stack_noph,return_counts=True)\n",
    "a2 = data2[1][0] + data2[1][1]\n",
    "b2 = data2[1][2]"
   ]
  },
  {
   "cell_type": "code",
   "execution_count": 19,
   "metadata": {},
   "outputs": [
    {
     "data": {
      "text/plain": [
       "45960"
      ]
     },
     "execution_count": 19,
     "metadata": {},
     "output_type": "execute_result"
    }
   ],
   "source": [
    "len(ss_ph)"
   ]
  },
  {
   "cell_type": "code",
   "execution_count": 26,
   "metadata": {},
   "outputs": [
    {
     "data": {
      "text/plain": [
       "array([0, 0, 0, ..., 0, 0, 1])"
      ]
     },
     "execution_count": 26,
     "metadata": {},
     "output_type": "execute_result"
    }
   ],
   "source": [
    "stack_ph"
   ]
  },
  {
   "cell_type": "code",
   "execution_count": 23,
   "metadata": {},
   "outputs": [
    {
     "data": {
      "text/plain": [
       "(1.3071722310014893, 1.7252797645237667e-14)"
      ]
     },
     "execution_count": 23,
     "metadata": {},
     "output_type": "execute_result"
    }
   ],
   "source": [
    "from scipy.stats import fisher_exact\n",
    "table = [[a1,b1],  [a2,b2]]\n",
    "fisher_exact(table)"
   ]
  },
  {
   "cell_type": "code",
   "execution_count": 62,
   "metadata": {},
   "outputs": [
    {
     "name": "stdout",
     "output_type": "stream",
     "text": [
      "6.89806503092\n",
      "8.82986360373\n"
     ]
    }
   ],
   "source": [
    "# percent of [frag_ss binding by phosphate] that has 2 stackings\n",
    "print(np.sum(stack_ph==2)/len(stack_ph)*100)\n",
    "# percent of [frag_ss binding by non-phosphate] that has 2 stackings\n",
    "print(np.sum(stack_noph==2)/len(stack_noph)*100)"
   ]
  },
  {
   "cell_type": "code",
   "execution_count": 64,
   "metadata": {},
   "outputs": [
    {
     "data": {
      "text/plain": [
       "7.7763272410791995"
      ]
     },
     "execution_count": 64,
     "metadata": {},
     "output_type": "execute_result"
    }
   ],
   "source": [
    "# percent of frag_ss with 2 stackings\n",
    "(ss_stack==2).sum()/len(frag_ss)*100"
   ]
  },
  {
   "cell_type": "code",
   "execution_count": 66,
   "metadata": {},
   "outputs": [
    {
     "data": {
      "text/plain": [
       "54.536553524804177"
      ]
     },
     "execution_count": 66,
     "metadata": {},
     "output_type": "execute_result"
    }
   ],
   "source": [
    "# percent of binding frag_ss that binds via ph\n",
    "sum(ss_ph)/len(frag_ss)*100"
   ]
  },
  {
   "cell_type": "code",
   "execution_count": 37,
   "metadata": {},
   "outputs": [],
   "source": [
    "%run query\n",
    "ss_ph_3p5 = query(chaindata, chainschema, fragments[ss], set_contact_parts(3.5), \"interface_protein\", part=\"ph\")"
   ]
  },
  {
   "cell_type": "code",
   "execution_count": 40,
   "metadata": {},
   "outputs": [
    {
     "data": {
      "text/plain": [
       "15365"
      ]
     },
     "execution_count": 40,
     "metadata": {},
     "output_type": "execute_result"
    }
   ],
   "source": [
    "sum(ss_ph_3p5)"
   ]
  },
  {
   "cell_type": "code",
   "execution_count": 41,
   "metadata": {},
   "outputs": [
    {
     "data": {
      "text/plain": [
       "25065"
      ]
     },
     "execution_count": 41,
     "metadata": {},
     "output_type": "execute_result"
    }
   ],
   "source": [
    "sum(ss_ph)"
   ]
  },
  {
   "cell_type": "code",
   "execution_count": null,
   "metadata": {},
   "outputs": [],
   "source": [
    "# percent of [frag_ss with <3.5 phosphate] that has 2 stackings\n",
    "print(np.sum(stack_ph==2)/len(stack_ph)*100)\n",
    "# percent of [frag_ss with >3.5 phosphate] that has 2 stackings\n",
    "print(np.sum(stack_noph==2)/len(stack_noph)*100)"
   ]
  }
 ],
 "metadata": {
  "kernelspec": {
   "display_name": "Python 3",
   "language": "python",
   "name": "python3"
  },
  "language_info": {
   "codemirror_mode": {
    "name": "ipython",
    "version": 3
   },
   "file_extension": ".py",
   "mimetype": "text/x-python",
   "name": "python",
   "nbconvert_exporter": "python",
   "pygments_lexer": "ipython3",
   "version": "3.5.2"
  }
 },
 "nbformat": 4,
 "nbformat_minor": 2
}
