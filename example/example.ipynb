{
 "cells": [
  {
   "cell_type": "markdown",
   "metadata": {},
   "source": [
    "# How to use ProtNAff\n",
    "\n",
    "This notebook will help you to understand how to use ProtNAff.\n",
    "\n",
    "First to check if you made the installation a test on the `$PROTNAFF` env variable is made and if you have successfully installed `x3dna-dssr`."
   ]
  },
  {
   "cell_type": "code",
   "execution_count": 1,
   "metadata": {},
   "outputs": [
    {
     "name": "stdout",
     "output_type": "stream",
     "text": [
      "The installation seems correct.\n"
     ]
    }
   ],
   "source": [
    "%%bash \n",
    "\n",
    "if [[ -z \"$PROTNAFF\" ]]; then\n",
    "    echo \"You did not do the installation correctly, please refer to the INSTALLATION.md\"\n",
    "else\n",
    "    if [[ -f \"$PATH/x3dna-dssr\" ]]; then\n",
    "        echo \"x3dna-dssr is not correctly installed.\"\n",
    "    else\n",
    "        echo \"The installation seems correct.\"\n",
    "    fi\n",
    "fi"
   ]
  },
  {
   "cell_type": "markdown",
   "metadata": {},
   "source": [
    "### Creation of the NA-protein database\n",
    "\n",
    "The first step is to create your `structures.json`. To do this you need a list of pdb id, for the instance we give you a small list."
   ]
  },
  {
   "cell_type": "code",
   "execution_count": 26,
   "metadata": {},
   "outputs": [
    {
     "name": "stdout",
     "output_type": "stream",
     "text": [
      "1AQ3\r\n",
      "1A34\r\n",
      "1A1T\r\n",
      "1A4T\r\n",
      "1B23\r\n",
      "1ASY\r\n",
      "1AUD\r\n",
      "1A9N\r\n"
     ]
    }
   ],
   "source": [
    "!cd $PROTNAFF/example && cat pdbcode_test.list"
   ]
  },
  {
   "cell_type": "markdown",
   "metadata": {},
   "source": [
    "The creation of the database is done by:\n",
    "`bash $PROTNAFF/create_database.sh [pdbcodes.list] [\"dna\"/\"rna\"]`\n",
    "\n",
    "The steps performed by create_database.sh are the following:\n",
    "\n",
    "* download all protein-NA structures from the PDB\n",
    "\n",
    "* extract relevant information units on each structure (resolution, NA type, etc) and store it into one single easiliy-searchable json file.\n",
    "\n",
    "* clean up each structure (add missing atoms, list incomplete nucleotides, list HETATM, etc)\n",
    "\n",
    "* characterize the interface (sugar/phosphate/base - protein distances, water contacts, etc)\n",
    "\n",
    "* use the 3DNA program [1] for NA structure description that gives exhaustive data in easily parsable Json format\n",
    "\n",
    "* rearrange the data per nucleotide (eg. “nucl 5 to 15 make a stem-loop” → “nucl 5 is at position 1 in an 11-nucl stem-loop”)\n",
    "\n",
    "[1] X-J Lu & WK Olson. 3DNA: a software package for the analysis, rebuilding and visualization of three‐dimensional nucleic acid structures. Nucleic Acids Research (2003) 31(17), 5108-21\n",
    "\n",
    "With the list we provided you can run the `create_database.sh` script."
   ]
  },
  {
   "cell_type": "code",
   "execution_count": 47,
   "metadata": {},
   "outputs": [
    {
     "name": "stdout",
     "output_type": "stream",
     "text": [
      "---------------------------- Download PDBs\n",
      "-------------------------- check pdb\n",
      "-------------------------- detect NA - protein interface \n",
      "---------------------------------  parse initial pdb\n",
      "clean_rna.json dumped\n",
      "--------------------------------- Fill-up missing atoms \n",
      "-------------------------------- apply 3dna\n"
     ]
    }
   ],
   "source": [
    "!mkdir -p $PROTNAFF/example/full_test\n",
    "!cd $PROTNAFF/example/full_test && bash $PROTNAFF/create_database.sh $PROTNAFF/example/pdbcode_test.list rna"
   ]
  },
  {
   "cell_type": "markdown",
   "metadata": {},
   "source": [
    "This command is creating a lot of files and folder where you run it, pay attention to where you want to have your results. To give you more details, the folders are:\n",
    "* brutPDBs: the pdb files downloaded from the PDB (link);\n",
    "* chainmodels: files about the chains in the pdb;\n",
    "* cleanPDB: the pdb after several modifications;\n",
    "* interface: the file about the interface between the protein and the NA;\n",
    "* 3dna: the results of x3DNA.\n",
    "\n",
    "But what you need to look at is the `structures.json`, and you can only use this one if you want. The next cell is looking at this file in details."
   ]
  },
  {
   "cell_type": "code",
   "execution_count": 4,
   "metadata": {},
   "outputs": [
    {
     "name": "stdout",
     "output_type": "stream",
     "text": [
      "Structures : ['1A1T', '1A34', '1A4T', '1A9N', '1AQ3', '1ASY', '1AUD', '1B23']\n",
      "For each structures you have information in those keys: ['NAprot_hb', 'NAprot_hb_sum', 'Nmodels', 'bptype', 'breaks', 'canonized', 'hetnames', 'interface_hetatoms', 'interface_protein', 'intraNA_hb', 'mapping', 'method', 'missing_atoms', 'nachains', 'protchains', 'resolution', 'sequence', 'ss', 'stacking']\n"
     ]
    }
   ],
   "source": [
    "import json\n",
    "\n",
    "structures = json.load(open(\"./full_test/structures.json\"))\n",
    "\n",
    "print(\"Structures :\", list(structures.keys()))\n",
    "\n",
    "print(\"For each structures you have information in those keys: {}\".format(list(structures['1A9N'].keys())))"
   ]
  },
  {
   "cell_type": "markdown",
   "metadata": {},
   "source": [
    "If you want more informations on the content of `structures.json` please look at the paper (link)."
   ]
  },
  {
   "cell_type": "markdown",
   "metadata": {},
   "source": [
    "### Requests to select (parts of) structures from the database\n",
    "\n",
    "We created filters in python, but as the `.json` format is standard you can use the langage you want. Here we will use the filter to select part of RNA in contact with the protein and single-stranded.\n",
    "\n",
    "The results will be print in a particular format, there is 3 information:\n",
    "* The pdb id\n",
    "* The RNA chain\n",
    "* The list of ss nucleotides in contact, but be carreful, the numbers are the new numbers given by `create_database.sh`. If you want the numbers from the original pdb, you need to use the mapping in the `structures.json`"
   ]
  },
  {
   "cell_type": "code",
   "execution_count": 5,
   "metadata": {},
   "outputs": [
    {
     "name": "stdout",
     "output_type": "stream",
     "text": [
      "1A1T B []\n",
      "1A34 B []\n",
      "1A34 C []\n",
      "1A4T A []\n",
      "1A9N Q [6, 7, 8, 9, 10, 11, 12, 13, 14, 16, 17, 18]\n",
      "1A9N R [6, 7, 8, 9, 10, 11, 12, 13, 14, 16, 17, 18]\n",
      "1AQ3 R [7, 8, 9, 10]\n",
      "1AQ3 S [6, 7, 8, 9]\n",
      "1ASY R [26, 32, 33, 34, 35, 36, 37, 38, 72, 73, 74, 75]\n",
      "1ASY S [26, 32, 33, 34, 35, 36, 37, 38, 72, 73, 74, 75]\n",
      "1AUD B []\n",
      "1B23 R [52, 71, 72, 73, 74]\n"
     ]
    }
   ],
   "source": [
    "!cd $PROTNAFF/example/full_test\n",
    "!python $PROTNAFF/create_benchmark/filters/ss_contact_filter.py structures.json"
   ]
  },
  {
   "cell_type": "markdown",
   "metadata": {},
   "source": [
    "### Creation of the fragment library\n",
    "\n",
    "The next step is the creation of the fragment library. You need to use the `create_frag_library.sh` script in the folder where you runned the `create_database.sh` script.\n",
    "\n",
    "Usage: `$PROTNAFF/create_frag_library.sh [\"dna\"/\"rna\"]`\n",
    "\n",
    "The protein-bound NA structures are cut into fragments (here trinucleotides), that are pooled by sequence and clustered by pairwise RMSD.\n",
    "\n",
    "To increase the number of fragments per sequence motif, the full structures are mutated T/U > C and G > A (ex. AGU becomes AAC), and the representative fragments after clustering are mutated back into the 8 possible \"de-mutated\" sequence (AAC => AAC, GAC, GGC, GGU, AGC, AGU, AAU, GAU).\n",
    "\n",
    "To accelerate clustering, the fragments are first converted into ATTRACT's coarse-grained representation. The resulting clustering scheme is then applied to the all-atom fragments."
   ]
  },
  {
   "cell_type": "code",
   "execution_count": 6,
   "metadata": {
    "scrolled": true
   },
   "outputs": [
    {
     "name": "stdout",
     "output_type": "stream",
     "text": [
      "-------------------------------- mutate pdb files\n",
      "-------------------------------- cut into fragments\n",
      "create_template\n",
      "-------------------------------- fragments clustering\n",
      "create PDB fragments (for mutating) from clust1.0, CCC\n",
      "Convert CCC library into coarse-grained\n",
      "create PDB fragments (for mutating) from clust1.0, CCA\n",
      "Convert CCA library into coarse-grained\n",
      "create PDB fragments (for mutating) from clust1.0, CAC\n",
      "Convert CAC library into coarse-grained\n",
      "create PDB fragments (for mutating) from clust1.0, CAA\n",
      "Convert CAA library into coarse-grained\n",
      "create PDB fragments (for mutating) from clust1.0, ACC\n",
      "Convert ACC library into coarse-grained\n",
      "create PDB fragments (for mutating) from clust1.0, ACA\n",
      "Convert ACA library into coarse-grained\n",
      "create PDB fragments (for mutating) from clust1.0, AAC\n",
      "Convert AAC library into coarse-grained\n",
      "create PDB fragments (for mutating) from clust1.0, AAA\n",
      "Convert AAA library into coarse-grained\n",
      "-------------------------------- mutate back into all sequences\n",
      "AAA\n",
      "AAC\n",
      "ACA\n",
      "ACC\n",
      "CAA\n",
      "CAC\n",
      "CCA\n",
      "CCC\n"
     ]
    },
    {
     "name": "stderr",
     "output_type": "stream",
     "text": [
      "1A1T\n",
      "1A34\n",
      "1A4T\n",
      "1A9N\n",
      "1AQ3\n",
      "1ASY\n",
      "1AUD\n",
      "1B23\n",
      "CCC: 60 atoms, 223 structures\n",
      "CCA: 62 atoms, 203 structures\n",
      "CAC: 62 atoms, 197 structures\n",
      "CAA: 64 atoms, 215 structures\n",
      "ACC: 62 atoms, 256 structures\n",
      "ACA: 64 atoms, 212 structures\n",
      "AAC: 64 atoms, 272 structures\n",
      "AAA: 66 atoms, 302 structures\n",
      "Discarde redundant fragments of CCA with RMSD < 0.2 A toward another fragment\n",
      "Discarde redundant fragments of CAC with RMSD < 0.2 A toward another fragment\n",
      "Discarde redundant fragments of CAA with RMSD < 0.2 A toward another fragment\n",
      "Discarde redundant fragments of ACC with RMSD < 0.2 A toward another fragment\n",
      "Discarde redundant fragments of ACA with RMSD < 0.2 A toward another fragment\n",
      "Discarde redundant fragments of AAC with RMSD < 0.2 A toward another fragment\n",
      "Discarde redundant fragments of AAA with RMSD < 0.2 A toward another fragment\n",
      "Discarde redundant fragments of CCC with RMSD < 0.2 A toward another fragment\n",
      "-------------------------------------------------\n",
      "Cluster ACC large (2.0 A); then tight (1.0 A)\n",
      "-------------------------------------------------\n",
      "cluster ACC large ACC (2.0 A)\n",
      "-------------------------------------------------\n",
      "Cluster CAC large (2.0 A); then tight (1.0 A)\n",
      "-------------------------------------------------\n",
      "cluster CAC large CAC (2.0 A)\n",
      "-------------------------------------------------\n",
      "Cluster CCC large (2.0 A); then tight (1.0 A)\n",
      "-------------------------------------------------\n",
      "cluster CCC large CCC (2.0 A)\n",
      "-------------------------------------------------\n",
      "Cluster CAA large (2.0 A); then tight (1.0 A)\n",
      "-------------------------------------------------\n",
      "cluster CAA large CAA (2.0 A)\n",
      "-------------------------------------------------\n",
      "Cluster ACA large (2.0 A); then tight (1.0 A)\n",
      "-------------------------------------------------\n",
      "cluster ACA large ACA (2.0 A)\n",
      "-------------------------------------------------\n",
      "Cluster CCA large (2.0 A); then tight (1.0 A)\n",
      "-------------------------------------------------\n",
      "cluster CCA large CCA (2.0 A)\n",
      "-------------------------------------------------\n",
      "Cluster AAA large (2.0 A); then tight (1.0 A)\n",
      "-------------------------------------------------\n",
      "cluster AAA large AAA (2.0 A)\n",
      "-------------------------------------------------\n",
      "Cluster AAC large (2.0 A); then tight (1.0 A)\n",
      "-------------------------------------------------\n",
      "cluster AAC large AAC (2.0 A)\n",
      "cluster CAA tight CAA (1.0 A)\n",
      "cluster CAC tight CAC (1.0 A)\n",
      "cluster ACC tight ACC (1.0 A)\n",
      "cluster ACA tight ACA (1.0 A)\n",
      "cluster CCA tight CCA (1.0 A)\n",
      "cluster AAA tight AAA (1.0 A)\n",
      "cluster CCC tight CCC (1.0 A)\n",
      "cluster AAC tight AAC (1.0 A)\n",
      "0\n",
      "0\n",
      "0\n",
      "0\n",
      "0\n",
      "0\n",
      "0\n",
      "0\n",
      "30\n",
      "29\n",
      "21\n",
      "25\n",
      "25\n",
      "18\n",
      "37\n",
      "36\n",
      "CCC\n",
      "CCC-aa-fit-clust0.2\n",
      "CCC-dr0.2r-clust1.0\n",
      "CCC-dr0.2r-clust1.0-clust3.0\n",
      "CCA\n",
      "CCA-aa-fit-clust0.2\n",
      "CCA-dr0.2r-clust1.0\n",
      "CCA-dr0.2r-clust1.0-clust3.0\n",
      "CAC\n",
      "CAC-aa-fit-clust0.2\n",
      "CAC-dr0.2r-clust1.0\n",
      "CAC-dr0.2r-clust1.0-clust3.0\n",
      "CAA\n",
      "CAA-aa-fit-clust0.2\n",
      "CAA-dr0.2r-clust1.0\n",
      "CAA-dr0.2r-clust1.0-clust3.0\n",
      "ACC\n",
      "ACC-aa-fit-clust0.2\n",
      "ACC-dr0.2r-clust1.0\n",
      "ACC-dr0.2r-clust1.0-clust3.0\n",
      "ACA\n",
      "ACA-aa-fit-clust0.2\n",
      "ACA-dr0.2r-clust1.0\n",
      "ACA-dr0.2r-clust1.0-clust3.0\n",
      "AAC\n",
      "AAC-aa-fit-clust0.2\n",
      "AAC-dr0.2r-clust1.0\n",
      "AAC-dr0.2r-clust1.0-clust3.0\n",
      "AAA\n",
      "AAA-aa-fit-clust0.2\n",
      "AAA-dr0.2r-clust1.0\n",
      "AAA-dr0.2r-clust1.0-clust3.0\n",
      "36\n",
      "36\n",
      "36\n",
      "36\n",
      "36\n",
      "36\n",
      "36\n",
      "37\n",
      "37\n",
      "37\n",
      "37\n",
      "37\n",
      "37\n",
      "37\n",
      "18\n",
      "18\n",
      "18\n",
      "18\n",
      "18\n",
      "18\n",
      "18\n",
      "25\n",
      "25\n",
      "25\n",
      "25\n",
      "25\n",
      "25\n",
      "25\n",
      "25\n",
      "25\n",
      "25\n",
      "25\n",
      "25\n",
      "25\n",
      "25\n",
      "21\n",
      "21\n",
      "21\n",
      "21\n",
      "21\n",
      "21\n",
      "21\n",
      "29\n",
      "29\n",
      "29\n",
      "29\n",
      "29\n",
      "29\n",
      "29\n",
      "30\n",
      "30\n",
      "30\n",
      "30\n",
      "30\n",
      "30\n",
      "30\n",
      "('rna', 'dr0.2r-clust1.0')\n"
     ]
    }
   ],
   "source": [
    "!cd $PROTNAFF/example/full_test\n",
    "!bash $PROTNAFF/create_frag_library.sh rna"
   ]
  },
  {
   "cell_type": "markdown",
   "metadata": {},
   "source": [
    "For the moment the fragment libraries are only trinucleotides. But we are working on the creation of double-stranded libraries and if you need something specific you can ask us"
   ]
  },
  {
   "cell_type": "markdown",
   "metadata": {},
   "source": [
    "### Test of the installation\n",
    "\n",
    "To check if the installation is correct compare the graph that you will obtain with the one in `notebook_name`.\n",
    "\n",
    "There is also a comparison of md5sum between the different `.json`"
   ]
  },
  {
   "cell_type": "code",
   "execution_count": 8,
   "metadata": {},
   "outputs": [
    {
     "data": {
      "image/png": "[encoded data removed]",
      "text/plain": [
       "<Figure size 432x288 with 1 Axes>"
      ]
     },
     "metadata": {
      "needs_background": "light"
     },
     "output_type": "display_data"
    }
   ],
   "source": [
    "import matplotlib.pyplot as plt\n",
    "\n",
    "with open(\"./full_test/trilib/AAA-dr0.2r-clust1.0\") as ff:\n",
    "    lines = ff.readlines()\n",
    "\n",
    "res = {}\n",
    "for line in lines:\n",
    "    line = line.split(' ')\n",
    "    len_line = len(line) - 4\n",
    "    if len_line in res.keys():\n",
    "        res[len_line] += 1\n",
    "    else:\n",
    "        res[len_line] = 1\n",
    "        \n",
    "fig, ax = plt.subplots()\n",
    "ax.scatter(res.keys(), res.values())\n",
    "%config InlineBackend.print_figure_kwargs={'facecolor' : \"w\"}\n",
    "ax.set_xscale(\"log\")\n",
    "ax.set_yscale(\"log\")\n",
    "ax.yaxis.set_tick_params(labelcolor=\"black\")\n",
    "ax.xaxis.set_tick_params(labelcolor=\"black\")\n",
    "plt.ylabel(\"Number of clusters\", color=\"black\")\n",
    "plt.xlabel(\"Number of conformations in the cluster\", color=\"black\")\n",
    "plt.show()"
   ]
  }
 ],
 "metadata": {
  "kernelspec": {
   "display_name": "Python 3",
   "language": "python",
   "name": "python3"
  },
  "language_info": {
   "codemirror_mode": {
    "name": "ipython",
    "version": 3
   },
   "file_extension": ".py",
   "mimetype": "text/x-python",
   "name": "python",
   "nbconvert_exporter": "python",
   "pygments_lexer": "ipython3",
   "version": "3.6.13"
  }
 },
 "nbformat": 4,
 "nbformat_minor": 4
}
