{
 "cells": [
  {
   "cell_type": "markdown",
   "metadata": {},
   "source": [
    "## Test Notebook\n",
    "\n",
    "This notebook is a test. It is running a quick calculation on one file inside the `example` folder. The idea is to compare what you obtain here and the last result in the `example.ipynb` notebook."
   ]
  },
  {
   "cell_type": "code",
   "execution_count": 3,
   "metadata": {},
   "outputs": [
    {
     "data": {
      "image/png": "[encoded data removed]",
      "text/plain": [
       "<Figure size 432x288 with 1 Axes>"
      ]
     },
     "metadata": {
      "needs_background": "light"
     },
     "output_type": "display_data"
    }
   ],
   "source": [
    "import matplotlib.pyplot as plt\n",
    "\n",
    "with open(\"./AAA-dr0.2r-clust1.0\") as ff:\n",
    "    lines = ff.readlines()\n",
    "\n",
    "res = {}\n",
    "for line in lines:\n",
    "    line = line.split(' ')\n",
    "    len_line = len(line) - 4\n",
    "    if len_line in res.keys():\n",
    "        res[len_line] += 1\n",
    "    else:\n",
    "        res[len_line] = 1\n",
    "        \n",
    "fig, ax = plt.subplots()\n",
    "ax.scatter(res.keys(), res.values())\n",
    "%config InlineBackend.print_figure_kwargs={'facecolor' : \"w\"}\n",
    "ax.set_xscale(\"log\")\n",
    "ax.set_yscale(\"log\")\n",
    "ax.yaxis.set_tick_params(labelcolor=\"black\")\n",
    "ax.xaxis.set_tick_params(labelcolor=\"black\")\n",
    "plt.ylabel(\"Number of clusters\", color=\"black\")\n",
    "plt.xlabel(\"Number of conformations in the cluster\", color=\"black\")\n",
    "plt.show()"
   ]
  }
 ],
 "metadata": {
  "kernelspec": {
   "display_name": "Python 3",
   "language": "python",
   "name": "python3"
  },
  "language_info": {
   "codemirror_mode": {
    "name": "ipython",
    "version": 3
   },
   "file_extension": ".py",
   "mimetype": "text/x-python",
   "name": "python",
   "nbconvert_exporter": "python",
   "pygments_lexer": "ipython3",
   "version": "3.6.12"
  }
 },
 "nbformat": 4,
 "nbformat_minor": 2
}
