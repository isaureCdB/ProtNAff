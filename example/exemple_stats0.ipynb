{
 "cells": [
  {
   "cell_type": "markdown",
   "metadata": {},
   "source": [
    "# Do ssRNA bind the protein more via the base than dsRNA?"
   ]
  },
  {
   "cell_type": "code",
   "execution_count": 1,
   "metadata": {},
   "outputs": [
    {
     "name": "stdout",
     "output_type": "stream",
     "text": [
      "[u'S', 1, 1]\n"
     ]
    }
   ],
   "source": [
    "# load the json description of each fragment (PDB structure, 2D, sequence...)\n",
    "# load the npy coordinates of each fragment\n",
    "# define the data schema\n",
    "# define query functions\n",
    "%run query.py"
   ]
  },
  {
   "cell_type": "code",
   "execution_count": 20,
   "metadata": {},
   "outputs": [
    {
     "data": {
      "text/plain": [
       "464495"
      ]
     },
     "execution_count": 20,
     "metadata": {},
     "output_type": "execute_result"
    }
   ],
   "source": [
    "len(fragments)"
   ]
  },
  {
   "cell_type": "code",
   "execution_count": 2,
   "metadata": {},
   "outputs": [],
   "source": [
    "# mask all fully single-stranded (\"ss\") fragments\n",
    "ss = query(chaindata, chainschema, fragments, is_ss, \"ss\", part=None)"
   ]
  },
  {
   "cell_type": "code",
   "execution_count": 92,
   "metadata": {
    "scrolled": true
   },
   "outputs": [
    {
     "name": "stdout",
     "output_type": "stream",
     "text": [
      "9 % fragments are fully single-stranded\n"
     ]
    }
   ],
   "source": [
    "percent_ss = 100*sum(ss)/len(fragments)\n",
    "print('%i %% fragments are fully single-stranded'%percent_ss)"
   ]
  },
  {
   "cell_type": "code",
   "execution_count": 5,
   "metadata": {},
   "outputs": [],
   "source": [
    "# mask all fully double-stranded (\"ds\") fragments\n",
    "ds = query(chaindata, chainschema, fragments, is_ds, \"ss\", part=None)"
   ]
  },
  {
   "cell_type": "code",
   "execution_count": 91,
   "metadata": {},
   "outputs": [
    {
     "name": "stdout",
     "output_type": "stream",
     "text": [
      "52 % fragments are fully double-stranded\n"
     ]
    }
   ],
   "source": [
    "percent_ds = 100*sum(ds)/len(fragments)\n",
    "print('%i %% fragments are fully double-stranded'%percent_ds)"
   ]
  },
  {
   "cell_type": "code",
   "execution_count": 81,
   "metadata": {
    "scrolled": true
   },
   "outputs": [],
   "source": [
    "# Select ss/ds fragments which central nucleotide binds via phosphate (\"ph\")\n",
    "ss_ph = query(chaindata, chainschema, fragments[ss], contact_parts, \"interface_protein\", part=\"ph\")\n",
    "ds_ph = query(chaindata, chainschema, fragments[ds], contact_parts, \"interface_protein\", part=\"ph\")"
   ]
  },
  {
   "cell_type": "code",
   "execution_count": 52,
   "metadata": {},
   "outputs": [
    {
     "name": "stdout",
     "output_type": "stream",
     "text": [
      "('ph', 'ss', 25065)\n",
      "('ph', 'ds', 102747)\n",
      "('sug', 'ss', 23699)\n",
      "('sug', 'ds', 86156)\n",
      "('base', 'ss', 22043)\n",
      "('base', 'ds', 68126)\n"
     ]
    }
   ],
   "source": [
    "# Do the same for each nucleotide part\n",
    "masks = {}\n",
    "counts = {}\n",
    "for part in [\"ph\",\"sug\", \"base\"]:\n",
    "    for statename, state in zip([\"ss\",\"ds\"],[ss, ds]):\n",
    "        masks[statename, part] = np.array(query(chaindata, chainschema, fragments[state], contact_parts, \"interface_protein\", part))\n",
    "        counts[statename, part] = sum(masks[statename, part])\n",
    "        print(part, statename, counts[statename, part])"
   ]
  },
  {
   "cell_type": "code",
   "execution_count": 49,
   "metadata": {},
   "outputs": [],
   "source": [
    "# Count number of fragments binding the protein with any nucleotidic part\n",
    "def sum_bool(masks, statename):\n",
    "    mask = masks[statename,\"sug\"] | masks[statename,\"ph\"] | masks[statename,\"base\"]\n",
    "    return sum(mask)"
   ]
  },
  {
   "cell_type": "code",
   "execution_count": 50,
   "metadata": {},
   "outputs": [
    {
     "name": "stdout",
     "output_type": "stream",
     "text": [
      "244526\n",
      "45960\n"
     ]
    }
   ],
   "source": [
    "ds_bound = sum_bool(masks, \"ds\")\n",
    "ss_bound = sum_bool(masks, \"ss\")"
   ]
  },
  {
   "cell_type": "code",
   "execution_count": 96,
   "metadata": {},
   "outputs": [
    {
     "name": "stdout",
     "output_type": "stream",
     "text": [
      "85% of ss bound fragments bind via the ph\n",
      "87% of ds bound fragments bind via the ph\n",
      "80% of ss bound fragments bind via the sug\n",
      "73% of ds bound fragments bind via the sug\n",
      "75% of ss bound fragments bind via the base\n",
      "58% of ds bound fragments bind via the base\n"
     ]
    }
   ],
   "source": [
    "# Count what percentage of ss/ds binding fragments bind via ph/sug/base\n",
    "bound = {\"ds\": ds_bound, \"ss\": ss_bound}\n",
    "percent = {}\n",
    "for part in [\"ph\",\"sug\", \"base\"]:\n",
    "    for statename, state in zip([\"ss\",\"ds\"],[ss, ds]):\n",
    "        percent[statename, part] = 100*sum(masks[statename,part])/bound[statename]\n",
    "        print('%i%% of %s bound fragments bind via the %s'%(percent[statename, part], statename, part))"
   ]
  },
  {
   "cell_type": "markdown",
   "metadata": {},
   "source": [
    "# Are the differences between ssRNA and dsRNA significant?"
   ]
  },
  {
   "cell_type": "code",
   "execution_count": 59,
   "metadata": {},
   "outputs": [],
   "source": [
    "from scipy.stats import fisher_exact\n",
    "def fisher(part):\n",
    "    ss_true = counts[\"ss\",part]\n",
    "    ss_false = ss_bound - counts[\"ss\",part]\n",
    "    ds_true = counts[\"ds\",part]\n",
    "    ds_false = ds_bound - counts[\"ds\",part]\n",
    "    a=[[ss_true, ss_false],[ds_true, ds_false]]\n",
    "    return fisher_exact(a)"
   ]
  },
  {
   "cell_type": "code",
   "execution_count": 66,
   "metadata": {},
   "outputs": [
    {
     "data": {
      "text/plain": [
       "(75, 58)"
      ]
     },
     "execution_count": 66,
     "metadata": {},
     "output_type": "execute_result"
    }
   ],
   "source": [
    "percent[\"ss\",\"base\"], percent[\"ds\",\"base\"]"
   ]
  },
  {
   "cell_type": "code",
   "execution_count": 112,
   "metadata": {},
   "outputs": [
    {
     "name": "stdout",
     "output_type": "stream",
     "text": [
      "ph: 85% ssRNA, 87% dsRNA, ratio 0.8, p-value 0.000000\n",
      "sug: 80% ssRNA, 73% dsRNA, ratio 1.5, p-value 0.000000\n",
      "base: 75% ssRNA, 58% dsRNA, ratio 2.2, p-value 0.000000\n"
     ]
    }
   ],
   "source": [
    "for part in [\"ph\", \"sug\", \"base\"]:\n",
    "    fi, p = fisher(part)\n",
    "    perc_ss = percent[\"ss\",part]\n",
    "    perc_ds = percent[\"ds\",part]\n",
    "    print(\"%s: %s%% ssRNA, %s%% dsRNA, ratio %.1f, p-value %f\"%(part, perc_ss, perc_ds, fi, p))"
   ]
  }
 ],
 "metadata": {
  "kernelspec": {
   "display_name": "Python 2",
   "language": "python",
   "name": "python2"
  },
  "language_info": {
   "codemirror_mode": {
    "name": "ipython",
    "version": 2
   },
   "file_extension": ".py",
   "mimetype": "text/x-python",
   "name": "python",
   "nbconvert_exporter": "python",
   "pygments_lexer": "ipython2",
   "version": "2.7.6"
  }
 },
 "nbformat": 4,
 "nbformat_minor": 2
}
