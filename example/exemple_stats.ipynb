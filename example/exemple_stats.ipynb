{
 "cells": [
  {
   "cell_type": "markdown",
   "metadata": {},
   "source": [
    "# Do ssRNA bind the protein more via the base than dsRNA?"
   ]
  },
  {
   "cell_type": "code",
   "execution_count": 14,
   "metadata": {},
   "outputs": [],
   "source": [
    "# load the json description of each fragment (PDB structure, 2D, sequence...)\n",
    "# load the npy coordinates of each fragment\n",
    "%run ../search_frag_library/load_data.py"
   ]
  },
  {
   "cell_type": "code",
   "execution_count": 21,
   "metadata": {},
   "outputs": [
    {
     "ename": "SyntaxError",
     "evalue": "invalid syntax (query.py, line 42)",
     "output_type": "error",
     "traceback": [
      "\u001b[0;36m  File \u001b[0;32m\"/home/isaure/projets/NAfragDB/search_frag_library/query.py\"\u001b[0;36m, line \u001b[0;32m42\u001b[0m\n\u001b[0;31m    print(starkey[1:], file=sys.stderr)\u001b[0m\n\u001b[0m                           ^\u001b[0m\n\u001b[0;31mSyntaxError\u001b[0m\u001b[0;31m:\u001b[0m invalid syntax\n"
     ]
    }
   ],
   "source": [
    "# define query functions\n",
    "%run ../search_frag_library/query.py\n",
    "%run ../search_frag_library/requests.py"
   ]
  },
  {
   "cell_type": "code",
   "execution_count": 16,
   "metadata": {},
   "outputs": [],
   "source": [
    "# define the data schema\n",
    "%run ../search_frag_library/make_chainschema.py"
   ]
  },
  {
   "cell_type": "code",
   "execution_count": 17,
   "metadata": {},
   "outputs": [
    {
     "data": {
      "text/plain": [
       "464495"
      ]
     },
     "execution_count": 17,
     "metadata": {},
     "output_type": "execute_result"
    }
   ],
   "source": [
    "len(fragments)"
   ]
  },
  {
   "cell_type": "code",
   "execution_count": 19,
   "metadata": {},
   "outputs": [
    {
     "name": "stderr",
     "output_type": "stream",
     "text": [
      "ERROR:root:An unexpected error occurred while tokenizing input\n",
      "The following traceback may be corrupted or invalid\n",
      "The error message is: ('EOF in multi-line string', (1, 4))\n",
      "\n"
     ]
    },
    {
     "ename": "KeyError",
     "evalue": "'pos'",
     "output_type": "error",
     "traceback": [
      "\u001b[0;31m---------------------------------------------------------------------------\u001b[0m",
      "\u001b[0;31mKeyError\u001b[0m                                  Traceback (most recent call last)",
      "\u001b[0;32m<ipython-input-19-7a2d73289f17>\u001b[0m in \u001b[0;36m<module>\u001b[0;34m()\u001b[0m\n\u001b[1;32m      1\u001b[0m \u001b[0;31m# mask all fully single-stranded (\"ss\") fragments\u001b[0m\u001b[0;34m\u001b[0m\u001b[0;34m\u001b[0m\u001b[0m\n\u001b[0;32m----> 2\u001b[0;31m \u001b[0mss\u001b[0m \u001b[0;34m=\u001b[0m \u001b[0mquery\u001b[0m\u001b[0;34m(\u001b[0m\u001b[0mchaindata\u001b[0m\u001b[0;34m,\u001b[0m \u001b[0mchainschema\u001b[0m\u001b[0;34m,\u001b[0m \u001b[0mfragments\u001b[0m\u001b[0;34m,\u001b[0m \u001b[0mis_ss\u001b[0m\u001b[0;34m,\u001b[0m \u001b[0;34m\"ss\"\u001b[0m\u001b[0;34m,\u001b[0m \u001b[0mpart\u001b[0m\u001b[0;34m=\u001b[0m\u001b[0mNone\u001b[0m\u001b[0;34m)\u001b[0m\u001b[0;34m\u001b[0m\u001b[0m\n\u001b[0m",
      "\u001b[0;32m/home/isaure/projets/NAfragDB/search_frag_library/query.py\u001b[0m in \u001b[0;36mquery\u001b[0;34m(chaindata, chainschema, frags, default, name, part, pos)\u001b[0m\n\u001b[1;32m     97\u001b[0m     \u001b[0mdefault_type\u001b[0m \u001b[0;34m=\u001b[0m \u001b[0mdefault\u001b[0m \u001b[0;32mif\u001b[0m \u001b[0misinstance\u001b[0m\u001b[0;34m(\u001b[0m\u001b[0mdefault\u001b[0m\u001b[0;34m,\u001b[0m \u001b[0mtype\u001b[0m\u001b[0;34m)\u001b[0m \u001b[0;32melse\u001b[0m \u001b[0mtype\u001b[0m\u001b[0;34m(\u001b[0m\u001b[0mdefault\u001b[0m\u001b[0;34m)\u001b[0m\u001b[0;34m\u001b[0m\u001b[0m\n\u001b[1;32m     98\u001b[0m     \u001b[0mresult\u001b[0m \u001b[0;34m=\u001b[0m \u001b[0mnp\u001b[0m\u001b[0;34m.\u001b[0m\u001b[0mzeros\u001b[0m\u001b[0;34m(\u001b[0m\u001b[0;34m(\u001b[0m\u001b[0mlen\u001b[0m\u001b[0;34m(\u001b[0m\u001b[0mfrags\u001b[0m\u001b[0;34m)\u001b[0m\u001b[0;34m,\u001b[0m\u001b[0;36m3\u001b[0m\u001b[0;34m)\u001b[0m\u001b[0;34m,\u001b[0m \u001b[0mdtype\u001b[0m\u001b[0;34m=\u001b[0m\u001b[0mdefault_type\u001b[0m\u001b[0;34m)\u001b[0m\u001b[0;34m\u001b[0m\u001b[0m\n\u001b[0;32m---> 99\u001b[0;31m     \u001b[0;32mfor\u001b[0m \u001b[0mnr\u001b[0m\u001b[0;34m,\u001b[0m \u001b[0mfrag\u001b[0m \u001b[0;32min\u001b[0m \u001b[0menumerate\u001b[0m\u001b[0;34m(\u001b[0m\u001b[0mfrags\u001b[0m\u001b[0;34m)\u001b[0m\u001b[0;34m:\u001b[0m\u001b[0;34m\u001b[0m\u001b[0m\n\u001b[0m\u001b[1;32m    100\u001b[0m         \u001b[0mr\u001b[0m \u001b[0;34m=\u001b[0m \u001b[0mquery_one_frag\u001b[0m\u001b[0;34m(\u001b[0m\u001b[0mchaindata\u001b[0m\u001b[0;34m,\u001b[0m \u001b[0mchainschema\u001b[0m\u001b[0;34m,\u001b[0m \u001b[0mfrag\u001b[0m\u001b[0;34m,\u001b[0m \u001b[0mdefault\u001b[0m\u001b[0;34m,\u001b[0m \u001b[0mname\u001b[0m\u001b[0;34m,\u001b[0m \u001b[0mresult\u001b[0m\u001b[0;34m[\u001b[0m\u001b[0mnr\u001b[0m\u001b[0;34m]\u001b[0m\u001b[0;34m,\u001b[0m \u001b[0mpart\u001b[0m\u001b[0;34m,\u001b[0m \u001b[0mpos\u001b[0m\u001b[0;34m)\u001b[0m\u001b[0;34m\u001b[0m\u001b[0m\n\u001b[1;32m    101\u001b[0m     \u001b[0;32mreturn\u001b[0m \u001b[0mresult\u001b[0m\u001b[0;34m\u001b[0m\u001b[0m\n",
      "\u001b[0;32m/home/isaure/projets/NAfragDB/search_frag_library/query.py\u001b[0m in \u001b[0;36mquery_one_frag\u001b[0;34m(chaindata, chainschema, frag, default, name, result, part, pos)\u001b[0m\n\u001b[1;32m     81\u001b[0m         variables.update({\n\u001b[1;32m     82\u001b[0m             \u001b[0;34m\"res\"\u001b[0m\u001b[0;34m:\u001b[0m \u001b[0mstr\u001b[0m\u001b[0;34m(\u001b[0m\u001b[0mfrag\u001b[0m\u001b[0;34m[\u001b[0m\u001b[0;34m\"indices\"\u001b[0m\u001b[0;34m]\u001b[0m\u001b[0;34m[\u001b[0m\u001b[0mn\u001b[0m\u001b[0;34m]\u001b[0m\u001b[0;34m)\u001b[0m\u001b[0;34m,\u001b[0m\u001b[0;34m\u001b[0m\u001b[0m\n\u001b[0;32m---> 83\u001b[0;31m         })\n\u001b[0m\u001b[1;32m     84\u001b[0m         \u001b[0mq\u001b[0m \u001b[0;34m=\u001b[0m \u001b[0mquery_one_res\u001b[0m\u001b[0;34m(\u001b[0m\u001b[0mchaindata\u001b[0m\u001b[0;34m,\u001b[0m \u001b[0mchainschema\u001b[0m\u001b[0;34m,\u001b[0m \u001b[0mvariables\u001b[0m\u001b[0;34m)\u001b[0m\u001b[0;34m\u001b[0m\u001b[0m\n\u001b[1;32m     85\u001b[0m         \u001b[0;32mif\u001b[0m \u001b[0mq\u001b[0m \u001b[0;32mis\u001b[0m \u001b[0mNone\u001b[0m\u001b[0;34m:\u001b[0m\u001b[0;34m\u001b[0m\u001b[0m\n",
      "\u001b[0;32m/home/isaure/projets/NAfragDB/search_frag_library/query.py\u001b[0m in \u001b[0;36mquery_one_res\u001b[0;34m(chaindata, chainschema, variables)\u001b[0m\n\u001b[1;32m     64\u001b[0m     \"\"\"\n\u001b[1;32m     65\u001b[0m     \u001b[0mDocumentation\u001b[0m\u001b[0;34m\u001b[0m\u001b[0m\n\u001b[0;32m---> 66\u001b[0;31m     \"\"\"\n\u001b[0m\u001b[1;32m     67\u001b[0m     \u001b[0;32mreturn\u001b[0m \u001b[0m_query\u001b[0m\u001b[0;34m(\u001b[0m\u001b[0mchaindata\u001b[0m\u001b[0;34m,\u001b[0m \u001b[0mchainschema\u001b[0m\u001b[0;34m,\u001b[0m \u001b[0mvariables\u001b[0m\u001b[0;34m)\u001b[0m\u001b[0;34m\u001b[0m\u001b[0m\n\u001b[1;32m     68\u001b[0m \u001b[0;34m\u001b[0m\u001b[0m\n",
      "\u001b[0;32m/home/isaure/projets/NAfragDB/search_frag_library/query.py\u001b[0m in \u001b[0;36m_query\u001b[0;34m(data, schema, variables)\u001b[0m\n\u001b[1;32m     46\u001b[0m                 \u001b[0;32mreturn\u001b[0m \u001b[0mNone\u001b[0m\u001b[0;34m\u001b[0m\u001b[0m\n\u001b[1;32m     47\u001b[0m             \u001b[0;32mraise\u001b[0m \u001b[0mKeyError\u001b[0m\u001b[0;34m(\u001b[0m\u001b[0msubkey\u001b[0m\u001b[0;34m,\u001b[0m \u001b[0mstarkey\u001b[0m\u001b[0;34m)\u001b[0m\u001b[0;34m\u001b[0m\u001b[0m\n\u001b[0;32m---> 48\u001b[0;31m         \u001b[0msubschema\u001b[0m \u001b[0;34m=\u001b[0m \u001b[0mschema\u001b[0m\u001b[0;34m[\u001b[0m\u001b[0mstarkey\u001b[0m\u001b[0;34m]\u001b[0m\u001b[0;34m\u001b[0m\u001b[0m\n\u001b[0m\u001b[1;32m     49\u001b[0m         \u001b[0;32mreturn\u001b[0m \u001b[0m_query\u001b[0m\u001b[0;34m(\u001b[0m\u001b[0msubdata\u001b[0m\u001b[0;34m,\u001b[0m \u001b[0msubschema\u001b[0m\u001b[0;34m,\u001b[0m \u001b[0mvariables\u001b[0m\u001b[0;34m)\u001b[0m\u001b[0;34m\u001b[0m\u001b[0m\n\u001b[1;32m     50\u001b[0m     \u001b[0mlistkey\u001b[0m \u001b[0;34m=\u001b[0m \u001b[0mquery_schema_list\u001b[0m\u001b[0;34m(\u001b[0m\u001b[0mschema\u001b[0m\u001b[0;34m)\u001b[0m\u001b[0;34m\u001b[0m\u001b[0m\n",
      "\u001b[0;32m/home/isaure/projets/NAfragDB/search_frag_library/query.py\u001b[0m in \u001b[0;36m_query\u001b[0;34m(data, schema, variables)\u001b[0m\n\u001b[1;32m     56\u001b[0m             \u001b[0;32mif\u001b[0m \u001b[0msubschema\u001b[0m \u001b[0;34m==\u001b[0m \u001b[0msubkey\u001b[0m\u001b[0;34m:\u001b[0m\u001b[0;34m\u001b[0m\u001b[0m\n\u001b[1;32m     57\u001b[0m                 \u001b[0;32mreturn\u001b[0m \u001b[0msubdata\u001b[0m\u001b[0;34m\u001b[0m\u001b[0m\n\u001b[0;32m---> 58\u001b[0;31m         \u001b[0;32melif\u001b[0m \u001b[0msubschema\u001b[0m\u001b[0;34m[\u001b[0m\u001b[0;36m0\u001b[0m\u001b[0;34m]\u001b[0m \u001b[0;34m==\u001b[0m \u001b[0msubkey\u001b[0m\u001b[0;34m:\u001b[0m\u001b[0;34m\u001b[0m\u001b[0m\n\u001b[0m\u001b[1;32m     59\u001b[0m             \u001b[0;32mreturn\u001b[0m \u001b[0m_query\u001b[0m\u001b[0;34m(\u001b[0m\u001b[0msubdata\u001b[0m\u001b[0;34m,\u001b[0m \u001b[0msubschema\u001b[0m\u001b[0;34m[\u001b[0m\u001b[0;36m1\u001b[0m\u001b[0;34m]\u001b[0m\u001b[0;34m,\u001b[0m \u001b[0mvariables\u001b[0m\u001b[0;34m)\u001b[0m\u001b[0;34m\u001b[0m\u001b[0m\n\u001b[1;32m     60\u001b[0m     \u001b[0;32melse\u001b[0m\u001b[0;34m:\u001b[0m\u001b[0;34m\u001b[0m\u001b[0m\n",
      "\u001b[0;32m/home/isaure/projets/NAfragDB/search_frag_library/query.py\u001b[0m in \u001b[0;36m_query\u001b[0;34m(data, schema, variables)\u001b[0m\n\u001b[1;32m     46\u001b[0m                 \u001b[0;32mreturn\u001b[0m \u001b[0mNone\u001b[0m\u001b[0;34m\u001b[0m\u001b[0m\n\u001b[1;32m     47\u001b[0m             \u001b[0;32mraise\u001b[0m \u001b[0mKeyError\u001b[0m\u001b[0;34m(\u001b[0m\u001b[0msubkey\u001b[0m\u001b[0;34m,\u001b[0m \u001b[0mstarkey\u001b[0m\u001b[0;34m)\u001b[0m\u001b[0;34m\u001b[0m\u001b[0m\n\u001b[0;32m---> 48\u001b[0;31m         \u001b[0msubschema\u001b[0m \u001b[0;34m=\u001b[0m \u001b[0mschema\u001b[0m\u001b[0;34m[\u001b[0m\u001b[0mstarkey\u001b[0m\u001b[0;34m]\u001b[0m\u001b[0;34m\u001b[0m\u001b[0m\n\u001b[0m\u001b[1;32m     49\u001b[0m         \u001b[0;32mreturn\u001b[0m \u001b[0m_query\u001b[0m\u001b[0;34m(\u001b[0m\u001b[0msubdata\u001b[0m\u001b[0;34m,\u001b[0m \u001b[0msubschema\u001b[0m\u001b[0;34m,\u001b[0m \u001b[0mvariables\u001b[0m\u001b[0;34m)\u001b[0m\u001b[0;34m\u001b[0m\u001b[0m\n\u001b[1;32m     50\u001b[0m     \u001b[0mlistkey\u001b[0m \u001b[0;34m=\u001b[0m \u001b[0mquery_schema_list\u001b[0m\u001b[0;34m(\u001b[0m\u001b[0mschema\u001b[0m\u001b[0;34m)\u001b[0m\u001b[0;34m\u001b[0m\u001b[0m\n",
      "\u001b[0;32m/home/isaure/projets/NAfragDB/search_frag_library/query.py\u001b[0m in \u001b[0;36m_query\u001b[0;34m(data, schema, variables)\u001b[0m\n\u001b[1;32m     46\u001b[0m                 \u001b[0;32mreturn\u001b[0m \u001b[0mNone\u001b[0m\u001b[0;34m\u001b[0m\u001b[0m\n\u001b[1;32m     47\u001b[0m             \u001b[0;32mraise\u001b[0m \u001b[0mKeyError\u001b[0m\u001b[0;34m(\u001b[0m\u001b[0msubkey\u001b[0m\u001b[0;34m,\u001b[0m \u001b[0mstarkey\u001b[0m\u001b[0;34m)\u001b[0m\u001b[0;34m\u001b[0m\u001b[0m\n\u001b[0;32m---> 48\u001b[0;31m         \u001b[0msubschema\u001b[0m \u001b[0;34m=\u001b[0m \u001b[0mschema\u001b[0m\u001b[0;34m[\u001b[0m\u001b[0mstarkey\u001b[0m\u001b[0;34m]\u001b[0m\u001b[0;34m\u001b[0m\u001b[0m\n\u001b[0m\u001b[1;32m     49\u001b[0m         \u001b[0;32mreturn\u001b[0m \u001b[0m_query\u001b[0m\u001b[0;34m(\u001b[0m\u001b[0msubdata\u001b[0m\u001b[0;34m,\u001b[0m \u001b[0msubschema\u001b[0m\u001b[0;34m,\u001b[0m \u001b[0mvariables\u001b[0m\u001b[0;34m)\u001b[0m\u001b[0;34m\u001b[0m\u001b[0m\n\u001b[1;32m     50\u001b[0m     \u001b[0mlistkey\u001b[0m \u001b[0;34m=\u001b[0m \u001b[0mquery_schema_list\u001b[0m\u001b[0;34m(\u001b[0m\u001b[0mschema\u001b[0m\u001b[0;34m)\u001b[0m\u001b[0;34m\u001b[0m\u001b[0m\n",
      "\u001b[0;32m/home/isaure/projets/NAfragDB/search_frag_library/query.py\u001b[0m in \u001b[0;36m_query\u001b[0;34m(data, schema, variables)\u001b[0m\n\u001b[1;32m     38\u001b[0m             \u001b[0msubkey\u001b[0m \u001b[0;34m=\u001b[0m \u001b[0mvariables\u001b[0m\u001b[0;34m[\u001b[0m\u001b[0mstarkey\u001b[0m\u001b[0;34m[\u001b[0m\u001b[0;36m2\u001b[0m\u001b[0;34m:\u001b[0m\u001b[0;34m]\u001b[0m\u001b[0;34m]\u001b[0m \u001b[0;31m#select \"res\" in \"?*res\"\u001b[0m\u001b[0;34m\u001b[0m\u001b[0m\n\u001b[1;32m     39\u001b[0m         \u001b[0;32melse\u001b[0m\u001b[0;34m:\u001b[0m\u001b[0;34m\u001b[0m\u001b[0m\n\u001b[0;32m---> 40\u001b[0;31m             \u001b[0;32mprint\u001b[0m\u001b[0;34m(\u001b[0m\u001b[0mstarkey\u001b[0m\u001b[0;34m[\u001b[0m\u001b[0;36m1\u001b[0m\u001b[0;34m:\u001b[0m\u001b[0;34m]\u001b[0m\u001b[0;34m,\u001b[0m \u001b[0mfile\u001b[0m\u001b[0;34m=\u001b[0m\u001b[0msys\u001b[0m\u001b[0;34m.\u001b[0m\u001b[0mstderr\u001b[0m\u001b[0;34m)\u001b[0m\u001b[0;34m\u001b[0m\u001b[0m\n\u001b[0m\u001b[1;32m     41\u001b[0m             \u001b[0msubkey\u001b[0m \u001b[0;34m=\u001b[0m \u001b[0mvariables\u001b[0m\u001b[0;34m[\u001b[0m\u001b[0mstarkey\u001b[0m\u001b[0;34m[\u001b[0m\u001b[0;36m1\u001b[0m\u001b[0;34m:\u001b[0m\u001b[0;34m]\u001b[0m\u001b[0;34m]\u001b[0m \u001b[0;31m#select \"res\" in \"*res\"\u001b[0m\u001b[0;34m\u001b[0m\u001b[0m\n\u001b[1;32m     42\u001b[0m         \u001b[0;32mtry\u001b[0m\u001b[0;34m:\u001b[0m\u001b[0;34m\u001b[0m\u001b[0m\n",
      "\u001b[0;31mKeyError\u001b[0m: 'pos'"
     ]
    }
   ],
   "source": [
    "# mask all fully single-stranded (\"ss\") fragments\n",
    "ss = query(chaindata, chainschema, fragments, is_ss, \"ss\", part=None)"
   ]
  },
  {
   "cell_type": "code",
   "execution_count": 92,
   "metadata": {
    "scrolled": true
   },
   "outputs": [
    {
     "name": "stdout",
     "output_type": "stream",
     "text": [
      "9 % fragments are fully single-stranded\n"
     ]
    }
   ],
   "source": [
    "percent_ss = 100*sum(ss)/len(fragments)\n",
    "print('%i %% fragments are fully single-stranded'%percent_ss)"
   ]
  },
  {
   "cell_type": "code",
   "execution_count": 5,
   "metadata": {},
   "outputs": [],
   "source": [
    "# mask all fully double-stranded (\"ds\") fragments\n",
    "ds = query(chaindata, chainschema, fragments, is_ds, \"ss\", part=None)"
   ]
  },
  {
   "cell_type": "code",
   "execution_count": 91,
   "metadata": {},
   "outputs": [
    {
     "name": "stdout",
     "output_type": "stream",
     "text": [
      "52 % fragments are fully double-stranded\n"
     ]
    }
   ],
   "source": [
    "percent_ds = 100*sum(ds)/len(fragments)\n",
    "print('%i %% fragments are fully double-stranded'%percent_ds)"
   ]
  },
  {
   "cell_type": "code",
   "execution_count": 81,
   "metadata": {
    "scrolled": true
   },
   "outputs": [],
   "source": [
    "# Select ss/ds fragments which central nucleotide binds via phosphate (\"ph\")\n",
    "ss_ph = query(chaindata, chainschema, fragments[ss], contact_parts, \"interface_protein\", part=\"ph\")\n",
    "ds_ph = query(chaindata, chainschema, fragments[ds], contact_parts, \"interface_protein\", part=\"ph\")"
   ]
  },
  {
   "cell_type": "code",
   "execution_count": 52,
   "metadata": {},
   "outputs": [
    {
     "name": "stdout",
     "output_type": "stream",
     "text": [
      "('ph', 'ss', 25065)\n",
      "('ph', 'ds', 102747)\n",
      "('sug', 'ss', 23699)\n",
      "('sug', 'ds', 86156)\n",
      "('base', 'ss', 22043)\n",
      "('base', 'ds', 68126)\n"
     ]
    }
   ],
   "source": [
    "# Do the same for each nucleotide part\n",
    "masks = {}\n",
    "counts = {}\n",
    "for part in [\"ph\",\"sug\", \"base\"]:\n",
    "    for statename, state in zip([\"ss\",\"ds\"],[ss, ds]):\n",
    "        masks[statename, part] = np.array(query(chaindata, chainschema, fragments[state], contact_parts, \"interface_protein\", part))\n",
    "        counts[statename, part] = sum(masks[statename, part])\n",
    "        print(part, statename, counts[statename, part])"
   ]
  },
  {
   "cell_type": "code",
   "execution_count": 49,
   "metadata": {},
   "outputs": [],
   "source": [
    "# Count number of fragments binding the protein with any nucleotidic part\n",
    "def sum_bool(masks, statename):\n",
    "    mask = masks[statename,\"sug\"] | masks[statename,\"ph\"] | masks[statename,\"base\"]\n",
    "    return sum(mask)"
   ]
  },
  {
   "cell_type": "code",
   "execution_count": 50,
   "metadata": {},
   "outputs": [
    {
     "name": "stdout",
     "output_type": "stream",
     "text": [
      "244526\n",
      "45960\n"
     ]
    }
   ],
   "source": [
    "ds_bound = sum_bool(masks, \"ds\")\n",
    "ss_bound = sum_bool(masks, \"ss\")"
   ]
  },
  {
   "cell_type": "code",
   "execution_count": 96,
   "metadata": {},
   "outputs": [
    {
     "name": "stdout",
     "output_type": "stream",
     "text": [
      "85% of ss bound fragments bind via the ph\n",
      "87% of ds bound fragments bind via the ph\n",
      "80% of ss bound fragments bind via the sug\n",
      "73% of ds bound fragments bind via the sug\n",
      "75% of ss bound fragments bind via the base\n",
      "58% of ds bound fragments bind via the base\n"
     ]
    }
   ],
   "source": [
    "# Count what percentage of ss/ds binding fragments bind via ph/sug/base\n",
    "bound = {\"ds\": ds_bound, \"ss\": ss_bound}\n",
    "percent = {}\n",
    "for part in [\"ph\",\"sug\", \"base\"]:\n",
    "    for statename, state in zip([\"ss\",\"ds\"],[ss, ds]):\n",
    "        percent[statename, part] = 100*sum(masks[statename,part])/bound[statename]\n",
    "        print('%i%% of %s bound fragments bind via the %s'%(percent[statename, part], statename, part))"
   ]
  },
  {
   "cell_type": "markdown",
   "metadata": {},
   "source": [
    "# Are the differences between ssRNA and dsRNA significant?"
   ]
  },
  {
   "cell_type": "code",
   "execution_count": 59,
   "metadata": {},
   "outputs": [],
   "source": [
    "from scipy.stats import fisher_exact\n",
    "def fisher(part):\n",
    "    ss_true = counts[\"ss\",part]\n",
    "    ss_false = ss_bound - counts[\"ss\",part]\n",
    "    ds_true = counts[\"ds\",part]\n",
    "    ds_false = ds_bound - counts[\"ds\",part]\n",
    "    a=[[ss_true, ss_false],[ds_true, ds_false]]\n",
    "    return fisher_exact(a)"
   ]
  },
  {
   "cell_type": "code",
   "execution_count": 66,
   "metadata": {},
   "outputs": [
    {
     "data": {
      "text/plain": [
       "(75, 58)"
      ]
     },
     "execution_count": 66,
     "metadata": {},
     "output_type": "execute_result"
    }
   ],
   "source": [
    "percent[\"ss\",\"base\"], percent[\"ds\",\"base\"]"
   ]
  },
  {
   "cell_type": "code",
   "execution_count": 112,
   "metadata": {},
   "outputs": [
    {
     "name": "stdout",
     "output_type": "stream",
     "text": [
      "ph: 85% ssRNA, 87% dsRNA, ratio 0.8, p-value 0.000000\n",
      "sug: 80% ssRNA, 73% dsRNA, ratio 1.5, p-value 0.000000\n",
      "base: 75% ssRNA, 58% dsRNA, ratio 2.2, p-value 0.000000\n"
     ]
    }
   ],
   "source": [
    "for part in [\"ph\", \"sug\", \"base\"]:\n",
    "    fi, p = fisher(part)\n",
    "    perc_ss = percent[\"ss\",part]\n",
    "    perc_ds = percent[\"ds\",part]\n",
    "    print(\"%s: %s%% ssRNA, %s%% dsRNA, ratio %.1f, p-value %f\"%(part, perc_ss, perc_ds, fi, p))"
   ]
  }
 ],
 "metadata": {
  "kernelspec": {
   "display_name": "Python 2",
   "language": "python",
   "name": "python2"
  },
  "language_info": {
   "codemirror_mode": {
    "name": "ipython",
    "version": 2
   },
   "file_extension": ".py",
   "mimetype": "text/x-python",
   "name": "python",
   "nbconvert_exporter": "python",
   "pygments_lexer": "ipython2",
   "version": "2.7.6"
  }
 },
 "nbformat": 4,
 "nbformat_minor": 2
}
