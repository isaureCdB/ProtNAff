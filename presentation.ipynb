{
 "cells": [
  {
   "cell_type": "markdown",
   "metadata": {
    "slideshow": {
     "slide_type": "slide"
    }
   },
   "source": [
    "NAfragDB: a multi-purpose structural database of nucleic-acid/protein complexes for advanced users\n",
    "==================="
   ]
  },
  {
   "cell_type": "markdown",
   "metadata": {
    "slideshow": {
     "slide_type": "subslide"
    }
   },
   "source": [
    "A. Moniot¹\n",
    "\n",
    "S. J. de Vries², D. W. Ritchie¹, I. Chauvot-de-Beauchêne¹\n",
    "\n",
    "1. University of Lorraine, CNRS, Inria, LORIA, 54000 Nancy, France\n",
    "2. University of Paris Diderot, INSERM, 75013 Paris, France"
   ]
  },
  {
   "cell_type": "markdown",
   "metadata": {},
   "source": [
    "## Introduction\n",
    "\n",
    "Idea to create a database with customizable queries.\n",
    "\n",
    "In the PDB : \n",
    "- 124282 structures\n",
    "- of which 7547 are NA-protein complexes"
   ]
  },
  {
   "cell_type": "markdown",
   "metadata": {
    "slideshow": {
     "slide_type": "slide"
    }
   },
   "source": [
    "NAfragDB is a pipeline to:\n",
    "--------------------------------------------------------------------------\n",
    "1. Clean-up and parse all NA-protein structures from the PDB into ensembles of small information units in a single file\n",
    "\n",
    "2. Search for sets of NA-protein structures with highly cutomisable combinations of criteria\n",
    "\n",
    "3. Create RNA/DNA 3D fragment libraries extracted from those sets of structures.\n",
    "\n",
    "4. Perform statistics on customised features of such libraries\n"
   ]
  },
  {
   "cell_type": "markdown",
   "metadata": {
    "slideshow": {
     "slide_type": "subslide"
    }
   },
   "source": [
    "![](GGMM_global.png)"
   ]
  },
  {
   "cell_type": "markdown",
   "metadata": {
    "slideshow": {
     "slide_type": "slide"
    }
   },
   "source": [
    "###    1. Parsing and stocking information into a json file"
   ]
  },
  {
   "cell_type": "markdown",
   "metadata": {
    "slideshow": {
     "slide_type": "subslide"
    }
   },
   "source": [
    "![](GGMM_global1.png)"
   ]
  },
  {
   "cell_type": "markdown",
   "metadata": {
    "slideshow": {
     "slide_type": "slide"
    }
   },
   "source": [
    "<pre><code>\n",
    "\"1B7F\": {\n",
    "    \"method\": \"x-ray diffraction\",\n",
    "    \"resolution\": 2.6,\n",
    "    \"Nmodels\": 1,\n",
    "    \"hetnames\": {},\n",
    "    \"nachains\": [\n",
    "      \"P\",\n",
    "      \"Q\"\n",
    "    ],\n",
    "    \"protchain\": [\n",
    "      \"A\",\n",
    "      \"B\"\n",
    "    ],\n",
    "    \"sequence\": {\n",
    "      \"chain_P\": \"GUUGUUUUUUUU\",\n",
    "      \"chain_Q\": \"GUUGUUUUUUUU\"\n",
    "    },\n",
    "    \"canonized\": {},\n",
    "    \"missing_atoms\": {\n",
    "      \"chain_P\": {},\n",
    "      \"chain_Q\": {}\n",
    "    },\n",
    "    \"interface_protein\": {\n",
    "      \"model_1\": {\n",
    "        \"chain_P\": {\n",
    "          \"res_8\": {\n",
    "            \"sug\": 3.36,\n",
    "            \"base\": 2.65,\n",
    "            \"ph\": 3.67\n",
    "          },\n",
    "          \"res_10\": {\n",
    "            \"sug\": 3.3,\n",
    "            \"base\": 2.48,\n",
    "            \"ph\": 3.21\n",
    "          },\n",
    "          \"res_7\": {\n",
    "            \"base\": 2.58,\n",
    "            \"ph\": 3.84\n",
    "          },\n",
    "          ...\n",
    "      }\n",
    "    },\n",
    "    \"intraRNA_hb\": {\n",
    "      \"chain_P\": {\n",
    "        \"res_1\": {\n",
    "          \"sug\": {\n",
    "            \"n+1\": 1.0\n",
    "          }\n",
    "        },\n",
    "        \"res_3\": {\n",
    "          \"ph\": {\n",
    "            \"n+1\": 0.375\n",
    "          }\n",
    "        },\n",
    "        ...\n",
    "      }\n",
    "    },\n",
    "    \"stacking\": {\n",
    "      \"chain_P\": {\n",
    "        \"res_7\": {\n",
    "          \"n+1\": 1\n",
    "        },\n",
    "        \"res_8\": {\n",
    "          \"n-1\": 1\n",
    "        }\n",
    "      },\n",
    "      \"chain_Q\": {\n",
    "        \"res_7\": {\n",
    "          \"n+1\": 1\n",
    "        },\n",
    "        \"res_8\": {\n",
    "          \"n-1\": 1\n",
    "        }\n",
    "      }\n",
    "    },\n",
    "    \"ss\": {\n",
    "      \"chain_P\": {\n",
    "        \"res_2\": [\n",
    "          \"S\",\n",
    "          12,\n",
    "          12\n",
    "        ],\n",
    "        \"res_3\": [\n",
    "          \"S\",\n",
    "          8,\n",
    "          12\n",
    "        ],\n",
    "        ...\n",
    "    },\n",
    "    \"bptype\": {\n",
    "      \"chain_P\": {},\n",
    "      \"chain_Q\": {\n",
    "        \"res_10\": [\n",
    "          \"Platform\"\n",
    "        ],\n",
    "        \"res_9\": [\n",
    "          \"Platform\"\n",
    "        ]\n",
    "      }\n",
    "    },\n",
    "    \"interface_hetatoms\": {},\n",
    "    \"breaks\": {\n",
    "      \"chain_P\": null,\n",
    "      \"chain_Q\": null\n",
    "    }\n",
    "  }\n",
    "  </code></pre>"
   ]
  },
  {
   "cell_type": "markdown",
   "metadata": {
    "slideshow": {
     "slide_type": "slide"
    }
   },
   "source": [
    "![](GGMM_pipeline.png)"
   ]
  },
  {
   "cell_type": "markdown",
   "metadata": {},
   "source": [
    "1. Xiang-Jun Lu & Wilma K. Olson (2003). ‘3DNA: a software package for the analysis, rebuilding and visualization of three-dimensional nucleic acid structures’, Nucleic Acids Res. 31(17), 5108-21. "
   ]
  },
  {
   "cell_type": "code",
   "execution_count": 3,
   "metadata": {
    "slideshow": {
     "slide_type": "skip"
    }
   },
   "outputs": [],
   "source": [
    "cd example/presentation"
   ]
  },
  {
   "cell_type": "code",
   "execution_count": 4,
   "metadata": {
    "slideshow": {
     "slide_type": "skip"
    }
   },
   "outputs": [
    {
     "name": "stdout",
     "output_type": "stream",
     "text": [
      "/home/amoniot/git/NAfragDB/example/presentation\n"
     ]
    }
   ],
   "source": [
    "pwd"
   ]
  },
  {
   "cell_type": "code",
   "execution_count": 52,
   "metadata": {
    "slideshow": {
     "slide_type": "skip"
    }
   },
   "outputs": [],
   "source": [
    "#cd .."
   ]
  },
  {
   "cell_type": "code",
   "execution_count": 35,
   "metadata": {
    "slideshow": {
     "slide_type": "skip"
    }
   },
   "outputs": [],
   "source": [
    "#rm -rf /home/amoniot/Documents/NAfragDB-master/example/presentation/*"
   ]
  },
  {
   "cell_type": "code",
   "execution_count": 5,
   "metadata": {
    "scrolled": false,
    "slideshow": {
     "slide_type": "slide"
    }
   },
   "outputs": [
    {
     "name": "stdout",
     "output_type": "stream",
     "text": [
      "/home/amoniot/git/NAfragDB\n",
      "---------------------------- Download PDBs\n",
      "downloading 1AQ4\n",
      "downloading 1ASY\n",
      "downloading 1B7F\n",
      "-------------------------- check pdb\n",
      "-------------------------------1AQ4\n",
      "-------------------------------1ASY\n",
      "-------------------------------1B7F\n",
      "-------------------------- detect NA - protein interface \n",
      "1AQ4\n",
      "1ASY\n",
      "1B7F\n",
      "---------------------------------  parse initial pdb\n",
      "clean_rna.json does not exist\n",
      "process 1AQ4\n",
      "process 1ASY\n",
      "process 1B7F\n",
      "clean_rna.json dumped\n",
      "------------------------------------ cleanPDB//1AQ4R-1.pdb R\n",
      "['cleanPDB//1AQ4R-1.pdb']\n",
      "run pdbcomplete\n",
      "read_pdb\n",
      "input contains nucleic acids\n",
      "chain R\n",
      "{'   3 ': [None]}\n",
      "------------------------------------ cleanPDB//1AQ4S-1.pdb S\n",
      "['cleanPDB//1AQ4S-1.pdb']\n",
      "run pdbcomplete\n",
      "read_pdb\n",
      "input contains nucleic acids\n",
      "chain S\n",
      "{'   3 ': [None]}\n",
      "------------------------------------ cleanPDB//1ASYR-1.pdb R\n",
      "['cleanPDB//1ASYR-1.pdb']\n",
      "run pdbcomplete\n",
      "read_pdb\n",
      "replaces H2U by U\n",
      "replaces H2U by U\n",
      "replaces H2U by U\n",
      "replaces H2U by U\n",
      "replaces H2U by U\n",
      "replaces H2U by U\n",
      "replaces H2U by U\n",
      "replaces H2U by U\n",
      "replaces H2U by U\n",
      "replaces H2U by U\n",
      "replaces H2U by U\n",
      "replaces H2U by U\n",
      "replaces H2U by U\n",
      "replaces H2U by U\n",
      "replaces H2U by U\n",
      "replaces H2U by U\n",
      "replaces H2U by U\n",
      "replaces H2U by U\n",
      "replaces H2U by U\n",
      "replaces H2U by U\n",
      "replaces H2U by U\n",
      "replaces H2U by U\n",
      "replaces H2U by U\n",
      "replaces H2U by U\n",
      "replaces H2U by U\n",
      "replaces H2U by U\n",
      "replaces H2U by U\n",
      "replaces H2U by U\n",
      "replaces H2U by U\n",
      "replaces H2U by U\n",
      "replaces 1MG by G\n",
      "replaces 1MG by G\n",
      "replaces 1MG by G\n",
      "replaces 1MG by G\n",
      "replaces 1MG by G\n",
      "replaces 1MG by G\n",
      "replaces 1MG by G\n",
      "replaces 1MG by G\n",
      "replaces 1MG by G\n",
      "replaces 1MG by G\n",
      "replaces 1MG by G\n",
      "replaces 1MG by G\n",
      "replaces 1MG by G\n",
      "replaces 1MG by G\n",
      "replaces 1MG by G\n",
      "replaces 1MG by G\n",
      "replaces 1MG by G\n",
      "replaces 1MG by G\n",
      "replaces 1MG by G\n",
      "replaces 1MG by G\n",
      "replaces 1MG by G\n",
      "replaces 1MG by G\n",
      "replaces 1MG by G\n",
      "replaces 1MG by G\n",
      "replaces 5MC by C\n",
      "replaces 5MC by C\n",
      "replaces 5MC by C\n",
      "replaces 5MC by C\n",
      "replaces 5MC by C\n",
      "replaces 5MC by C\n",
      "replaces 5MC by C\n",
      "replaces 5MC by C\n",
      "replaces 5MC by C\n",
      "replaces 5MC by C\n",
      "replaces 5MC by C\n",
      "replaces 5MC by C\n",
      "replaces 5MC by C\n",
      "replaces 5MC by C\n",
      "replaces 5MC by C\n",
      "replaces 5MC by C\n",
      "replaces 5MC by C\n",
      "replaces 5MC by C\n",
      "replaces 5MC by C\n",
      "replaces 5MC by C\n",
      "replaces 5MC by C\n",
      "replaces 5MU by U\n",
      "replaces 5MU by U\n",
      "replaces 5MU by U\n",
      "replaces 5MU by U\n",
      "replaces 5MU by U\n",
      "replaces 5MU by U\n",
      "replaces 5MU by U\n",
      "replaces 5MU by U\n",
      "replaces 5MU by U\n",
      "replaces 5MU by U\n",
      "replaces 5MU by U\n",
      "replaces 5MU by U\n",
      "replaces 5MU by U\n",
      "replaces 5MU by U\n",
      "replaces 5MU by U\n",
      "replaces 5MU by U\n",
      "replaces 5MU by U\n",
      "replaces 5MU by U\n",
      "replaces 5MU by U\n",
      "replaces 5MU by U\n",
      "replaces 5MU by U\n",
      "input contains nucleic acids\n",
      "chain R\n",
      "{' 601 ': [None]}\n",
      "------------------------------------ cleanPDB//1ASYS-1.pdb S\n",
      "['cleanPDB//1ASYS-1.pdb']\n",
      "run pdbcomplete\n",
      "read_pdb\n",
      "replaces H2U by U\n",
      "replaces H2U by U\n",
      "replaces H2U by U\n",
      "replaces H2U by U\n",
      "replaces H2U by U\n",
      "replaces H2U by U\n",
      "replaces H2U by U\n",
      "replaces H2U by U\n",
      "replaces H2U by U\n",
      "replaces H2U by U\n",
      "replaces H2U by U\n",
      "replaces H2U by U\n",
      "replaces H2U by U\n",
      "replaces H2U by U\n",
      "replaces H2U by U\n",
      "replaces H2U by U\n",
      "replaces H2U by U\n",
      "replaces H2U by U\n",
      "replaces H2U by U\n",
      "replaces H2U by U\n",
      "replaces H2U by U\n",
      "replaces H2U by U\n",
      "replaces H2U by U\n",
      "replaces H2U by U\n",
      "replaces H2U by U\n",
      "replaces H2U by U\n",
      "replaces H2U by U\n",
      "replaces H2U by U\n",
      "replaces H2U by U\n",
      "replaces H2U by U\n",
      "replaces 1MG by G\n",
      "replaces 1MG by G\n",
      "replaces 1MG by G\n",
      "replaces 1MG by G\n",
      "replaces 1MG by G\n",
      "replaces 1MG by G\n",
      "replaces 1MG by G\n",
      "replaces 1MG by G\n",
      "replaces 1MG by G\n",
      "replaces 1MG by G\n",
      "replaces 1MG by G\n",
      "replaces 1MG by G\n",
      "replaces 1MG by G\n",
      "replaces 1MG by G\n",
      "replaces 1MG by G\n",
      "replaces 1MG by G\n",
      "replaces 1MG by G\n",
      "replaces 1MG by G\n",
      "replaces 1MG by G\n",
      "replaces 1MG by G\n",
      "replaces 1MG by G\n",
      "replaces 1MG by G\n",
      "replaces 1MG by G\n",
      "replaces 1MG by G\n",
      "replaces 5MC by C\n",
      "replaces 5MC by C\n",
      "replaces 5MC by C\n",
      "replaces 5MC by C\n",
      "replaces 5MC by C\n",
      "replaces 5MC by C\n",
      "replaces 5MC by C\n",
      "replaces 5MC by C\n",
      "replaces 5MC by C\n",
      "replaces 5MC by C\n",
      "replaces 5MC by C\n",
      "replaces 5MC by C\n",
      "replaces 5MC by C\n",
      "replaces 5MC by C\n",
      "replaces 5MC by C\n",
      "replaces 5MC by C\n",
      "replaces 5MC by C\n",
      "replaces 5MC by C\n",
      "replaces 5MC by C\n",
      "replaces 5MC by C\n",
      "replaces 5MC by C\n",
      "replaces 5MU by U\n",
      "replaces 5MU by U\n",
      "replaces 5MU by U\n",
      "replaces 5MU by U\n",
      "replaces 5MU by U\n",
      "replaces 5MU by U\n",
      "replaces 5MU by U\n",
      "replaces 5MU by U\n",
      "replaces 5MU by U\n",
      "replaces 5MU by U\n",
      "replaces 5MU by U\n",
      "replaces 5MU by U\n",
      "replaces 5MU by U\n",
      "replaces 5MU by U\n",
      "replaces 5MU by U\n",
      "replaces 5MU by U\n",
      "replaces 5MU by U\n",
      "replaces 5MU by U\n",
      "replaces 5MU by U\n",
      "replaces 5MU by U\n",
      "replaces 5MU by U\n",
      "input contains nucleic acids\n",
      "chain S\n",
      "{' 601 ': [None]}\n",
      "------------------------------------ cleanPDB//1B7FP-1.pdb P\n",
      "['cleanPDB//1B7FP-1.pdb']\n",
      "run pdbcomplete\n",
      "read_pdb\n",
      "input contains nucleic acids\n",
      "chain P\n",
      "{'   1 ': [None]}\n",
      "------------------------------------ cleanPDB//1B7FQ-1.pdb Q\n",
      "['cleanPDB//1B7FQ-1.pdb']\n",
      "run pdbcomplete\n",
      "read_pdb\n",
      "input contains nucleic acids\n",
      "chain Q\n",
      "{'   1 ': [None]}\n",
      "--------------------------------- Fill-up missing atoms \n",
      "1AQ4\n",
      "cleanPDB/1AQ4R-1-iniparse-excise.pdb\n",
      "cleanPDB/1AQ4S-1-iniparse-excise.pdb\n",
      "1ASY\n",
      "cleanPDB/1ASYR-1-iniparse-excise.pdb\n",
      "cleanPDB/1ASYS-1-iniparse-excise.pdb\n",
      "1B7F\n",
      "cleanPDB/1B7FP-1-iniparse-excise.pdb\n",
      "cleanPDB/1B7FQ-1-iniparse-excise.pdb\n",
      "cleanPDB/1AQ4R-1-iniparse-excise.pdb cleanPDB/1AQ4R-1-iniparse-aa.pdb\n",
      "['cleanPDB/1AQ4R-1-iniparse-excise.pdb']\n",
      "run pdbcomplete\n",
      "read_pdb\n",
      "input contains nucleic acids\n",
      "chain None\n",
      "{'   1 ': [None]}\n",
      "apply_nalib NAfragDB, manual residual\n",
      "apply_nalib  NAfragDB\n",
      "optimize resid RA    1 \n",
      "cleanPDB/1AQ4S-1-iniparse-excise.pdb cleanPDB/1AQ4S-1-iniparse-aa.pdb\n",
      "['cleanPDB/1AQ4S-1-iniparse-excise.pdb']\n",
      "run pdbcomplete\n",
      "read_pdb\n",
      "input contains nucleic acids\n",
      "chain None\n",
      "{'   1 ': [None]}\n",
      "apply_nalib NAfragDB, manual residual\n",
      "apply_nalib  NAfragDB\n",
      "optimize resid RA    1 \n",
      "cleanPDB/1ASYR-1-iniparse-excise.pdb cleanPDB/1ASYR-1-iniparse-aa.pdb\n",
      "['cleanPDB/1ASYR-1-iniparse-excise.pdb']\n",
      "run pdbcomplete\n",
      "read_pdb\n",
      "input contains nucleic acids\n",
      "chain None\n",
      "{'   1 ': [None]}\n",
      "apply_nalib NAfragDB, manual residual\n",
      "apply_nalib  NAfragDB\n",
      "optimize resid RU   16 \n",
      "optimize resid RU   19 \n",
      "cleanPDB/1ASYS-1-iniparse-excise.pdb cleanPDB/1ASYS-1-iniparse-aa.pdb\n",
      "['cleanPDB/1ASYS-1-iniparse-excise.pdb']\n",
      "run pdbcomplete\n",
      "read_pdb\n",
      "input contains nucleic acids\n",
      "chain None\n",
      "{'   1 ': [None]}\n",
      "apply_nalib NAfragDB, manual residual\n",
      "apply_nalib  NAfragDB\n",
      "optimize resid RU   16 \n",
      "optimize resid RU   19 \n",
      "cleanPDB/1B7FP-1-iniparse-excise.pdb cleanPDB/1B7FP-1-iniparse-aa.pdb\n",
      "['cleanPDB/1B7FP-1-iniparse-excise.pdb']\n",
      "run pdbcomplete\n",
      "read_pdb\n",
      "input contains nucleic acids\n",
      "chain None\n",
      "{'   1 ': [None]}\n",
      "apply_nalib NAfragDB, manual residual\n",
      "apply_nalib  NAfragDB\n",
      "cleanPDB/1B7FQ-1-iniparse-excise.pdb cleanPDB/1B7FQ-1-iniparse-aa.pdb\n",
      "['cleanPDB/1B7FQ-1-iniparse-excise.pdb']\n",
      "run pdbcomplete\n",
      "read_pdb\n",
      "input contains nucleic acids\n",
      "chain None\n",
      "{'   1 ': [None]}\n",
      "apply_nalib NAfragDB, manual residual\n",
      "apply_nalib  NAfragDB\n",
      "-------------------------------- apply 3dna\n",
      "1AQ4\n",
      "1ASY\n",
      "1B7F\n"
     ]
    }
   ],
   "source": [
    "echo -e '1AQ4\\n1ASY\\n1B7F' > list_pdb\n",
    "\n",
    "./../../create_database.sh list_pdb rna"
   ]
  },
  {
   "cell_type": "markdown",
   "metadata": {
    "slideshow": {
     "slide_type": "slide"
    }
   },
   "source": [
    "<pre><code>\n",
    "\"1B7F\": {\n",
    "    \"method\": \"x-ray diffraction\",\n",
    "    \"resolution\": 2.6,\n",
    "    \"Nmodels\": 1,\n",
    "    \"hetnames\": {},\n",
    "    \"nachains\": [\n",
    "      \"P\",\n",
    "      \"Q\"\n",
    "    ],\n",
    "    \"protchain\": [\n",
    "      \"A\",\n",
    "      \"B\"\n",
    "    ],\n",
    "    \"sequence\": {\n",
    "      \"chain_P\": \"GUUGUUUUUUUU\",\n",
    "      \"chain_Q\": \"GUUGUUUUUUUU\"\n",
    "    },\n",
    "    \"canonized\": {},\n",
    "    \"missing_atoms\": {\n",
    "      \"chain_P\": {},\n",
    "      \"chain_Q\": {}\n",
    "    },\n",
    "    \"interface_protein\": {\n",
    "      \"model_1\": {\n",
    "        \"chain_P\": {\n",
    "          \"res_8\": {\n",
    "            \"sug\": 3.36,\n",
    "            \"base\": 2.65,\n",
    "            \"ph\": 3.67\n",
    "          },\n",
    "          \"res_10\": {\n",
    "            \"sug\": 3.3,\n",
    "            \"base\": 2.48,\n",
    "            \"ph\": 3.21\n",
    "          },\n",
    "          \"res_7\": {\n",
    "            \"base\": 2.58,\n",
    "            \"ph\": 3.84\n",
    "          },\n",
    "          ...\n",
    "      }\n",
    "    },\n",
    "    \"intraRNA_hb\": {\n",
    "      \"chain_P\": {\n",
    "        \"res_1\": {\n",
    "          \"sug\": {\n",
    "            \"n+1\": 1.0\n",
    "          }\n",
    "        },\n",
    "        \"res_3\": {\n",
    "          \"ph\": {\n",
    "            \"n+1\": 0.375\n",
    "          }\n",
    "        },\n",
    "        ...\n",
    "      }\n",
    "    },\n",
    "    \"stacking\": {\n",
    "      \"chain_P\": {\n",
    "        \"res_7\": {\n",
    "          \"n+1\": 1\n",
    "        },\n",
    "        \"res_8\": {\n",
    "          \"n-1\": 1\n",
    "        }\n",
    "      },\n",
    "      \"chain_Q\": {\n",
    "        \"res_7\": {\n",
    "          \"n+1\": 1\n",
    "        },\n",
    "        \"res_8\": {\n",
    "          \"n-1\": 1\n",
    "        }\n",
    "      }\n",
    "    },\n",
    "    \"ss\": {\n",
    "      \"chain_P\": {\n",
    "        \"res_2\": [\n",
    "          \"S\",\n",
    "          12,\n",
    "          12\n",
    "        ],\n",
    "        \"res_3\": [\n",
    "          \"S\",\n",
    "          8,\n",
    "          12\n",
    "        ],\n",
    "        ...\n",
    "    },\n",
    "    \"bptype\": {\n",
    "      \"chain_P\": {},\n",
    "      \"chain_Q\": {\n",
    "        \"res_10\": [\n",
    "          \"Platform\"\n",
    "        ],\n",
    "        \"res_9\": [\n",
    "          \"Platform\"\n",
    "        ]\n",
    "      }\n",
    "    },\n",
    "    \"interface_hetatoms\": {},\n",
    "    \"breaks\": {\n",
    "      \"chain_P\": null,\n",
    "      \"chain_Q\": null\n",
    "    }\n",
    "  }\n",
    "  </code></pre>"
   ]
  },
  {
   "cell_type": "markdown",
   "metadata": {
    "slideshow": {
     "slide_type": "slide"
    }
   },
   "source": [
    "###    2. Using the json file for queries"
   ]
  },
  {
   "cell_type": "markdown",
   "metadata": {
    "slideshow": {
     "slide_type": "subslide"
    }
   },
   "source": [
    "![](GGMM_global2.png)"
   ]
  },
  {
   "cell_type": "markdown",
   "metadata": {
    "slideshow": {
     "slide_type": "slide"
    }
   },
   "source": [
    "#### Query to find every single-stranded nucleotide in interaction with the protein."
   ]
  },
  {
   "cell_type": "markdown",
   "metadata": {
    "slideshow": {
     "slide_type": "subslide"
    }
   },
   "source": [
    "``` python\n",
    "    ss_set = set([\"L\", \"T\", \"S\", \"J\", \"B\", \"I\"])\n",
    "    \n",
    "    nuclfrag = set()\n",
    "    ss = pdb_info['ss'][chain_id]\n",
    "    \n",
    "    interf_prot = pdb_info[\"interface_protein\"][\"model_1\"][chain_id]\n",
    "    for element in interf_prot:\n",
    "        element = element.split(\"_\")[1]\n",
    "    \n",
    "    # List of interface nucleotide resid\n",
    "    nucl_interf = list(interf_prot.keys())\n",
    "    nucl_interf = [element.split(\"_\")[1] for element in nucl_interf]\n",
    "    # List of single-stranded nucleotides resid\n",
    "    nucl_ss = [pdb_info[\"mapping\"][chain_id][n.split(\"_\")[1]] for n in ss if ss[n][0] in ss_set]\n",
    "    # List of single-stranded interface nucleotide resid\n",
    "    nucl_interf_ss = [int(n) for n in nucl_interf if n in nucl_ss]\n",
    "    \n",
    "```"
   ]
  },
  {
   "cell_type": "code",
   "execution_count": 6,
   "metadata": {
    "slideshow": {
     "slide_type": "skip"
    }
   },
   "outputs": [
    {
     "name": "stdout",
     "output_type": "stream",
     "text": [
      "/home/amoniot/git/NAfragDB/example/presentation\n"
     ]
    }
   ],
   "source": [
    "pwd"
   ]
  },
  {
   "cell_type": "code",
   "execution_count": 7,
   "metadata": {
    "slideshow": {
     "slide_type": "skip"
    }
   },
   "outputs": [],
   "source": [
    "cd ..\n",
    "cd .."
   ]
  },
  {
   "cell_type": "code",
   "execution_count": 8,
   "metadata": {
    "slideshow": {
     "slide_type": "skip"
    }
   },
   "outputs": [],
   "source": [
    "cd create_benchmark"
   ]
  },
  {
   "cell_type": "code",
   "execution_count": 23,
   "metadata": {
    "slideshow": {
     "slide_type": "slide"
    }
   },
   "outputs": [],
   "source": [
    "#Change to your complete path\n",
    "\n",
    "SCRIPTS=/home/amoniot/git/NAfragDB/create_benchmark/"
   ]
  },
  {
   "cell_type": "code",
   "execution_count": 24,
   "metadata": {
    "scrolled": false,
    "slideshow": {
     "slide_type": "subslide"
    }
   },
   "outputs": [
    {
     "name": "stdout",
     "output_type": "stream",
     "text": [
      "Download of 1AQ4.pdb1.gz is a success\n",
      "rm: impossible de supprimer '1AQ4.pdb1.gz': Aucun fichier ou dossier de ce type\n",
      "Erreur sur le PDB 1AQ4\n",
      "Done for 1AQ4\n",
      "\n",
      "\n",
      "Download of 1ASY.pdb1.gz is a success\n",
      "rm: impossible de supprimer '1ASY.pdb1.gz': Aucun fichier ou dossier de ce type\n",
      "Erreur sur le PDB 1ASY\n",
      "Done for 1ASY\n",
      "\n",
      "\n",
      "Download of 1B7F.pdb1.gz is a success\n",
      "rm: impossible de supprimer '1B7F.pdb1.gz': Aucun fichier ou dossier de ce type\n",
      "Download of 1B7F.pdb2.gz is a success\n",
      "rm: impossible de supprimer '1B7F.pdb2.gz': Aucun fichier ou dossier de ce type\n",
      "Erreur sur le PDB 1B7F\n",
      "Done for 1B7F\n",
      "\n",
      "\n"
     ]
    }
   ],
   "source": [
    "#Change to your complete paths\n",
    "\n",
    "python3 get_benchmark_ss_ds.py /home/amoniot/git/NAfragDB/example/presentation/structures.json run_ss /home/amoniot/git/NAfragDB/example/presentation"
   ]
  },
  {
   "cell_type": "markdown",
   "metadata": {
    "slideshow": {
     "slide_type": "slide"
    }
   },
   "source": [
    "![](GGMM_1B7F.png)"
   ]
  },
  {
   "cell_type": "markdown",
   "metadata": {
    "slideshow": {
     "slide_type": "slide"
    }
   },
   "source": [
    "\n",
    "It is possible to ask queries on a lot of parameters :\n",
    "\n",
    "- secondary structures\n",
    "- interface or not\n",
    "- what is at the interface (sugar, phosphate or base)\n",
    "- the length of nucleotides\n",
    "- the number of NA chains\n",
    "- the resolution of the complex\n",
    "- ..."
   ]
  },
  {
   "cell_type": "markdown",
   "metadata": {
    "slideshow": {
     "slide_type": "slide"
    }
   },
   "source": [
    "#### Query to find only loop of size of 5 nucleotides in interaction with the protein"
   ]
  },
  {
   "cell_type": "markdown",
   "metadata": {
    "slideshow": {
     "slide_type": "subslide"
    }
   },
   "source": [
    "``` python\n",
    "    ss_set = set([\"L\"])\n",
    "    \n",
    "    nuclfrag = set()\n",
    "    ss = pdb_info['ss'][chain_id]\n",
    "    \n",
    "    interf_prot = pdb_info[\"interface_protein\"][\"model_1\"][chain_id]\n",
    "    for element in interf_prot:\n",
    "        element = element.split(\"_\")[1]\n",
    "    \n",
    "    # List of interface nucleotide resid\n",
    "    nucl_interf = list(interf_prot.keys())\n",
    "    nucl_interf = [element.split(\"_\")[1] for element in nucl_interf]\n",
    "    # List of single-stranded nucleotides resid\n",
    "    nucl_l = [pdb_info[\"mapping\"][chain_id][n.split(\"_\")[1]] for n in ss if ss[n][0] in ss_set]\n",
    "    # List of single-stranded interface nucleotide resid\n",
    "    nucl_interf_l = [int(n) for n in nucl_interf if n in nucl_l]\n",
    "    nucl_interf_l.sort()\n",
    "    \n",
    "    \n",
    "    result = []\n",
    "    \n",
    "    for i in range(len(nucl_interf_l)-5):\n",
    "        if nucl_interf_l[i+4] - nucl_interf_l[i] == 4:\n",
    "            result.append(nucl_interf_l[i:i+5])\n",
    "            \n",
    "    result = set(result)\n",
    "    result = list(result)\n",
    "    result.sort()\n",
    "```"
   ]
  },
  {
   "cell_type": "markdown",
   "metadata": {},
   "source": [
    "#### Find every segment of 7 nucleotides at least and in ss, where at most 2 consecutive nucleotides are not in contact with the proteine"
   ]
  },
  {
   "cell_type": "markdown",
   "metadata": {
    "slideshow": {
     "slide_type": "slide"
    }
   },
   "source": [
    "### 3. Creation of the fragment libraries"
   ]
  },
  {
   "cell_type": "markdown",
   "metadata": {
    "slideshow": {
     "slide_type": "subslide"
    }
   },
   "source": [
    "![](GGMM_global3.png)"
   ]
  },
  {
   "cell_type": "markdown",
   "metadata": {
    "slideshow": {
     "slide_type": "slide"
    }
   },
   "source": [
    "<pre><code>  \"AAA\": {\n",
    "    \"1\": {\n",
    "      \"chain\": \"R\",\n",
    "      \"clust0.2\": 1,\n",
    "      \"clust0.2_center\": true,\n",
    "      \"clust1.0\": 4,\n",
    "      \"clust1.0_center\": true,\n",
    "      \"clust2.0\": 3,\n",
    "      \"clust2.0_center\": true,\n",
    "      \"indices\": [\n",
    "        3,\n",
    "        4,\n",
    "        5\n",
    "      ],\n",
    "      \"model\": 1,\n",
    "      \"resid\": [\n",
    "        \"5\",\n",
    "        \"6\",\n",
    "        \"7\"\n",
    "      ],\n",
    "      \"seq\": \"GAG\",\n",
    "      \"structure\": \"1AQ4\"\n",
    "    },\n",
    "    </code></pre>"
   ]
  },
  {
   "cell_type": "code",
   "execution_count": 1,
   "metadata": {
    "slideshow": {
     "slide_type": "skip"
    }
   },
   "outputs": [
    {
     "name": "stdout",
     "output_type": "stream",
     "text": [
      "/home/amoniot/Documents/NAfragDB-master\n"
     ]
    }
   ],
   "source": [
    "pwd"
   ]
  },
  {
   "cell_type": "code",
   "execution_count": 104,
   "metadata": {
    "slideshow": {
     "slide_type": "skip"
    }
   },
   "outputs": [],
   "source": [
    "cd ..\n",
    "cd example/presentation"
   ]
  },
  {
   "cell_type": "code",
   "execution_count": 110,
   "metadata": {
    "slideshow": {
     "slide_type": "skip"
    }
   },
   "outputs": [
    {
     "name": "stdout",
     "output_type": "stream",
     "text": [
      "ln: impossible de créer le lien symbolique './data': Le fichier existe\n"
     ]
    },
    {
     "ename": "",
     "evalue": "1",
     "output_type": "error",
     "traceback": []
    }
   ],
   "source": [
    "ln -s ./../templates .\n",
    "ln -s ./../data ."
   ]
  },
  {
   "cell_type": "code",
   "execution_count": null,
   "metadata": {
    "slideshow": {
     "slide_type": "slide"
    }
   },
   "outputs": [],
   "source": [
    "./../../create_frag_library.sh rna"
   ]
  },
  {
   "cell_type": "markdown",
   "metadata": {
    "slideshow": {
     "slide_type": "slide"
    }
   },
   "source": [
    "### 4. Statistics on libraries"
   ]
  },
  {
   "cell_type": "markdown",
   "metadata": {
    "slideshow": {
     "slide_type": "subslide"
    }
   },
   "source": [
    "![](GGMM_global4.png)"
   ]
  },
  {
   "cell_type": "code",
   "execution_count": null,
   "metadata": {
    "slideshow": {
     "slide_type": "skip"
    }
   },
   "outputs": [],
   "source": [
    "pwd"
   ]
  },
  {
   "cell_type": "code",
   "execution_count": 200,
   "metadata": {},
   "outputs": [],
   "source": [
    "cd .."
   ]
  },
  {
   "cell_type": "code",
   "execution_count": 2,
   "metadata": {
    "slideshow": {
     "slide_type": "skip"
    }
   },
   "outputs": [],
   "source": [
    "cd search_frag_library"
   ]
  },
  {
   "cell_type": "code",
   "execution_count": 5,
   "metadata": {
    "scrolled": false,
    "slideshow": {
     "slide_type": "slide"
    }
   },
   "outputs": [
    {
     "name": "stdout",
     "output_type": "stream",
     "text": [
      "Nb of fragments in ds : 117035\n",
      "Nb of fragments in ss : 29291\n",
      "Percentage in contact with base : ss 75.26%, ds 58.21%, p-value 0.000000\n",
      "Percentage in contact with ph : ss 85.57%, ds 87.79%, p-value 0.000000\n",
      "Percentage in contact with sugar : ss 80.91%, ds 73.62%, p-value 0.000000\n"
     ]
    }
   ],
   "source": [
    "python3 statistic.py"
   ]
  },
  {
   "cell_type": "markdown",
   "metadata": {},
   "source": [
    "``` python\n",
    "from scipy.stats import fisher_exact\n",
    "\n",
    "fragments = np.load(\"fragments_clust-aa_missing.npy\")\n",
    "chaindata = json.load(open(\"chainsmodel_frag_light.json\"))\n",
    "\n",
    "ss = query(chaindata, chainschema, fragments, is_ss, \"ss\", part=None)\n",
    "\n",
    "ds = query(chaindata, chainschema, fragments, is_ds, \"ss\", part=None)\n",
    "\n",
    "counts={}\n",
    "for part in [\"ph\",\"sug\", \"base\"]:\n",
    "    for statename, state in zip([\"ss\",\"ds\"],[ss, ds]):\n",
    "        #print(part, statename)\n",
    "        counts[statename, part] = np.array(query(chaindata, chainschema, fragments[state], contact_parts, \"interface_protein\", part))\n",
    "\n",
    "a = sum(counts[\"ss\",\"base\"])\n",
    "b = ss_all - sum(counts[\"ss\",\"base\"])\n",
    "c = sum(counts[\"ds\",\"base\"])\n",
    "d = ds_all - sum(counts[\"ds\",\"base\"])\n",
    "table = [[a,b],[c,d]]\n",
    "\n",
    "print(\"Percentage in contact with base : ss {0:.2f}%, ds {1:.2f}%, p-value {2:.6f}\".format(\n",
    "100*a/ss_all, 100*c/ds_all, fisher_exact(table)[1]))\n",
    "```"
   ]
  },
  {
   "cell_type": "markdown",
   "metadata": {
    "slideshow": {
     "slide_type": "slide"
    }
   },
   "source": [
    "## Conclusion"
   ]
  },
  {
   "cell_type": "markdown",
   "metadata": {
    "slideshow": {
     "slide_type": "subslide"
    }
   },
   "source": [
    "![](GGMM_global5.png)"
   ]
  }
 ],
 "metadata": {
  "kernelspec": {
   "display_name": "Bash",
   "language": "bash",
   "name": "bash"
  },
  "language_info": {
   "codemirror_mode": "shell",
   "file_extension": ".sh",
   "mimetype": "text/x-sh",
   "name": "bash"
  }
 },
 "nbformat": 4,
 "nbformat_minor": 2
}
