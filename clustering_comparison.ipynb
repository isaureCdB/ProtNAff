{
 "cells": [
  {
   "cell_type": "markdown",
   "metadata": {},
   "source": [
    "# Clustering comparison\n",
    "\n",
    "This notebook compares two clustering methods:\n",
    "- fastclust: a star-shape algorithm that selects a set prototypes from starting structures, and creates clusters with all distances of each member to its central element (prototype) below a given threshold.[see https://hal.archives-ouvertes.fr/hal-03540927/]\n",
    "- radius: a hierarchical ascendant clustering with linkage function as the radius of the smallest enclosing ball. The prototypes are the centers of the balls (and not a subset of the initial structures).[see https://hal.archives-ouvertes.fr/hal-03651323]"
   ]
  },
 
  {
   "cell_type": "code",
   "execution_count": 30,
   "metadata": {},
   "outputs": [],
   "source": [
    "first_clust_1A = {'AAA': 2589, 'AAC': 2063, 'ACA': 1810, 'ACC': 1781, 'CAA': 2154, 'CAC': 1545, 'CCA': 1934, 'CCC': 2515}\n",
    "sec_clust_1A = {'AAA': 1022, 'AAC': 740, 'ACA': 672, 'ACC': 674, 'CAA': 798, 'CAC': 585, 'CCA': 727, 'CCC': 891}\n",
    "first_clust_3A = {'AAA': 341, 'AAC': 282, 'ACA': 260, 'ACC': 289, 'CAA': 264, 'CAC': 207, 'CCA': 231, 'CCC': 258}\n",
    "sec_clust_3A = {'AAA': 392, 'AAC': 272, 'ACA': 245, 'ACC': 263, 'CAA': 314, 'CAC': 189, 'CCA': 271, 'CCC': 260}"
   ]
  },
  {
   "cell_type": "markdown",
   "metadata": {},
   "source": [
    "## Number of clusters at 1A RMSD"
   ]
  },
  {
   "cell_type": "code",
   "execution_count": 31,
   "metadata": {},
   "outputs": [
    {
     "name": "stdout",
     "output_type": "stream",
     "text": [
      "Ratio from first on second:\n",
      "AAA = 2.5332681017612524\n",
      "AAC = 2.787837837837838\n",
      "ACA = 2.693452380952381\n",
      "ACC = 2.642433234421365\n",
      "CAA = 2.699248120300752\n",
      "CAC = 2.641025641025641\n",
      "CCA = 2.660247592847318\n",
      "CCC = 2.8226711560044895\n"
     ]
    }
   ],
   "source": [
    "print(\"Ratio from first on second:\")\n",
    "for motif in first_clust_1A.keys():\n",
    "    print(motif + \" = \" + str(first_clust_1A[motif]/sec_clust_1A[motif]))"
   ]
  },
  {
   "cell_type": "markdown",
   "metadata": {},
   "source": [
    "We have between 2.5 and 3 more clusters when using fastclust compared to using radius. "
   ]
  },
  {
   "cell_type": "code",
   "execution_count": 5,
   "metadata": {},
   "outputs": [
    {
     "data": {
      "image/png": "[encoded data removed]",
      "text/plain": [
       "<Figure size 432x288 with 1 Axes>"
      ]
     },
     "metadata": {
      "needs_background": "light"
     },
     "output_type": "display_data"
    }
   ],
   "source": [
    "import matplotlib.pyplot as plt\n",
    "\n",
    "tick = [\"RRR\", \"RRY\", \"RYR\", \"RYY\", \"YRR\", \"YRY\", \"YYR\", \"YYY\"]\n",
    "\n",
    "plt.bar([1, 2, 3, 4, 5, 6, 7, 8], first_clust_1A.values(), 0.4, label=\"fastclust\", color='green')\n",
    "plt.bar([1.4, 2.4, 3.4, 4.4, 5.4, 6.4, 7.4, 8.4], sec_clust_1A.values(), 0.4, label=\"radius\", color='orange')\n",
    "\n",
    "plt.xticks([1.2, 2.2, 3.2, 4.2, 5.2, 6.2, 7.2, 8.2], tick)\n",
    "\n",
    "plt.legend()\n",
    "\n",
    "plt.show()"
   ]
  },
  {
   "cell_type": "markdown",
   "metadata": {},
   "source": [
    "The differences of number of clusters among the purine/pyrimidine motifs remain qualitatively similar for both clustering methods."
   ]
  },
  {
   "cell_type": "code",
   "execution_count": 7,
   "metadata": {},
   "outputs": [
    {
     "name": "stdout",
     "output_type": "stream",
     "text": [
      "Ttest_relResult(statistic=15.899436337157697, pvalue=9.44468577792314e-07)\n"
     ]
    }
   ],
   "source": [
    "from scipy.stats import ttest_rel\n",
    "\n",
    "print(ttest_rel(list(first_clust_1A.values()), list(sec_clust_1A.values())))"
   ]
  },
  {
   "cell_type": "markdown",
   "metadata": {},
   "source": [
    "A student test is made to compare the two numbers of clusters obtained with each clustering method. We can conclude that the HAC method creates less clusters, as the pvalue is below 0.001."
   ]
  },
  {
   "cell_type": "markdown",
   "metadata": {},
   "source": [
    "## Number of clusters at 3A RMSD"
   ]
  },
  {
   "cell_type": "code",
   "execution_count": 32,
   "metadata": {},
   "outputs": [
    {
     "data": {
      "image/png": "[encoded data removed]",
      "text/plain": [
       "<Figure size 432x288 with 1 Axes>"
      ]
     },
     "metadata": {
      "needs_background": "light"
     },
     "output_type": "display_data"
    }
   ],
   "source": [
    "tick = [\"RRR\", \"RRY\", \"RYR\", \"RYY\", \"YRR\", \"YRY\", \"YYR\", \"YYY\"]\n",
    "\n",
    "plt.bar([1, 2, 3, 4, 5, 6, 7, 8], first_clust_3A.values(), 0.4, label=\"fastclust\", color='green')\n",
    "plt.bar([1.4, 2.4, 3.4, 4.4, 5.4, 6.4, 7.4, 8.4], sec_clust_3A.values(), 0.4, label=\"radius\", color='orange')\n",
    "\n",
    "plt.xticks([1.2, 2.2, 3.2, 4.2, 5.2, 6.2, 7.2, 8.2], tick)\n",
    "\n",
    "plt.legend()\n",
    "\n",
    "plt.show()"
   ]
  },
  {
   "cell_type": "markdown",
   "metadata": {},
   "source": [
    "## Conformations (1A RMSD) induced by protein-binding"
   ]
  },
  {
   "cell_type": "markdown",
   "metadata": {},
   "source": [
    "A deeper comparison will require the user to create the clusters using both methods.The first clustering folder is created with the `data_protnaff.ipynb` notebook. We will create the second one here (**pay attention, it will take several hours !**)"
   ]
  },
  {
   "cell_type": "code",
   "execution_count": null,
   "metadata": {},
   "outputs": [],
   "source": [
    "!mv $PROTNAFF/data_paper/trilib $PROTNAFF/data_paper/trilib_fast\n",
    "!cd $PROTNAFF/data_paper && bash $PROTNAFF/create_frag_library.sh -a rna\n",
    "!mv $PROTNAFF/data_paper/trilib $PROTNAFF/data_paper/trilib_radius\n",
    "!mv $PROTNAFF/data_paper/trilib_fast $PROTNAFF/data_paper/trilib"
   ]
  },
  {
   "cell_type": "code",
   "execution_count": 8,
   "metadata": {},
   "outputs": [],
   "source": [
    "def parsing_fragments(fragments, structures, cutoff):\n",
    "    \"\"\"\n",
    "    This function will parse the fragments dictionnary to extract information about clusters, \n",
    "    then it will parse those clusters to extract their properties.\n",
    "    results are given for each cluster\n",
    "    res_bis is a sum of information by cluster\n",
    "    \"\"\"\n",
    "    results = {\"AAA\":{}, \"AAC\":{}, \"ACA\":{}, \"ACC\":{}, \"CAA\":{}, \"CAC\":{}, \"CCA\":{}, \"CCC\":{}}\n",
    "    res_bis = {\"AAA\":{}, \"AAC\":{}, \"ACA\":{}, \"ACC\":{}, \"CAA\":{}, \"CAC\":{}, \"CCA\":{}, \"CCC\":{}}\n",
    "    for key in results.keys():\n",
    "        for key2 in fragments[key].keys():\n",
    "            model = \"model_\" + str(fragments[key][key2][\"model\"])\n",
    "            chain = \"chain_\" + str(fragments[key][key2][\"chain\"])\n",
    "            contact = False\n",
    "            interface = set()\n",
    "            for nucl in structures[fragments[key][key2]['structure']][\"interface_protein\"][\"model_1\"][chain].keys():\n",
    "                interface.add(nucl.split('_')[1])\n",
    "            ss=True\n",
    "            ds=0\n",
    "            for nucl in fragments[key][key2]['indices']:\n",
    "                if str(nucl) in interface:\n",
    "                    contact = True\n",
    "                if structures[fragments[key][key2]['structure']][\"ss\"][chain][\"res_\"+str(nucl)][0]==\"D\":\n",
    "                    ss=False\n",
    "                    ds+=1\n",
    "            if fragments[key][key2][cutoff] not in results[key].keys():\n",
    "                results[key][fragments[key][key2][cutoff]] = {\"contact_ss\":0, \"contact_ds\":0, \"contact_mixte\":0, \"nocontact_ss\":0, \"nocontact_ds\":0, \"nocontact_mixte\":0}\n",
    "            if contact:\n",
    "                if ss:\n",
    "                    results[key][fragments[key][key2][cutoff]][\"contact_ss\"] += 1\n",
    "                elif ds == 3:\n",
    "                    results[key][fragments[key][key2][cutoff]][\"contact_ds\"] += 1\n",
    "                else:\n",
    "                    results[key][fragments[key][key2][cutoff]][\"contact_mixte\"] += 1\n",
    "            else:\n",
    "                if ss:\n",
    "                    results[key][fragments[key][key2][cutoff]][\"nocontact_ss\"] += 1\n",
    "                elif ds == 3:\n",
    "                    results[key][fragments[key][key2][cutoff]][\"nocontact_ds\"] += 1\n",
    "                else:\n",
    "                    results[key][fragments[key][key2][cutoff]][\"nocontact_mixte\"] += 1\n",
    "        con_ss = 0\n",
    "        sum_con_ss = 0\n",
    "        con_ds = 0\n",
    "        sum_con_ds = 0\n",
    "        con_mixte = 0\n",
    "        sum_con_mixte = 0\n",
    "        nocon_ss = 0\n",
    "        sum_nocon_ss = 0\n",
    "        nocon_ds = 0\n",
    "        sum_nocon_ds = 0\n",
    "        nocon_mixte = 0\n",
    "        sum_nocon_mixte = 0\n",
    "        mixte_ss = 0\n",
    "        sum_mixte_ss = 0\n",
    "        mixte_ds = 0\n",
    "        sum_mixte_ds = 0\n",
    "        mixte_mixte = 0\n",
    "        sum_mixte_mixte=0\n",
    "        for clust in results[key].keys():\n",
    "            #if there is at least 3 fragments in the cluster:\n",
    "            if results[key][clust][\"contact_ss\"] + results[key][clust][\"contact_ds\"] + results[key][clust][\"contact_mixte\"] + results[key][clust][\"nocontact_ss\"] + results[key][clust][\"nocontact_ds\"] + results[key][clust][\"nocontact_mixte\"] > 2:\n",
    "                if results[key][clust][\"nocontact_mixte\"] == 0 and results[key][clust][\"nocontact_ds\"] == 0 and results[key][clust][\"nocontact_ss\"] == 0:\n",
    "                    if results[key][clust][\"contact_mixte\"] > 0:\n",
    "                        con_mixte += 1\n",
    "                        sum_con_mixte += results[key][clust][\"contact_ss\"] + results[key][clust][\"contact_ds\"] + results[key][clust][\"contact_mixte\"]\n",
    "                    else:\n",
    "                        if results[key][clust][\"contact_ds\"] == 0:\n",
    "                            con_ss += 1\n",
    "                            sum_con_ss += results[key][clust][\"contact_ss\"]\n",
    "                        else:\n",
    "                            con_ds += 1\n",
    "                            sum_con_ds += results[key][clust][\"contact_ds\"]\n",
    "                elif results[key][clust][\"contact_ss\"] == 0 and results[key][clust][\"contact_ds\"] == 0 and results[key][clust][\"contact_mixte\"] == 0:\n",
    "                    if results[key][clust][\"nocontact_mixte\"] > 0:\n",
    "                        nocon_mixte += 1\n",
    "                        sum_nocon_mixte += results[key][clust][\"nocontact_ss\"] + results[key][clust][\"nocontact_ds\"] + results[key][clust][\"nocontact_mixte\"]\n",
    "                    else:\n",
    "                        if results[key][clust][\"nocontact_ss\"] == 0:\n",
    "                            nocon_ds += 1\n",
    "                            sum_nocon_ds += results[key][clust][\"nocontact_ds\"]\n",
    "                        else:\n",
    "                            nocon_ss += 1\n",
    "                            sum_nocon_ss += results[key][clust][\"nocontact_ss\"]\n",
    "                else:\n",
    "                    if results[key][clust][\"nocontact_mixte\"] > 0 or results[key][clust][\"contact_mixte\"] > 0 or (results[key][clust][\"nocontact_ss\"] != 0 and results[key][clust][\"nocontact_ds\"] !=0) or (results[key][clust][\"contact_ss\"] != 0 or results[key][clust][\"contact_ds\"] !=0):\n",
    "                        mixte_mixte += 1\n",
    "                        sum_mixte_mixte += results[key][clust][\"nocontact_ss\"] + results[key][clust][\"nocontact_ds\"] + results[key][clust][\"nocontact_mixte\"] + results[key][clust][\"contact_ss\"] + results[key][clust][\"contact_ds\"] + results[key][clust][\"contact_mixte\"]\n",
    "                    else:\n",
    "                        if results[key][clust][\"contact_ss\"] == 0 and results[key][clust][\"nocontact_ss\"] == 0:\n",
    "                            mixte_ds += 1\n",
    "                            sum_mixte_ds += results[key][clust][\"nocontact_ds\"] + results[key][clust][\"contact_ds\"]\n",
    "                        else:\n",
    "                            mixte_ss += 1\n",
    "                            sum_mixte_ss += results[key][clust][\"contact_ss\"] + results[key][clust][\"nocontact_ss\"]             \n",
    "\n",
    "        res_bis[key] = {\"contact_ss\":con_ss, \"contact_ds\":con_ds, \"contact_mixte\":con_mixte, \"nocontact_ss\":nocon_ss, \"nocontact_ds\":nocon_ds, \"nocontact_mixte\":nocon_mixte, \"mixte_ss\":mixte_ss, \"mixte_ds\":mixte_ds, \"mixte_mixte\":mixte_mixte, \\\n",
    "                       \"sum_contact_ss\":sum_con_ss, \"sum_contact_ds\":sum_con_ds, \"sum_contact_mixte\":sum_con_mixte, \\\n",
    "                       \"sum_nocontact_ss\":sum_nocon_ss, \"sum_nocontact_ds\":sum_nocon_ds, \"sum_nocontact_mixte\":sum_nocon_mixte,\\\n",
    "                       \"sum_mixte_ss\":sum_mixte_ss, \"sum_mixte_ds\":sum_mixte_ds, \"sum_mixte_mixte\":sum_mixte_mixte}\n",
    "\n",
    "    return results, res_bis"
   ]
  },
  {
   "cell_type": "code",
   "execution_count": 22,
   "metadata": {},
   "outputs": [],
   "source": [
    "import os\n",
    "import json\n",
    "import numpy as np\n",
    "\n",
    "#The graphics libraries\n",
    "import matplotlib.pyplot as plt\n",
    "import matplotlib.gridspec as gridspec\n",
    "import matplotlib.image as mpimg\n",
    "%config InlineBackend.print_figure_kwargs={'facecolor' : \"w\"}\n",
    "\n",
    "folder = \"./data_paper\"\n",
    "folder_fastclust = \"./data_paper/trilib\"\n",
    "folder_radius = \"./data_paper/trilib_radius\"\n",
    "\n",
    "structures = json.load(open(\"{}/structures.json\".format(folder)))\n",
    "fragments_fastclust = json.load(open(\"{}/fragments_clust.json\".format(folder)))\n",
    "fragments_radius = json.load(open(\"{}/fragments_clust_radius.json\".format(folder)))"
   ]
  },
  {
   "cell_type": "code",
   "execution_count": 33,
   "metadata": {},
   "outputs": [],
   "source": [
    "results_1A, res_cluster_1A = parsing_fragments(fragments_fastclust, structures, 'clust1.0')\n",
    "results_1A_radius, res_cluster_1A_radius = parsing_fragments(fragments_radius, structures, 'clust1.0')\n",
    "results_3A, res_cluster_3A = parsing_fragments(fragments_fastclust, structures, 'clust3.0')\n",
    "results_3A_radius, res_cluster_3A_radius = parsing_fragments(fragments_radius, structures, 'clust3.0')"
   ]
  },
  {
   "cell_type": "code",
   "execution_count": 34,
   "metadata": {},
   "outputs": [
    {
     "name": "stderr",
     "output_type": "stream",
     "text": [
      "The PostScript backend does not support transparency; partially transparent artists will be rendered opaque.\n",
      "The PostScript backend does not support transparency; partially transparent artists will be rendered opaque.\n"
     ]
    },
    {
     "data": {
      "image/png": "[encoded data removed]",
      "text/plain": [
       "<Figure size 360x432 with 2 Axes>"
      ]
     },
     "metadata": {
      "needs_background": "light"
     },
     "output_type": "display_data"
    }
   ],
   "source": [
    "hist={\"AAA\":[], \"AAC\":[], \"ACA\":[], \"ACC\":[], \"CAA\":[], \"CAC\":[], \"CCA\":[], \"CCC\":[]}\n",
    "tick = [\"RRR\", \"RRY\", \"RYR\", \"RYY\", \"YRR\", \"YRY\", \"YYR\", \"YYY\"]\n",
    "\n",
    "for key in res_cluster_1A.keys():\n",
    "    if (res_cluster_1A[key][\"contact_ss\"]+res_cluster_1A[key][\"mixte_ss\"]+res_cluster_1A[key][\"nocontact_ss\"]) != 0:\n",
    "        hist[key].append(round((100*(res_cluster_1A[key][\"contact_ss\"]/(res_cluster_1A[key][\"contact_ss\"]+res_cluster_1A[key][\"mixte_ss\"]+res_cluster_1A[key][\"nocontact_ss\"]))),2))\n",
    "    else:\n",
    "        hist[key].append(0)\n",
    "    if (res_cluster_1A[key][\"contact_mixte\"]+res_cluster_1A[key][\"mixte_mixte\"]+res_cluster_1A[key][\"nocontact_mixte\"]+res_cluster_1A[key][\"contact_ds\"]+res_cluster_1A[key][\"mixte_ds\"]+res_cluster_1A[key][\"nocontact_ds\"]) != 0:\n",
    "        hist[key].append(round((100*((res_cluster_1A[key][\"contact_mixte\"]+res_cluster_1A[key][\"contact_ds\"])/(res_cluster_1A[key][\"contact_mixte\"]+res_cluster_1A[key][\"mixte_mixte\"]+res_cluster_1A[key][\"nocontact_mixte\"]+res_cluster_1A[key][\"contact_ds\"]+res_cluster_1A[key][\"mixte_ds\"]+res_cluster_1A[key][\"nocontact_ds\"]))),2))\n",
    "    else:\n",
    "        hist[key].append(0)\n",
    "        \n",
    "a = [row[0] for row in list(hist.values())]\n",
    "b = [row[1] for row in list(hist.values())]\n",
    "\n",
    "hist_1A_radius={\"AAA\":[], \"AAC\":[], \"ACA\":[], \"ACC\":[], \"CAA\":[], \"CAC\":[], \"CCA\":[], \"CCC\":[]}\n",
    "\n",
    "for key in res_cluster_1A_radius.keys():\n",
    "    if (res_cluster_1A_radius[key][\"contact_ss\"]+res_cluster_1A_radius[key][\"mixte_ss\"]+res_cluster_1A_radius[key][\"nocontact_ss\"]) != 0:\n",
    "        hist_1A_radius[key].append(round((100*(res_cluster_1A_radius[key][\"contact_ss\"]/(res_cluster_1A_radius[key][\"contact_ss\"]+res_cluster_1A_radius[key][\"mixte_ss\"]+res_cluster_1A_radius[key][\"nocontact_ss\"]))),2))\n",
    "    else:\n",
    "        hist_1A_radius[key].append(0)\n",
    "    if (res_cluster_1A_radius[key][\"contact_mixte\"]+res_cluster_1A_radius[key][\"mixte_mixte\"]+res_cluster_1A_radius[key][\"nocontact_mixte\"]+res_cluster_1A_radius[key][\"contact_ds\"]+res_cluster_1A_radius[key][\"mixte_ds\"]+res_cluster_1A_radius[key][\"nocontact_ds\"]) != 0:\n",
    "        hist_1A_radius[key].append(round((100*((res_cluster_1A_radius[key][\"contact_mixte\"]+res_cluster_1A_radius[key][\"contact_ds\"])/(res_cluster_1A_radius[key][\"contact_mixte\"]+res_cluster_1A_radius[key][\"mixte_mixte\"]+res_cluster_1A_radius[key][\"nocontact_mixte\"]+res_cluster_1A_radius[key][\"contact_ds\"]+res_cluster_1A_radius[key][\"mixte_ds\"]+res_cluster_1A_radius[key][\"nocontact_ds\"]))),2))\n",
    "    else:\n",
    "        hist_1A_radius[key].append(0)\n",
    "        \n",
    "a_1A_radius = [row[0] for row in list(hist_1A_radius.values())]\n",
    "b_1A_radius = [row[1] for row in list(hist_1A_radius.values())]\n",
    "\n",
    "fig4 = plt.figure(figsize=(5, 6))\n",
    "gs = gridspec.GridSpec(2, 1)\n",
    "\n",
    "x1= [i-0.2 for i in range(8)]\n",
    "x2= [i+0.2 for i in range(8)]\n",
    "\n",
    "ax1 = plt.subplot(gs[0, 0])\n",
    "ax1.bar(x1, a, width=0.4, color='b', align='center', label=\"fully ss\")\n",
    "ax1.bar(x2, b, width=0.4, color='g', align='center', label=\"ss/ds\")\n",
    "ax1.xaxis.set_ticks(range(8))\n",
    "ax1.xaxis.set_ticklabels(tick, color=\"black\")\n",
    "ax1.set_ylim(0,100)\n",
    "\n",
    "ax2 = plt.subplot(gs[1, 0])\n",
    "ax2.bar(x1, a_1A_radius, width=0.4, color='b', align='center', label=\"fully ss\")\n",
    "ax2.bar(x2, b_1A_radius, width=0.4, color='g', align='center', label=\"ss/ds\")\n",
    "ax2.xaxis.set_ticks(range(8))\n",
    "ax2.xaxis.set_ticklabels(tick, color=\"black\")\n",
    "ax2.set_ylim(0,100)\n",
    "\n",
    "fig4.text(0.01, 0.5, 'Percentage', va='center', rotation='vertical')\n",
    "ax1.legend(loc=\"upper right\")\n",
    "#plt.figure(figsize=(4,6))\n",
    "plt.savefig(\"fig5.eps\", facecolor=\"w\", dpi=600, format='eps')\n",
    "plt.show()"
   ]
  },
  {
   "cell_type": "markdown",
   "metadata": {},
   "source": [
    " Percentage of the either purely single-stranded or mixed clusters (1A) that are induced by the contact to the protein. The upper panel corresponds to the clusters obtained by fastclust, and the lower panel by radius.."
   ]
  },
{
   "cell_type": "markdown",
   "metadata": {},
   "source": [
    "## Conformations (3A RMSD) induced by protein-binding"
   ]
  },
  {
   "cell_type": "code",
   "execution_count": 40,
   "metadata": {},
   "outputs": [
    {
     "name": "stdout",
     "output_type": "stream",
     "text": [
      "{'AAA': {'contact_ss': 0, 'contact_ds': 0, 'contact_mixte': 0, 'nocontact_ss': 0, 'nocontact_ds': 0, 'nocontact_mixte': 0, 'mixte_ss': 0, 'mixte_ds': 0, 'mixte_mixte': 1, 'sum_contact_ss': 0, 'sum_contact_ds': 0, 'sum_contact_mixte': 0, 'sum_nocontact_ss': 0, 'sum_nocontact_ds': 0, 'sum_nocontact_mixte': 0, 'sum_mixte_ss': 0, 'sum_mixte_ds': 0, 'sum_mixte_mixte': 17540}, 'AAC': {'contact_ss': 0, 'contact_ds': 0, 'contact_mixte': 0, 'nocontact_ss': 0, 'nocontact_ds': 0, 'nocontact_mixte': 0, 'mixte_ss': 0, 'mixte_ds': 0, 'mixte_mixte': 1, 'sum_contact_ss': 0, 'sum_contact_ds': 0, 'sum_contact_mixte': 0, 'sum_nocontact_ss': 0, 'sum_nocontact_ds': 0, 'sum_nocontact_mixte': 0, 'sum_mixte_ss': 0, 'sum_mixte_ds': 0, 'sum_mixte_mixte': 14388}, 'ACA': {'contact_ss': 0, 'contact_ds': 0, 'contact_mixte': 0, 'nocontact_ss': 0, 'nocontact_ds': 0, 'nocontact_mixte': 0, 'mixte_ss': 0, 'mixte_ds': 0, 'mixte_mixte': 1, 'sum_contact_ss': 0, 'sum_contact_ds': 0, 'sum_contact_mixte': 0, 'sum_nocontact_ss': 0, 'sum_nocontact_ds': 0, 'sum_nocontact_mixte': 0, 'sum_mixte_ss': 0, 'sum_mixte_ds': 0, 'sum_mixte_mixte': 12032}, 'ACC': {'contact_ss': 0, 'contact_ds': 0, 'contact_mixte': 0, 'nocontact_ss': 0, 'nocontact_ds': 0, 'nocontact_mixte': 0, 'mixte_ss': 0, 'mixte_ds': 0, 'mixte_mixte': 1, 'sum_contact_ss': 0, 'sum_contact_ds': 0, 'sum_contact_mixte': 0, 'sum_nocontact_ss': 0, 'sum_nocontact_ds': 0, 'sum_nocontact_mixte': 0, 'sum_mixte_ss': 0, 'sum_mixte_ds': 0, 'sum_mixte_mixte': 12541}, 'CAA': {'contact_ss': 0, 'contact_ds': 0, 'contact_mixte': 0, 'nocontact_ss': 0, 'nocontact_ds': 0, 'nocontact_mixte': 0, 'mixte_ss': 0, 'mixte_ds': 0, 'mixte_mixte': 1, 'sum_contact_ss': 0, 'sum_contact_ds': 0, 'sum_contact_mixte': 0, 'sum_nocontact_ss': 0, 'sum_nocontact_ds': 0, 'sum_nocontact_mixte': 0, 'sum_mixte_ss': 0, 'sum_mixte_ds': 0, 'sum_mixte_mixte': 13062}, 'CAC': {'contact_ss': 0, 'contact_ds': 0, 'contact_mixte': 0, 'nocontact_ss': 0, 'nocontact_ds': 0, 'nocontact_mixte': 0, 'mixte_ss': 0, 'mixte_ds': 0, 'mixte_mixte': 1, 'sum_contact_ss': 0, 'sum_contact_ds': 0, 'sum_contact_mixte': 0, 'sum_nocontact_ss': 0, 'sum_nocontact_ds': 0, 'sum_nocontact_mixte': 0, 'sum_mixte_ss': 0, 'sum_mixte_ds': 0, 'sum_mixte_mixte': 10355}, 'CCA': {'contact_ss': 0, 'contact_ds': 0, 'contact_mixte': 0, 'nocontact_ss': 0, 'nocontact_ds': 0, 'nocontact_mixte': 0, 'mixte_ss': 0, 'mixte_ds': 0, 'mixte_mixte': 1, 'sum_contact_ss': 0, 'sum_contact_ds': 0, 'sum_contact_mixte': 0, 'sum_nocontact_ss': 0, 'sum_nocontact_ds': 0, 'sum_nocontact_mixte': 0, 'sum_mixte_ss': 0, 'sum_mixte_ds': 0, 'sum_mixte_mixte': 11326}, 'CCC': {'contact_ss': 0, 'contact_ds': 0, 'contact_mixte': 0, 'nocontact_ss': 0, 'nocontact_ds': 0, 'nocontact_mixte': 0, 'mixte_ss': 0, 'mixte_ds': 0, 'mixte_mixte': 1, 'sum_contact_ss': 0, 'sum_contact_ds': 0, 'sum_contact_mixte': 0, 'sum_nocontact_ss': 0, 'sum_nocontact_ds': 0, 'sum_nocontact_mixte': 0, 'sum_mixte_ss': 0, 'sum_mixte_ds': 0, 'sum_mixte_mixte': 14617}}\n"
     ]
    },
    {
     "data": {
      "image/png": "[encoded data removed]",
      "text/plain": [
       "<Figure size 360x432 with 2 Axes>"
      ]
     },
     "metadata": {
      "needs_background": "light"
     },
     "output_type": "display_data"
    }
   ],
   "source": [
    "hist={\"AAA\":[], \"AAC\":[], \"ACA\":[], \"ACC\":[], \"CAA\":[], \"CAC\":[], \"CCA\":[], \"CCC\":[]}\n",
    "tick = [\"RRR\", \"RRY\", \"RYR\", \"RYY\", \"YRR\", \"YRY\", \"YYR\", \"YYY\"]\n",
    "\n",
    "for key in res_cluster_3A.keys():\n",
    "    if (res_cluster_3A[key][\"contact_ss\"]+res_cluster_3A[key][\"mixte_ss\"]+res_cluster_3A[key][\"nocontact_ss\"]) != 0:\n",
    "        hist[key].append(round((100*(res_cluster_3A[key][\"contact_ss\"]/(res_cluster_3A[key][\"contact_ss\"]+res_cluster_3A[key][\"mixte_ss\"]+res_cluster_3A[key][\"nocontact_ss\"]))),2))\n",
    "    else:\n",
    "        hist[key].append(0)\n",
    "    if (res_cluster_3A[key][\"contact_mixte\"]+res_cluster_3A[key][\"mixte_mixte\"]+res_cluster_3A[key][\"nocontact_mixte\"]+res_cluster_3A[key][\"contact_ds\"]+res_cluster_3A[key][\"mixte_ds\"]+res_cluster_3A[key][\"nocontact_ds\"]) != 0:\n",
    "        hist[key].append(round((100*((res_cluster_3A[key][\"contact_mixte\"]+res_cluster_3A[key][\"contact_ds\"])/(res_cluster_3A[key][\"contact_mixte\"]+res_cluster_3A[key][\"mixte_mixte\"]+res_cluster_3A[key][\"nocontact_mixte\"]+res_cluster_3A[key][\"contact_ds\"]+res_cluster_3A[key][\"mixte_ds\"]+res_cluster_3A[key][\"nocontact_ds\"]))),2))\n",
    "    else:\n",
    "        hist[key].append(0)\n",
    "        \n",
    "a = [row[0] for row in list(hist.values())]\n",
    "b = [row[1] for row in list(hist.values())]\n",
    "\n",
    "hist_3A_radius={\"AAA\":[], \"AAC\":[], \"ACA\":[], \"ACC\":[], \"CAA\":[], \"CAC\":[], \"CCA\":[], \"CCC\":[]}\n",
    "\n",
    "for key in res_cluster_3A_radius.keys():\n",
    "    if (res_cluster_3A_radius[key][\"contact_ss\"]+res_cluster_3A_radius[key][\"mixte_ss\"]+res_cluster_3A_radius[key][\"nocontact_ss\"]) != 0:\n",
    "        hist_3A_radius[key].append(round((100*(res_cluster_3A_radius[key][\"contact_ss\"]/(res_cluster_3A_radius[key][\"contact_ss\"]+res_cluster_3A_radius[key][\"mixte_ss\"]+res_cluster_3A_radius[key][\"nocontact_ss\"]))),2))\n",
    "    else:\n",
    "        hist_3A_radius[key].append(0)\n",
    "    if (res_cluster_3A_radius[key][\"contact_mixte\"]+res_cluster_3A_radius[key][\"mixte_mixte\"]+res_cluster_3A_radius[key][\"nocontact_mixte\"]+res_cluster_3A_radius[key][\"contact_ds\"]+res_cluster_3A_radius[key][\"mixte_ds\"]+res_cluster_3A_radius[key][\"nocontact_ds\"]) != 0:\n",
    "        hist_3A_radius[key].append(round((100*((res_cluster_3A_radius[key][\"contact_mixte\"]+res_cluster_3A_radius[key][\"contact_ds\"])/(res_cluster_3A_radius[key][\"contact_mixte\"]+res_cluster_3A_radius[key][\"mixte_mixte\"]+res_cluster_3A_radius[key][\"nocontact_mixte\"]+res_cluster_3A_radius[key][\"contact_ds\"]+res_cluster_3A_radius[key][\"mixte_ds\"]+res_cluster_3A_radius[key][\"nocontact_ds\"]))),2))\n",
    "    else:\n",
    "        hist_1A_radius[key].append(0)\n",
    "        \n",
    "a_3A_radius = [row[0] for row in list(hist_3A_radius.values())]\n",
    "b_3A_radius = [row[1] for row in list(hist_3A_radius.values())]\n",
    "print(res_cluster_3A_radius)\n",
    "fig4 = plt.figure(figsize=(5, 6))\n",
    "gs = gridspec.GridSpec(2, 1)\n",
    "\n",
    "x1= [i-0.2 for i in range(8)]\n",
    "x2= [i+0.2 for i in range(8)]\n",
    "\n",
    "ax1 = plt.subplot(gs[0, 0])\n",
    "ax1.bar(x1, a, width=0.4, color='b', align='center', label=\"fully ss\")\n",
    "ax1.bar(x2, b, width=0.4, color='g', align='center', label=\"ss/ds\")\n",
    "ax1.xaxis.set_ticks(range(8))\n",
    "ax1.xaxis.set_ticklabels(tick, color=\"black\")\n",
    "ax1.set_ylim(0,100)\n",
    "\n",
    "ax2 = plt.subplot(gs[1, 0])\n",
    "ax2.bar(x1, a_3A_radius, width=0.4, color='b', align='center', label=\"fully ss\")\n",
    "ax2.bar(x2, b_3A_radius, width=0.4, color='g', align='center', label=\"ss/ds\")\n",
    "ax2.xaxis.set_ticks(range(8))\n",
    "ax2.xaxis.set_ticklabels(tick, color=\"black\")\n",
    "ax2.set_ylim(0,100)\n",
    "\n",
    "fig4.text(0.01, 0.5, 'Percentage', va='center', rotation='vertical')\n",
    "ax1.legend(loc=\"upper right\")\n",
    "#plt.figure(figsize=(4,6))\n",
    "#plt.savefig(\"fig5.eps\", facecolor=\"w\", dpi=600, format='eps')\n",
    "plt.show()"
   ]
  },

  {
   "cell_type": "markdown",
   "metadata": {},
   "source": [
    " Percentage of the either purely single-stranded or mixed clusters (3A) that are induced by the contact to the protein. The upper panel corresponds to the clusters obtained by fastclust, and the lower panel by radius.."
   ]
  },
  {
   "cell_type": "markdown",
   "metadata": {},
   "source": [
    "## Number of clusters with less than 3 elements"
   ]
  },
  {
   "cell_type": "code",
   "execution_count": 28,
   "metadata": {},
   "outputs": [
    {
     "name": "stdout",
     "output_type": "stream",
     "text": [
      "AAA 2590 1930 660\n",
      "AAC 2064 1571 493\n",
      "ACA 1811 1373 438\n",
      "ACC 1782 1441 341\n",
      "CAA 2155 1597 558\n",
      "CAC 1546 1184 362\n",
      "CCA 1935 1547 388\n",
      "CCC 2516 2042 474\n",
      "\n",
      "AAA 1023 403 620\n",
      "AAC 741 295 446\n",
      "ACA 673 266 407\n",
      "ACC 675 303 372\n",
      "CAA 799 314 485\n",
      "CAC 586 229 357\n",
      "CCA 728 322 406\n",
      "CCC 892 401 491\n"
     ]
    }
   ],
   "source": [
    "print('motif | Nb clusters | Nb clusters with n<3 | Nb clusters with n>=3')\n",
    "print('Fastclust')\n",
    "for motif in results_1A.keys():\n",
    "    res = 0\n",
    "    i = 0\n",
    "    for clust in results_1A[motif].values():\n",
    "        i += 1\n",
    "        if clust['contact_ss'] + clust['contact_ds'] + clust['contact_mixte'] + clust['nocontact_ss'] + clust['nocontact_ds'] + clust['nocontact_mixte'] < 3:\n",
    "            res +=1\n",
    "    print(motif, i, res, i-res)\n",
    " \n",
    "print()\n",
    "print('Radius')\n",
    "for motif in results_1A_radius.keys():\n",
    "    res = 0\n",
    "    i = 0\n",
    "    for clust in results_1A_radius[motif].values():\n",
    "        i += 1\n",
    "        if clust['contact_ss'] + clust['contact_ds'] + clust['contact_mixte'] + clust['nocontact_ss'] + clust['nocontact_ds'] + clust['nocontact_mixte'] < 3:\n",
    "            res +=1\n",
    "    print(motif, i, res, i- res)"
   ]
  }
 ],
 "metadata": {
  "kernelspec": {
   "display_name": "Python 3",
   "language": "python",
   "name": "python3"
  },
  "language_info": {
   "codemirror_mode": {
    "name": "ipython",
    "version": 3
   },
   "file_extension": ".py",
   "mimetype": "text/x-python",
   "name": "python",
   "nbconvert_exporter": "python",
   "pygments_lexer": "ipython3",
   "version": "3.6.13"
  }
 },
 "nbformat": 4,
 "nbformat_minor": 2
}
