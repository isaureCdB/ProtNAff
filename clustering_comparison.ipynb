{
 "cells": [
  {
   "cell_type": "markdown",
   "metadata": {},
   "source": [
    "# Clustering comparison\n",
    "\n",
    "This notebook compares two clustering methods. The first clustering is named fastclust, and creates prototypes from the set of starting structures. The second clustering is a hierarchical ascendant clustering with linkage function as the radius of the smallest enclosing ball, the prototypes are the centers of the balls."
   ]
  },
  {
   "cell_type": "markdown",
   "metadata": {},
   "source": [
    "The first comparison is done on the number of clusters obtained. For this one it is not necessary to run the second clustering on your computer, we give the numbers here."
   ]
  },
  {
   "cell_type": "code",
   "execution_count": 1,
   "metadata": {},
   "outputs": [],
   "source": [
    "first_clust = {'AAA': 2589, 'AAC': 2063, 'ACA': 1810, 'ACC': 1781, 'CAA': 2154, 'CAC': 1545, 'CCA': 1934, 'CCC': 2515}\n",
    "sec_clust = {'AAA': 1012, 'AAC': 712, 'ACA': 647, 'ACC': 661, 'CAA': 782, 'CAC': 566, 'CCA': 703, 'CCC': 839}"
   ]
  },
  {
   "cell_type": "code",
   "execution_count": 4,
   "metadata": {},
   "outputs": [
    {
     "name": "stdout",
     "output_type": "stream",
     "text": [
      "Ratio from first on second:\n",
      "AAA = 2.558300395256917\n",
      "AAC = 2.8974719101123596\n",
      "ACA = 2.7975270479134466\n",
      "ACC = 2.6944024205748867\n",
      "CAA = 2.7544757033248084\n",
      "CAC = 2.7296819787985864\n",
      "CCA = 2.7510668563300142\n",
      "CCC = 2.9976162097735397\n"
     ]
    }
   ],
   "source": [
    "print(\"Ratio from first on second:\")\n",
    "for motif in first_clust.keys():\n",
    "    print(motif + \" = \" + str(first_clust[motif]/sec_clust[motif]))"
   ]
  }
 ],
 "metadata": {
  "kernelspec": {
   "display_name": "Python 3",
   "language": "python",
   "name": "python3"
  },
  "language_info": {
   "codemirror_mode": {
    "name": "ipython",
    "version": 3
   },
   "file_extension": ".py",
   "mimetype": "text/x-python",
   "name": "python",
   "nbconvert_exporter": "python",
   "pygments_lexer": "ipython3",
   "version": "3.6.15"
  }
 },
 "nbformat": 4,
 "nbformat_minor": 2
}
