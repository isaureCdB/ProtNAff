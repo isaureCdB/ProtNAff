{
 "cells": [
  {
   "cell_type": "markdown",
   "metadata": {},
   "source": [
    "# Analyses of the paper, standalone version\n",
    "\n",
    "This notebook creates the figures and the statistics reported in the paper publishing ProtNAff. \n",
    "\n",
    "You must run all cells of this notebook in order to obtain all the figures from the paper. \n",
    "\n",
    "***NOTE: This version of the notebook first downloads the ProtNAff fragment library, instead of reading it from disk. Therefore, a ProtNAff installation is not necessary. You can run this notebook on your own Jupyter installation, but you can also run it completely in the browser using Google Colab.***"
   ]
  },
  {
   "cell_type": "code",
   "execution_count": 1,
   "metadata": {},
   "outputs": [],
   "source": [
    "import os\n",
    "import json\n",
    "import numpy as np\n",
    "import tempfile\n",
    "from urllib.request import urlretrieve\n",
    "\n",
    "#The packages for statistics\n",
    "import scipy.stats\n",
    "from statsmodels.stats.proportion import proportions_ztest\n",
    "\n",
    "#The graphics libraries\n",
    "import matplotlib.pyplot as plt\n",
    "import matplotlib.gridspec as gridspec\n",
    "import matplotlib.image as mpimg\n",
    "%config InlineBackend.print_figure_kwargs={'facecolor' : \"w\"}"
   ]
  },
  {
   "cell_type": "code",
   "execution_count": 2,
   "metadata": {},
   "outputs": [
    {
     "name": "stdout",
     "output_type": "stream",
     "text": [
      "Download https://zenodo.org/record/6475637/files/structures.json ... Done\n",
      "Download https://zenodo.org/record/6475637/files/fragments_clust.json ... Done\n"
     ]
    }
   ],
   "source": [
    "fraglib_files = {\n",
    "    \"structures.json\": \"https://zenodo.org/record/6475637/files/structures.json\",\n",
    "    \"fragments_clust.json\": \"https://zenodo.org/record/6475637/files/fragments_clust.json\",\n",
    "}\n",
    "try:\n",
    "    structures\n",
    "except NameError:\n",
    "    with tempfile.TemporaryDirectory() as TEMPDIR:\n",
    "        for fraglib_file, url in fraglib_files.items():\n",
    "            dest = os.path.join(TEMPDIR, fraglib_file)\n",
    "            print(\"Download\", url, \"... \", end=\"\")\n",
    "            urlretrieve(url, dest)\n",
    "            print(\"Done\")\n",
    "        structures = json.load(open(os.path.join(TEMPDIR, \"structures.json\")))\n",
    "        fragments = json.load(open(os.path.join(TEMPDIR, \"fragments_clust.json\")))"
   ]
  },
  {
   "cell_type": "code",
   "execution_count": 3,
   "metadata": {},
   "outputs": [
    {
     "data": {
      "text/plain": [
       "{'chain': 'B',\n",
       " 'clust0.2': 1,\n",
       " 'clust0.2_center': True,\n",
       " 'clust1.0': 1,\n",
       " 'clust1.0_center': False,\n",
       " 'clust3.0': 1,\n",
       " 'clust3.0_center': False,\n",
       " 'indices': [1, 2, 3],\n",
       " 'missing_atoms': [0, 0, 0],\n",
       " 'model': 1,\n",
       " 'resid': ['201', '202', '203'],\n",
       " 'seq': 'GGA',\n",
       " 'structure': '1A1T'}"
      ]
     },
     "execution_count": 3,
     "metadata": {},
     "output_type": "execute_result"
    }
   ],
   "source": [
    "fragments['AAA']['1']"
   ]
  },
  {
   "cell_type": "markdown",
   "metadata": {},
   "source": [
    "## Do NMR structures contain more ssRNA than X-ray structures?\n",
    "\n",
    "Here are simple statistics: the `structures` is parsed, and for each structure, the experimental method is counted as x-ray or nmr.\n",
    "\n",
    "Then the percentage of ssRNA and dsRNA in structures obtained by each method is made and an exact fisher test is performed to know if the results are different."
   ]
  },
  {
   "cell_type": "code",
   "execution_count": 4,
   "metadata": {},
   "outputs": [
    {
     "name": "stdout",
     "output_type": "stream",
     "text": [
      "{'x-ray': {'ss': 21216, 'ds': 28008}, 'nmr': {'ss': 1175, 'ds': 1926}}\n",
      "Structures from X-ray: 1124, structures from NMR: 131\n",
      "Percentages ss: X-ray: 43.1%, NMR: 37.89%\n",
      "The p-value of the exact fisher test is: 0.000\n"
     ]
    }
   ],
   "source": [
    "result = {\"x-ray\":{\"ss\":0, \"ds\":0}, \"nmr\":{\"ss\":0, \"ds\":0}}\n",
    "\n",
    "x = 0\n",
    "n = 0\n",
    "\n",
    "for value in structures.values():\n",
    "    if value[\"method\"] == \"x-ray diffraction\":\n",
    "        x += 1\n",
    "        for chain in value['ss'].values():\n",
    "            for res in chain.values():\n",
    "                if res[0] == \"D\":\n",
    "                    result[\"x-ray\"][\"ds\"] += 1\n",
    "                else:\n",
    "                    result[\"x-ray\"][\"ss\"] += 1\n",
    "    elif value[\"method\"] == \"solution nmr\" or value[\"method\"] == \"solution nmr; theoretical model\" or value[\"method\"] == \"solid-state nmr\":\n",
    "        n += 1\n",
    "        for chain in value['ss'].values():\n",
    "            for res in chain.values():\n",
    "                if res[0] == \"D\":\n",
    "                    result[\"nmr\"][\"ds\"] += 1\n",
    "                else:\n",
    "                    result[\"nmr\"][\"ss\"] += 1\n",
    "print(result)\n",
    "print(\"Structures from X-ray: {}, structures from NMR: {}\".format(x,n))\n",
    "x_per = round((result[\"x-ray\"]['ss']*100/(result[\"x-ray\"]['ss'] + result[\"x-ray\"]['ds'])),2)\n",
    "rmn_per = round((result[\"nmr\"]['ss']*100/(result[\"nmr\"]['ss']+result[\"nmr\"]['ds'])),2)\n",
    "print(\"Percentages ss: X-ray: {}%, NMR: {}%\".format(x_per, rmn_per))\n",
    "\n",
    "(oddsratio, pvalue) = scipy.stats.fisher_exact([[result[\"x-ray\"]['ss'], result[\"nmr\"]['ss']], [result[\"x-ray\"]['ds'], result[\"nmr\"]['ds']]])\n",
    "print(\"The p-value of the exact fisher test is: {:.3f}\".format(pvalue))"
   ]
  },
  {
   "cell_type": "markdown",
   "metadata": {},
   "source": [
    "## Conformational diversity of RNA fragments at different scales\n",
    "\n",
    "The first cell creates the figure showing the number of elements in the clusters at 1A and 3A.\n",
    "\n",
    "The second cell shows in details the composition of those clusters, by printing the number of clusters of a given size (number of elements)."
   ]
  },
  {
   "cell_type": "markdown",
   "metadata": {},
   "source": [
    "The next cell creates the Figure 2 of the paper (link)."
   ]
  },
  {
   "cell_type": "code",
   "execution_count": 5,
   "metadata": {},
   "outputs": [
    {
     "data": {
      "image/png": "[encoded data removed]",
      "text/plain": [
       "<Figure size 720x360 with 1 Axes>"
      ]
     },
     "metadata": {
      "needs_background": "light"
     },
     "output_type": "display_data"
    }
   ],
   "source": [
    "tick = [\"RRR\", \"RRY\", \"RYR\", \"RYY\", \"YRR\", \"YRY\", \"YYR\", \"YYY\"]\n",
    "motifs = ['AAA', 'AAC', 'ACA', 'ACC', 'CAA', 'CAC', 'CCA', 'CCC']\n",
    "clust_1A = []\n",
    "clust_3A = []\n",
    "for motif in motifs:\n",
    "    clusts1A = set()\n",
    "    clusts3A = set()\n",
    "    for frag in fragments[motif].values():\n",
    "        clus1A = frag[\"clust1.0\"]\n",
    "        clusts1A.add(clus1A)\n",
    "        clus3A = frag[\"clust3.0\"]\n",
    "        clusts3A.add(clus3A)\n",
    "    clust_1A.append(len(clusts1A))\n",
    "    clust_3A.append(len(clusts3A))\n",
    "    \n",
    "plt.figure(figsize=(10,5))\n",
    "gs = gridspec.GridSpec(2, 2)\n",
    "ax = plt.subplot(gs[:, 0])\n",
    "ax.set_title('(a)', loc='left')\n",
    "plt.bar([1, 2, 3, 4, 5, 6, 7, 8], clust_1A, 0.4, label=\"cluster 1A\", log=True, color='green')\n",
    "plt.bar([1.4, 2.4, 3.4, 4.4, 5.4, 6.4, 7.4, 8.4], clust_3A, 0.4, label=\"cluster 3A\", log=True, color='orange')\n",
    "plt.ylabel(\"Number of clusters (logarithm scale)\")\n",
    "plt.xticks([1.2, 2.2, 3.2, 4.2, 5.2, 6.2, 7.2, 8.2], tick)\n",
    "plt.ylim(1, 10000)\n",
    "plt.legend()\n",
    "plt.show()"
   ]
  },
  {
   "cell_type": "markdown",
   "metadata": {},
   "source": [
    "The next cell creates the Figure 3 of the paper."
   ]
  },
  {
   "cell_type": "code",
   "execution_count": 7,
   "metadata": {},
   "outputs": [
    {
     "data": {
      "image/png": "[encoded data removed]",
      "text/plain": [
       "<Figure size 576x576 with 2 Axes>"
      ]
     },
     "metadata": {
      "needs_background": "light"
     },
     "output_type": "display_data"
    }
   ],
   "source": [
    "clust_1A = {}\n",
    "clust_3A = {}\n",
    "for frag in fragments[\"AAA\"].values():\n",
    "    if not frag[\"clust0.2_center\"]:\n",
    "        continue\n",
    "    clus1A = frag[\"clust1.0\"]\n",
    "    if clus1A not in clust_1A:\n",
    "        clust_1A[clus1A] = 0\n",
    "    clust_1A[clus1A] += 1\n",
    "    if not frag[\"clust1.0_center\"]:\n",
    "        continue\n",
    "    clus3A = frag[\"clust3.0\"]\n",
    "    if clus3A not in clust_3A:\n",
    "        clust_3A[clus3A] = 0\n",
    "    clust_3A[clus3A] += 1\n",
    "res_1A = np.unique(np.array(list(clust_1A.values())), return_counts=True)\n",
    "res_3A = np.unique(np.array(list(clust_3A.values())), return_counts=True)\n",
    "# Then creation of plots\n",
    "fig = plt.figure(figsize=(8,8))\n",
    "gs = gridspec.GridSpec(2, 1)\n",
    "ax1 = plt.subplot(gs[0, 0])\n",
    "ax1.scatter(*res_1A)\n",
    "ax1.set_xscale(\"log\")\n",
    "ax1.set_yscale(\"log\")\n",
    "ax2 = plt.subplot(gs[1, 0])\n",
    "ax2.scatter(*res_3A)\n",
    "ax2.set_xscale(\"log\")\n",
    "ax2.set_yscale(\"log\")\n",
    "\n",
    "fig.text(0.055, 0.5, \"Number of clusters\", va='center', rotation='vertical')\n",
    "plt.xlabel(\"Number of conformations in the cluster\")\n",
    "plt.savefig(\"fig4.eps\", facecolor=\"w\", bbox_inches='tight', dpi=600, format='eps')\n",
    "plt.show()"
   ]
  },
  {
   "cell_type": "markdown",
   "metadata": {},
   "source": [
    "## RNA local conformations induced by protein binding\n",
    "\n",
    "In this part of the paper, we are interested in the RNA conformations that are induced by the contact with the protein. To understand if the contact with the protein is implying particular conformations in ssRNA and/or dsRNA, we are parsing the `fragments` dictionnary and extracting the 2D structure informations in all clusters. The clusters can be fully single-stranded, or fully double stranded or a mix of ss and ds conformations. They can also be fully in contact or fully not in contact or a mix betwwen contact and no contact with the protein."
   ]
  },
  {
   "cell_type": "code",
   "execution_count": 8,
   "metadata": {},
   "outputs": [],
   "source": [
    "def parsing_fragments(fragments, structures, cutoff):\n",
    "    \"\"\"\n",
    "    This function will parse the fragments dictionnary to extract information about clusters, \n",
    "    then it will parse those clusters to extract their properties.\n",
    "    results are the results for each clusters\n",
    "    res_bis is a sum of information by clusters\n",
    "    \"\"\"\n",
    "    results = {\"AAA\":{}, \"AAC\":{}, \"ACA\":{}, \"ACC\":{}, \"CAA\":{}, \"CAC\":{}, \"CCA\":{}, \"CCC\":{}}\n",
    "    res_bis = {\"AAA\":{}, \"AAC\":{}, \"ACA\":{}, \"ACC\":{}, \"CAA\":{}, \"CAC\":{}, \"CCA\":{}, \"CCC\":{}}\n",
    "    for key in results.keys():\n",
    "        for key2 in fragments[key].keys():\n",
    "            model = \"model_\" + str(fragments[key][key2][\"model\"])\n",
    "            chain = \"chain_\" + str(fragments[key][key2][\"chain\"])\n",
    "            contact = False\n",
    "            interface = set()\n",
    "            for nucl in structures[fragments[key][key2]['structure']][\"interface_protein\"][\"model_1\"][chain].keys():\n",
    "                interface.add(nucl.split('_')[1])\n",
    "            ss=True\n",
    "            ds=0\n",
    "            for nucl in fragments[key][key2]['indices']:\n",
    "                if str(nucl) in interface:\n",
    "                    contact = True\n",
    "                if structures[fragments[key][key2]['structure']][\"ss\"][chain][\"res_\"+str(nucl)][0]==\"D\":\n",
    "                    ss=False\n",
    "                    ds+=1\n",
    "            if fragments[key][key2][cutoff] not in results[key].keys():\n",
    "                results[key][fragments[key][key2][cutoff]] = {\"contact_ss\":0, \"contact_ds\":0, \"contact_mixte\":0, \"nocontact_ss\":0, \"nocontact_ds\":0, \"nocontact_mixte\":0}\n",
    "            if contact:\n",
    "                if ss:\n",
    "                    results[key][fragments[key][key2][cutoff]][\"contact_ss\"] += 1\n",
    "                elif ds == 3:\n",
    "                    results[key][fragments[key][key2][cutoff]][\"contact_ds\"] += 1\n",
    "                else:\n",
    "                    results[key][fragments[key][key2][cutoff]][\"contact_mixte\"] += 1\n",
    "            else:\n",
    "                if ss:\n",
    "                    results[key][fragments[key][key2][cutoff]][\"nocontact_ss\"] += 1\n",
    "                elif ds == 3:\n",
    "                    results[key][fragments[key][key2][cutoff]][\"nocontact_ds\"] += 1\n",
    "                else:\n",
    "                    results[key][fragments[key][key2][cutoff]][\"nocontact_mixte\"] += 1\n",
    "        con_ss = 0\n",
    "        sum_con_ss = 0\n",
    "        con_ds = 0\n",
    "        sum_con_ds = 0\n",
    "        con_mixte = 0\n",
    "        sum_con_mixte = 0\n",
    "        nocon_ss = 0\n",
    "        sum_nocon_ss = 0\n",
    "        nocon_ds = 0\n",
    "        sum_nocon_ds = 0\n",
    "        nocon_mixte = 0\n",
    "        sum_nocon_mixte = 0\n",
    "        mixte_ss = 0\n",
    "        sum_mixte_ss = 0\n",
    "        mixte_ds = 0\n",
    "        sum_mixte_ds = 0\n",
    "        mixte_mixte = 0\n",
    "        sum_mixte_mixte=0\n",
    "        for clust in results[key].keys():\n",
    "            #if there is at least 3 fragments in the cluster:\n",
    "            if results[key][clust][\"contact_ss\"] + results[key][clust][\"contact_ds\"] + results[key][clust][\"contact_mixte\"] + results[key][clust][\"nocontact_ss\"] + results[key][clust][\"nocontact_ds\"] + results[key][clust][\"nocontact_mixte\"] > 2:\n",
    "                if results[key][clust][\"nocontact_mixte\"] == 0 and results[key][clust][\"nocontact_ds\"] == 0 and results[key][clust][\"nocontact_ss\"] == 0:\n",
    "                    if results[key][clust][\"contact_mixte\"] > 0:\n",
    "                        con_mixte += 1\n",
    "                        sum_con_mixte += results[key][clust][\"contact_ss\"] + results[key][clust][\"contact_ds\"] + results[key][clust][\"contact_mixte\"]\n",
    "                    else:\n",
    "                        if results[key][clust][\"contact_ds\"] == 0:\n",
    "                            con_ss += 1\n",
    "                            sum_con_ss += results[key][clust][\"contact_ss\"]\n",
    "                        else:\n",
    "                            con_ds += 1\n",
    "                            sum_con_ds += results[key][clust][\"contact_ds\"]\n",
    "                elif results[key][clust][\"contact_ss\"] == 0 and results[key][clust][\"contact_ds\"] == 0 and results[key][clust][\"contact_mixte\"] == 0:\n",
    "                    if results[key][clust][\"nocontact_mixte\"] > 0:\n",
    "                        nocon_mixte += 1\n",
    "                        sum_nocon_mixte += results[key][clust][\"nocontact_ss\"] + results[key][clust][\"nocontact_ds\"] + results[key][clust][\"nocontact_mixte\"]\n",
    "                    else:\n",
    "                        if results[key][clust][\"nocontact_ss\"] == 0:\n",
    "                            nocon_ds += 1\n",
    "                            sum_nocon_ds += results[key][clust][\"nocontact_ds\"]\n",
    "                        else:\n",
    "                            nocon_ss += 1\n",
    "                            sum_nocon_ss += results[key][clust][\"nocontact_ss\"]\n",
    "                else:\n",
    "                    if results[key][clust][\"nocontact_mixte\"] > 0 or results[key][clust][\"contact_mixte\"] > 0 or (results[key][clust][\"nocontact_ss\"] != 0 and results[key][clust][\"nocontact_ds\"] !=0) or (results[key][clust][\"contact_ss\"] != 0 or results[key][clust][\"contact_ds\"] !=0):\n",
    "                        mixte_mixte += 1\n",
    "                        sum_mixte_mixte += results[key][clust][\"nocontact_ss\"] + results[key][clust][\"nocontact_ds\"] + results[key][clust][\"nocontact_mixte\"] + results[key][clust][\"contact_ss\"] + results[key][clust][\"contact_ds\"] + results[key][clust][\"contact_mixte\"]\n",
    "                    else:\n",
    "                        if results[key][clust][\"contact_ss\"] == 0 and results[key][clust][\"nocontact_ss\"] == 0:\n",
    "                            mixte_ds += 1\n",
    "                            sum_mixte_ds += results[key][clust][\"nocontact_ds\"] + results[key][clust][\"contact_ds\"]\n",
    "                        else:\n",
    "                            mixte_ss += 1\n",
    "                            sum_mixte_ss += results[key][clust][\"contact_ss\"] + results[key][clust][\"nocontact_ss\"]             \n",
    "\n",
    "        res_bis[key] = {\"contact_ss\":con_ss, \"contact_ds\":con_ds, \"contact_mixte\":con_mixte, \"nocontact_ss\":nocon_ss, \"nocontact_ds\":nocon_ds, \"nocontact_mixte\":nocon_mixte, \"mixte_ss\":mixte_ss, \"mixte_ds\":mixte_ds, \"mixte_mixte\":mixte_mixte, \\\n",
    "                       \"sum_contact_ss\":sum_con_ss, \"sum_contact_ds\":sum_con_ds, \"sum_contact_mixte\":sum_con_mixte, \\\n",
    "                       \"sum_nocontact_ss\":sum_nocon_ss, \"sum_nocontact_ds\":sum_nocon_ds, \"sum_nocontact_mixte\":sum_nocon_mixte,\\\n",
    "                       \"sum_mixte_ss\":sum_mixte_ss, \"sum_mixte_ds\":sum_mixte_ds, \"sum_mixte_mixte\":sum_mixte_mixte}\n",
    "\n",
    "    return results, res_bis"
   ]
  },
  {
   "cell_type": "code",
   "execution_count": 9,
   "metadata": {},
   "outputs": [],
   "source": [
    "results_1A, res_cluster_1A = parsing_fragments(fragments, structures, 'clust1.0')\n",
    "results_3A, res_cluster_3A = parsing_fragments(fragments, structures, 'clust3.0')"
   ]
  },
  {
   "cell_type": "markdown",
   "metadata": {},
   "source": [
    "The next cell creates Figure.4 of the paper."
   ]
  },
  {
   "cell_type": "code",
   "execution_count": 10,
   "metadata": {
    "scrolled": false
   },
   "outputs": [
    {
     "name": "stderr",
     "output_type": "stream",
     "text": [
      "The PostScript backend does not support transparency; partially transparent artists will be rendered opaque.\n",
      "The PostScript backend does not support transparency; partially transparent artists will be rendered opaque.\n"
     ]
    },
    {
     "data": {
      "image/png": "[encoded data removed]",
      "text/plain": [
       "<Figure size 360x432 with 2 Axes>"
      ]
     },
     "metadata": {
      "needs_background": "light"
     },
     "output_type": "display_data"
    }
   ],
   "source": [
    "hist={\"AAA\":[], \"AAC\":[], \"ACA\":[], \"ACC\":[], \"CAA\":[], \"CAC\":[], \"CCA\":[], \"CCC\":[]}\n",
    "tick = [\"RRR\", \"RRY\", \"RYR\", \"RYY\", \"YRR\", \"YRY\", \"YYR\", \"YYY\"]\n",
    "\n",
    "for key in res_cluster_1A.keys():\n",
    "    if (res_cluster_1A[key][\"contact_ss\"]+res_cluster_1A[key][\"mixte_ss\"]+res_cluster_1A[key][\"nocontact_ss\"]) != 0:\n",
    "        hist[key].append(round((100*(res_cluster_1A[key][\"contact_ss\"]/(res_cluster_1A[key][\"contact_ss\"]+res_cluster_1A[key][\"mixte_ss\"]+res_cluster_1A[key][\"nocontact_ss\"]))),2))\n",
    "    else:\n",
    "        hist[key].append(0)\n",
    "    if (res_cluster_1A[key][\"contact_mixte\"]+res_cluster_1A[key][\"mixte_mixte\"]+res_cluster_1A[key][\"nocontact_mixte\"]+res_cluster_1A[key][\"contact_ds\"]+res_cluster_1A[key][\"mixte_ds\"]+res_cluster_1A[key][\"nocontact_ds\"]) != 0:\n",
    "        hist[key].append(round((100*((res_cluster_1A[key][\"contact_mixte\"]+res_cluster_1A[key][\"contact_ds\"])/(res_cluster_1A[key][\"contact_mixte\"]+res_cluster_1A[key][\"mixte_mixte\"]+res_cluster_1A[key][\"nocontact_mixte\"]+res_cluster_1A[key][\"contact_ds\"]+res_cluster_1A[key][\"mixte_ds\"]+res_cluster_1A[key][\"nocontact_ds\"]))),2))\n",
    "    else:\n",
    "        hist[key].append(0)\n",
    "        \n",
    "a = [row[0] for row in list(hist.values())]\n",
    "b = [row[1] for row in list(hist.values())]\n",
    "\n",
    "hist_3A={\"AAA\":[], \"AAC\":[], \"ACA\":[], \"ACC\":[], \"CAA\":[], \"CAC\":[], \"CCA\":[], \"CCC\":[]}\n",
    "\n",
    "for key in res_cluster_3A.keys():\n",
    "    if (res_cluster_3A[key][\"contact_ss\"]+res_cluster_3A[key][\"mixte_ss\"]+res_cluster_3A[key][\"nocontact_ss\"]) != 0:\n",
    "        hist_3A[key].append(round((100*(res_cluster_3A[key][\"contact_ss\"]/(res_cluster_3A[key][\"contact_ss\"]+res_cluster_3A[key][\"mixte_ss\"]+res_cluster_3A[key][\"nocontact_ss\"]))),2))\n",
    "    else:\n",
    "        hist_3A[key].append(0)\n",
    "    if (res_cluster_3A[key][\"contact_mixte\"]+res_cluster_3A[key][\"mixte_mixte\"]+res_cluster_3A[key][\"nocontact_mixte\"]+res_cluster_3A[key][\"contact_ds\"]+res_cluster_3A[key][\"mixte_ds\"]+res_cluster_3A[key][\"nocontact_ds\"]) != 0:\n",
    "        hist_3A[key].append(round((100*((res_cluster_3A[key][\"contact_mixte\"]+res_cluster_3A[key][\"contact_ds\"])/(res_cluster_3A[key][\"contact_mixte\"]+res_cluster_3A[key][\"mixte_mixte\"]+res_cluster_3A[key][\"nocontact_mixte\"]+res_cluster_3A[key][\"contact_ds\"]+res_cluster_3A[key][\"mixte_ds\"]+res_cluster_3A[key][\"nocontact_ds\"]))),2))\n",
    "    else:\n",
    "        hist_3A[key].append(0)\n",
    "        \n",
    "a_3A = [row[0] for row in list(hist_3A.values())]\n",
    "b_3A = [row[1] for row in list(hist_3A.values())]\n",
    "\n",
    "fig4 = plt.figure(figsize=(5, 6))\n",
    "gs = gridspec.GridSpec(2, 1)\n",
    "\n",
    "x1= [i-0.2 for i in range(8)]\n",
    "x2= [i+0.2 for i in range(8)]\n",
    "\n",
    "ax1 = plt.subplot(gs[0, 0])\n",
    "ax1.bar(x1, a, width=0.4, color='b', align='center', label=\"fully ss\")\n",
    "ax1.bar(x2, b, width=0.4, color='g', align='center', label=\"ss/ds\")\n",
    "ax1.xaxis.set_ticks(range(8))\n",
    "ax1.xaxis.set_ticklabels(tick, color=\"black\")\n",
    "ax1.set_ylim(0,100)\n",
    "\n",
    "ax2 = plt.subplot(gs[1, 0])\n",
    "ax2.bar(x1, a_3A, width=0.4, color='b', align='center', label=\"fully ss\")\n",
    "ax2.bar(x2, b_3A, width=0.4, color='g', align='center', label=\"ss/ds\")\n",
    "ax2.xaxis.set_ticks(range(8))\n",
    "ax2.xaxis.set_ticklabels(tick, color=\"black\")\n",
    "ax2.set_ylim(0,100)\n",
    "\n",
    "fig4.text(0.01, 0.5, 'Percentage', va='center', rotation='vertical')\n",
    "ax1.legend(loc=\"upper right\")\n",
    "#plt.figure(figsize=(4,6))\n",
    "plt.savefig(\"fig5.eps\", facecolor=\"w\", dpi=600, format='eps')\n",
    "plt.show()\n"
   ]
  },
  {
   "cell_type": "code",
   "execution_count": 11,
   "metadata": {},
   "outputs": [
    {
     "name": "stdout",
     "output_type": "stream",
     "text": [
      "AAA 10.670247518138023 1.4025227489836348e-26\n",
      "AAC 7.261403818834081 3.830933632389385e-13\n",
      "ACA 6.28192855772843 3.3439852031440037e-10\n",
      "ACC 5.138137526127048 2.7747479061309284e-07\n",
      "CAA 6.832636647144277 8.336792921303313e-12\n",
      "CAC 3.1165040577754426 0.0018300916185707832\n",
      "CCA 6.32029474410268 2.610648788352754e-10\n",
      "CCC 8.3315291451425 7.98047848972002e-17\n"
     ]
    }
   ],
   "source": [
    "for motif in res_cluster_1A.keys():\n",
    "    ss = res_cluster_1A[motif][\"contact_ss\"]+res_cluster_1A[motif][\"nocontact_ss\"]+res_cluster_1A[motif][\"mixte_ss\"]\n",
    "    mixte = res_cluster_1A[motif][\"contact_ds\"]+res_cluster_1A[motif][\"nocontact_ds\"]+res_cluster_1A[motif][\"mixte_ds\"]+res_cluster_1A[motif][\"contact_mixte\"]+res_cluster_1A[motif][\"nocontact_mixte\"]+res_cluster_1A[motif][\"mixte_mixte\"]\n",
    "    successes = np.array([res_cluster_1A[motif][\"contact_ss\"], res_cluster_1A[motif][\"contact_ds\"] + res_cluster_1A[motif][\"contact_mixte\"]])\n",
    "    samples = np.array([ss, mixte])\n",
    "\n",
    "    stat, p_value = proportions_ztest(count=successes, nobs=samples, alternative='two-sided')\n",
    "\n",
    "    print(motif, stat, p_value)"
   ]
  },
  {
   "cell_type": "markdown",
   "metadata": {},
   "source": [
    "The next cell shows the values in the Figure.5 of the paper."
   ]
  },
  {
   "cell_type": "code",
   "execution_count": 12,
   "metadata": {},
   "outputs": [
    {
     "name": "stdout",
     "output_type": "stream",
     "text": [
      "AAA        ss  mixte  ds  \n",
      "nocontact  47      72    8\n",
      "mixte      0     194    0\n",
      "contact    184      146    9\n",
      "AAC        ss  mixte  ds  \n",
      "nocontact  46      73    9\n",
      "mixte      0     149    0\n",
      "contact    101      107    8\n",
      "ACA        ss  mixte  ds  \n",
      "nocontact  55      50    13\n",
      "mixte      0     115    0\n",
      "contact    108      91    6\n",
      "ACC        ss  mixte  ds  \n",
      "nocontact  35      40    4\n",
      "mixte      0     94    0\n",
      "contact    78      83    7\n",
      "CAA        ss  mixte  ds  \n",
      "nocontact  58      86    9\n",
      "mixte      0     168    0\n",
      "contact    106      122    9\n",
      "CAC        ss  mixte  ds  \n",
      "nocontact  62      35    5\n",
      "mixte      0     89    0\n",
      "contact    83      83    5\n",
      "CCA        ss  mixte  ds  \n",
      "nocontact  39      57    3\n",
      "mixte      0     112    0\n",
      "contact    86      84    7\n",
      "CCC        ss  mixte  ds  \n",
      "nocontact  61      52    0\n",
      "mixte      0     133    0\n",
      "contact    143      81    4\n"
     ]
    }
   ],
   "source": [
    "for motif in res_cluster_1A.keys():\n",
    "    print(\"{}        ss  mixte  ds  \".format(motif))\n",
    "    print(\"nocontact \",res_cluster_1A[motif]['nocontact_ss'],\"    \", res_cluster_1A[motif]['nocontact_mixte'], \"  \",res_cluster_1A[motif]['nocontact_ds'])\n",
    "    print(\"mixte     \", res_cluster_1A[motif]['mixte_ss'], \"   \", res_cluster_1A[motif]['mixte_mixte'], \"  \", res_cluster_1A[motif]['mixte_ds'])\n",
    "    print(\"contact   \",res_cluster_1A[motif]['contact_ss'], \"    \",res_cluster_1A[motif]['contact_mixte'], \"  \", res_cluster_1A[motif]['contact_ds'])"
   ]
  },
  {
   "cell_type": "markdown",
   "metadata": {},
   "source": [
    "## Supplementary\n",
    "\n",
    "Those are the supplementary data and figures of the paper."
   ]
  },
  {
   "cell_type": "markdown",
   "metadata": {},
   "source": [
    "The first filter selects all the single-stranded\n",
    "nucleotides in contact with a protein (Suppl. XXX). To that end, two sets are constructed: \n",
    "one containing all the single-stranded nucleotides and one\n",
    "containing all the nucleotides at the protein interface. Then the intersection\n",
    "of these two sets is kept. As a result, 18,506 nucleotides are obtained from\n",
    "1958 PDB chains (10 per PDB structure on average)."
   ]
  },
  {
   "cell_type": "code",
   "execution_count": 13,
   "metadata": {},
   "outputs": [
    {
     "name": "stdout",
     "output_type": "stream",
     "text": [
      "Number of RNA chains: 1958 \n",
      "Number of nucleotides: 18506\n"
     ]
    }
   ],
   "source": [
    "ss_set = set([\"L\", \"T\", \"S\", \"J\", \"B\", \"I\"])\n",
    "struct = 0\n",
    "nb_nucl = 0\n",
    "for pdb_id in structures.keys():\n",
    "    for chain in structures[pdb_id][\"nachains\"]:\n",
    "        nuclfrag = set()\n",
    "        chain_id = \"chain_\" + chain\n",
    "        ss = structures[pdb_id]['ss'][chain_id]\n",
    "\n",
    "        interf_prot = structures[pdb_id][\"interface_protein\"][\"model_1\"][chain_id]\n",
    "        # print(interf_prot)\n",
    "        for element in interf_prot:\n",
    "            element = element.split(\"_\")[1]\n",
    "\n",
    "        # List of interface nucleotide resid\n",
    "        nucl_interf = list(interf_prot.keys())\n",
    "        nucl_interf = [element.split(\"_\")[1] for element in nucl_interf]\n",
    "        # List of single-stranded nucleotides resid\n",
    "        nucl_ss = [n.split(\"_\")[1] for n in ss if ss[n][0] in ss_set]\n",
    "        # List of single-stranded interface nucleotide resid\n",
    "        nucl_interf_ss = [int(n) for n in nucl_interf if n in nucl_ss]\n",
    "        nucl_interf_ss.sort()\n",
    "        if len(nucl_interf_ss) > 0:\n",
    "            struct += 1\n",
    "            nb_nucl += len(nucl_interf_ss)\n",
    "        #print(pdb_id, chain_id, nucl_interf_ss)\n",
    "print(\"Number of RNA chains: {} \\nNumber of nucleotides: {}\".format(struct, nb_nucl))"
   ]
  },
  {
   "cell_type": "markdown",
   "metadata": {},
   "source": [
    "The second filter can be found in `./filters/query_hairpin.py`. It is more complex than the previous one. If you need explanations you can send us an e-mail."
   ]
  },
  {
   "cell_type": "markdown",
   "metadata": {},
   "source": [
    "The next 3 cells calculate the percentage of trinucleotides of each sequence in contact with proteins."
   ]
  },
  {
   "cell_type": "code",
   "execution_count": 14,
   "metadata": {},
   "outputs": [],
   "source": [
    "letter = [\"A\", \"U\", \"G\", \"C\"]\n",
    "resultats_all = {}\n",
    "for ii in letter:\n",
    "    for jj in letter:\n",
    "        for kk in letter:\n",
    "            resultats_all[ii+jj+kk] = {}\n",
    "\n",
    "for key in fragments.keys():\n",
    "    for key2 in fragments[key].keys():\n",
    "        model = \"model_\" + str(fragments[key][key2][\"model\"])\n",
    "        chain = \"chain_\" + str(fragments[key][key2][\"chain\"])\n",
    "        seq = fragments[key][key2]['seq']\n",
    "        contact = False\n",
    "        interface = set()\n",
    "        nucl2=[]\n",
    "        mapping_rev={}\n",
    "        for nn in structures[fragments[key][key2]['structure']][\"mapping\"][chain].keys():\n",
    "            mapping_rev[structures[fragments[key][key2]['structure']][\"mapping\"][chain][nn]] = nn\n",
    "        for nucl in structures[fragments[key][key2]['structure']][\"interface_protein\"][\"model_1\"][chain].keys():\n",
    "            tmp = nucl.split('_')[1]\n",
    "            interface.add(structures[fragments[key][key2]['structure']][\"mapping\"][chain][tmp])\n",
    "        ss=True\n",
    "        ds=0\n",
    "        for nucl in fragments[key][key2]['resid']:\n",
    "            if nucl in interface:\n",
    "                contact = True\n",
    "            nucl2.append(mapping_rev[nucl])\n",
    "        for nucl in nucl2:\n",
    "            if structures[fragments[key][key2]['structure']][\"ss\"][chain][\"res_\"+nucl][0]==\"D\":\n",
    "                ss=False\n",
    "                ds+=1\n",
    "        if fragments[key][key2]['clust1.0'] not in resultats_all[seq].keys():\n",
    "            resultats_all[seq][fragments[key][key2]['clust1.0']] = {\"contact_ss\":0, \"contact_ds\":0, \"contact_mixte\":0, \"nocontact_ss\":0, \"nocontact_ds\":0, \"nocontact_mixte\":0}\n",
    "        if contact:\n",
    "            if ss:\n",
    "                resultats_all[seq][fragments[key][key2]['clust1.0']][\"contact_ss\"] += 1\n",
    "            elif ds == 3:\n",
    "                resultats_all[seq][fragments[key][key2]['clust1.0']][\"contact_ds\"] += 1\n",
    "            else:\n",
    "                resultats_all[seq][fragments[key][key2]['clust1.0']][\"contact_mixte\"] += 1\n",
    "        else:\n",
    "            if ss:\n",
    "                resultats_all[seq][fragments[key][key2]['clust1.0']][\"nocontact_ss\"] += 1\n",
    "            elif ds == 3:\n",
    "                resultats_all[seq][fragments[key][key2]['clust1.0']][\"nocontact_ds\"] += 1\n",
    "            else:\n",
    "                resultats_all[seq][fragments[key][key2]['clust1.0']][\"nocontact_mixte\"] += 1\n",
    "        "
   ]
  },
  {
   "cell_type": "code",
   "execution_count": 15,
   "metadata": {
    "scrolled": true
   },
   "outputs": [
    {
     "name": "stdout",
     "output_type": "stream",
     "text": [
      "AAA\n",
      "AAU\n",
      "AAG\n",
      "AAC\n",
      "AUA\n",
      "AUU\n",
      "AUG\n",
      "AUC\n",
      "AGA\n",
      "AGU\n",
      "AGG\n",
      "AGC\n",
      "ACA\n",
      "ACU\n",
      "ACG\n",
      "ACC\n",
      "UAA\n",
      "UAU\n",
      "UAG\n",
      "UAC\n",
      "UUA\n",
      "UUU\n",
      "UUG\n",
      "UUC\n",
      "UGA\n",
      "UGU\n",
      "UGG\n",
      "UGC\n",
      "UCA\n",
      "UCU\n",
      "UCG\n",
      "UCC\n",
      "GAA\n",
      "GAU\n",
      "GAG\n",
      "GAC\n",
      "GUA\n",
      "GUU\n",
      "GUG\n",
      "GUC\n",
      "GGA\n",
      "GGU\n",
      "GGG\n",
      "GGC\n",
      "GCA\n",
      "GCU\n",
      "GCG\n",
      "GCC\n",
      "CAA\n",
      "CAU\n",
      "CAG\n",
      "CAC\n",
      "CUA\n",
      "CUU\n",
      "CUG\n",
      "CUC\n",
      "CGA\n",
      "CGU\n",
      "CGG\n",
      "CGC\n",
      "CCA\n",
      "CCU\n",
      "CCG\n",
      "CCC\n"
     ]
    }
   ],
   "source": [
    "letter = [\"A\", \"U\", \"G\", \"C\"]\n",
    "resultats_all_bis = {}\n",
    "for ii in letter:\n",
    "    for jj in letter:\n",
    "        for kk in letter:\n",
    "            resultats_all_bis[ii+jj+kk] = {}\n",
    "            \n",
    "for key in resultats_all.keys():\n",
    "    con_ss = 0\n",
    "    sum_con_ss = 0\n",
    "    con_ds = 0\n",
    "    sum_con_ds = 0\n",
    "    con_mixte = 0\n",
    "    sum_con_mixte = 0\n",
    "    nocon_ss = 0\n",
    "    sum_nocon_ss = 0\n",
    "    nocon_ds = 0\n",
    "    sum_nocon_ds = 0\n",
    "    nocon_mixte = 0\n",
    "    sum_nocon_mixte = 0\n",
    "    mixte_ss = 0\n",
    "    sum_mixte_ss = 0\n",
    "    mixte_ds = 0\n",
    "    sum_mixte_ds = 0\n",
    "    mixte_mixte = 0\n",
    "    sum_mixte_mixte=0\n",
    "    j = 0\n",
    "    print(key)\n",
    "    for clust in resultats_all[key].keys():\n",
    "        j += 1\n",
    "        if resultats_all[key][clust][\"contact_ss\"] + resultats_all[key][clust][\"contact_ds\"] + resultats_all[key][clust][\"contact_mixte\"] + resultats_all[key][clust][\"nocontact_ss\"] + resultats_all[key][clust][\"nocontact_ds\"] + resultats_all[key][clust][\"nocontact_mixte\"] > 2:\n",
    "            if resultats_all[key][clust][\"nocontact_mixte\"] == 0 and resultats_all[key][clust][\"nocontact_ds\"] == 0 and resultats_all[key][clust][\"nocontact_ss\"] == 0:\n",
    "                #print(clust, results[key][clust])\n",
    "                if resultats_all[key][clust][\"contact_mixte\"] > 0:\n",
    "                    con_mixte += 1\n",
    "                    sum_con_mixte += resultats_all[key][clust][\"contact_ss\"] + resultats_all[key][clust][\"contact_ds\"] + resultats_all[key][clust][\"contact_mixte\"]\n",
    "                else:\n",
    "                    if resultats_all[key][clust][\"contact_ds\"] == 0:\n",
    "                        con_ss += 1\n",
    "                        sum_con_ss += resultats_all[key][clust][\"contact_ss\"]\n",
    "                    else:\n",
    "                        con_ds += 1\n",
    "                        sum_con_ds += resultats_all[key][clust][\"contact_ds\"]\n",
    "            elif resultats_all[key][clust][\"contact_ss\"] == 0 and resultats_all[key][clust][\"contact_ds\"] == 0 and resultats_all[key][clust][\"contact_mixte\"] == 0:\n",
    "                if resultats_all[key][clust][\"nocontact_mixte\"] > 0:\n",
    "                    nocon_mixte += 1\n",
    "                    sum_nocon_mixte += resultats_all[key][clust][\"nocontact_ss\"] + resultats_all[key][clust][\"nocontact_ds\"] + resultats_all[key][clust][\"nocontact_mixte\"]\n",
    "                else:\n",
    "                    if resultats_all[key][clust][\"nocontact_ss\"] == 0:\n",
    "                        nocon_ds += 1\n",
    "                        sum_nocon_ds += resultats_all[key][clust][\"nocontact_ds\"]\n",
    "                    else:\n",
    "                        nocon_ss += 1\n",
    "                        sum_nocon_ss += resultats_all[key][clust][\"nocontact_ss\"]\n",
    "\n",
    "            else:\n",
    "                if resultats_all[key][clust][\"nocontact_mixte\"] > 0 or resultats_all[key][clust][\"contact_mixte\"] > 0 or (resultats_all[key][clust][\"nocontact_ss\"] != 0 and resultats_all[key][clust][\"nocontact_ds\"] !=0) or (resultats_all[key][clust][\"contact_ss\"] != 0 or resultats_all[key][clust][\"contact_ds\"] !=0):\n",
    "                    mixte_mixte += 1\n",
    "                    sum_mixte_mixte += resultats_all[key][clust][\"nocontact_ss\"] + resultats_all[key][clust][\"nocontact_ds\"] + resultats_all[key][clust][\"nocontact_mixte\"] + resultats_all[key][clust][\"contact_ss\"] + resultats_all[key][clust][\"contact_ds\"] + resultats_all[key][clust][\"contact_mixte\"]\n",
    "                else:\n",
    "                    if resultats_all[key][clust][\"contact_ss\"] == 0 and resultats_all[key][clust][\"nocontact_ss\"] == 0:\n",
    "                        mixte_ds += 1\n",
    "                        sum_mixte_ds += resultats_all[key][clust][\"nocontact_ds\"] + resultats_all[key][clust][\"contact_ds\"]\n",
    "                    else:\n",
    "                        mixte_ss += 1\n",
    "                        sum_mixte_ss += resultats_all[key][clust][\"contact_ss\"] + resultats_all[key][clust][\"nocontact_ss\"]             \n",
    "\n",
    "    resultats_all_bis[key] = {\"contact_ss\":con_ss, \"contact_ds\":con_ds, \"contact_mixte\":con_mixte, \"nocontact_ss\":nocon_ss, \"nocontact_ds\":nocon_ds, \"nocontact_mixte\":nocon_mixte, \"mixte_ss\":mixte_ss, \"mixte_ds\":mixte_ds, \"mixte_mixte\":mixte_mixte, \\\n",
    "                   \"sum_contact_ss\":sum_con_ss, \"sum_contact_ds\":sum_con_ds, \"sum_contact_mixte\":sum_con_mixte, \\\n",
    "                   \"sum_nocontact_ss\":sum_nocon_ss, \"sum_nocontact_ds\":sum_nocon_ds, \"sum_nocontact_mixte\":sum_nocon_mixte,\\\n",
    "                   \"sum_mixte_ss\":sum_mixte_ss, \"sum_mixte_ds\":sum_mixte_ds, \"sum_mixte_mixte\":sum_mixte_mixte}\n",
    "    "
   ]
  },
  {
   "cell_type": "code",
   "execution_count": 16,
   "metadata": {},
   "outputs": [
    {
     "name": "stdout",
     "output_type": "stream",
     "text": [
      "AAA 0.3406060606060606\n",
      "AAU 0.21160042964554243\n",
      "AAG 0.19573215599705665\n",
      "AAC 0.1813186813186813\n",
      "AUA 0.24259055982436883\n",
      "AUU 0.20704467353951891\n",
      "AUG 0.11979166666666667\n",
      "AUC 0.10371650821089023\n",
      "AGA 0.15457184325108853\n",
      "AGU 0.2643137254901961\n",
      "AGG 0.12190187152250885\n",
      "AGC 0.11632390745501285\n",
      "ACA 0.26094890510948904\n",
      "ACU 0.0983009708737864\n",
      "ACG 0.08817829457364341\n",
      "ACC 0.1383344803854095\n",
      "UAA 0.21032745591939547\n",
      "UAU 0.22386223862238622\n",
      "UAG 0.16890080428954424\n",
      "UAC 0.15748898678414097\n",
      "UUA 0.22142857142857142\n",
      "UUU 0.3884107860011474\n",
      "UUG 0.13189771197846567\n",
      "UUC 0.17041334300217548\n",
      "UGA 0.25\n",
      "UGU 0.21037463976945245\n",
      "UGG 0.0667107001321004\n",
      "UGC 0.1291314373558801\n",
      "UCA 0.15670910871694418\n",
      "UCU 0.1111864406779661\n",
      "UCG 0.12084592145015106\n",
      "UCC 0.06846846846846846\n",
      "GAA 0.19651240778001342\n",
      "GAU 0.17396991497710923\n",
      "GAG 0.1715587044534413\n",
      "GAC 0.09271935283136279\n",
      "GUA 0.17817561807331628\n",
      "GUU 0.10727272727272727\n",
      "GUG 0.1724137931034483\n",
      "GUC 0.0686482661004954\n",
      "GGA 0.12595573440643862\n",
      "GGU 0.09379128137384413\n",
      "GGG 0.06452922077922078\n",
      "GGC 0.026124818577648767\n",
      "GCA 0.04574243490499648\n",
      "GCU 0.06319702602230483\n",
      "GCG 0.05661467359907568\n",
      "GCC 0.05176584421867441\n",
      "CAA 0.14623172103487064\n",
      "CAU 0.1257285595337219\n",
      "CAG 0.1749550629119233\n",
      "CAC 0.2236503856041131\n",
      "CUA 0.14923076923076922\n",
      "CUU 0.10776361529548088\n",
      "CUG 0.08703481392557023\n",
      "CUC 0.06546426185704743\n",
      "CGA 0.09948792977322604\n",
      "CGU 0.07990314769975787\n",
      "CGG 0.09244917715392062\n",
      "CGC 0.058491895701198025\n",
      "CCA 0.1624326404926867\n",
      "CCU 0.07877813504823152\n",
      "CCG 0.06427688504326329\n",
      "CCC 0.04409528636594019\n"
     ]
    }
   ],
   "source": [
    "for motif in resultats_all_bis.keys():\n",
    "    print(motif, (resultats_all_bis[motif][\"sum_contact_ss\"]+resultats_all_bis[motif][\"sum_contact_ds\"]+resultats_all_bis[motif][\"sum_contact_mixte\"])/(resultats_all_bis[motif][\"sum_contact_ss\"]+resultats_all_bis[motif][\"sum_contact_ds\"]+resultats_all_bis[motif][\"sum_contact_mixte\"]+resultats_all_bis[motif][\"sum_mixte_ss\"]+resultats_all_bis[motif][\"sum_mixte_ds\"]+resultats_all_bis[motif][\"sum_mixte_mixte\"]+resultats_all_bis[motif][\"sum_nocontact_ss\"]+resultats_all_bis[motif][\"sum_nocontact_ds\"]+resultats_all_bis[motif][\"sum_nocontact_mixte\"]))"
   ]
  },
  {
   "cell_type": "markdown",
   "metadata": {},
   "source": [
    "The next two cells create the LaTeX tables found in supplementary in the paper.\n",
    "They present the number of clusters depending of their characteristics (ss/ds, contact/no contact). The numbers in brackets are the number of conformations."
   ]
  },
  {
   "cell_type": "code",
   "execution_count": 17,
   "metadata": {
    "scrolled": true
   },
   "outputs": [
    {
     "name": "stdout",
     "output_type": "stream",
     "text": [
      "\\hline\n",
      "AAA 1A & ss & mixed & ds   & total & AAA 3A & ss & mixed & ds   & total \\\\ \\hline\n",
      "contact   & 184(1255) & 146(823)   & 9(47) & 339(2125) & contact   & 32(197) & 26(189)   & 0(0) & 58(386) \\\\ \\hline\n",
      "mixed   & 0(0) & 194(12286)   & 0(0) & 194(12286) & mixed   & 0(0) & 119(16860)   & 0(0) & 119(16860) \\\\ \\hline\n",
      "nocontact &  47(315) & 72(427)   & 8(62) & 127(804) & nocontact &  6(24) & 10(81)   & 0(0) & 16(105) \\\\ \\hline\n",
      "total   & 231(1570) & 412(13536)   & 17(109) & 660(15215) & total   & 38(221) & 155(17130)   & 0(0) & 193(17351)  \\\\ \\hline\n",
      "\\hline\n",
      "AAC 1A & ss & mixed & ds   & total & AAC 3A & ss & mixed & ds   & total \\\\ \\hline\n",
      "contact   & 101(712) & 107(562)   & 8(45) & 216(1319) & contact   & 13(108) & 13(72)   & 0(0) & 26(180) \\\\ \\hline\n",
      "mixed   & 0(0) & 149(10432)   & 0(0) & 149(10432) & mixed   & 0(0) & 99(13933)   & 0(0) & 99(13933) \\\\ \\hline\n",
      "nocontact &  46(242) & 73(466)   & 9(43) & 128(751) & nocontact &  10(65) & 10(39)   & 0(0) & 20(104) \\\\ \\hline\n",
      "total   & 147(954) & 329(11460)   & 17(88) & 493(12502) & total   & 23(173) & 122(14044)   & 0(0) & 145(14217)  \\\\ \\hline\n",
      "\\hline\n",
      "ACA 1A & ss & mixed & ds   & total & ACA 3A & ss & mixed & ds   & total \\\\ \\hline\n",
      "contact   & 108(782) & 91(418)   & 6(26) & 205(1226) & contact   & 20(139) & 9(75)   & 0(0) & 29(214) \\\\ \\hline\n",
      "mixed   & 0(0) & 115(8264)   & 0(0) & 115(8264) & mixed   & 0(0) & 96(11550)   & 0(0) & 96(11550) \\\\ \\hline\n",
      "nocontact &  55(400) & 50(415)   & 13(82) & 118(897) & nocontact &  8(61) & 9(60)   & 0(0) & 17(121) \\\\ \\hline\n",
      "total   & 163(1182) & 256(9097)   & 19(108) & 438(10387) & total   & 28(200) & 114(11685)   & 0(0) & 142(11885)  \\\\ \\hline\n",
      "\\hline\n",
      "ACC 1A & ss & mixed & ds   & total & ACC 3A & ss & mixed & ds   & total \\\\ \\hline\n",
      "contact   & 78(444) & 83(426)   & 7(37) & 168(907) & contact   & 15(77) & 18(164)   & 0(0) & 33(241) \\\\ \\hline\n",
      "mixed   & 0(0) & 94(9370)   & 0(0) & 94(9370) & mixed   & 0(0) & 89(12021)   & 0(0) & 89(12021) \\\\ \\hline\n",
      "nocontact &  35(206) & 40(295)   & 4(19) & 79(520) & nocontact &  9(54) & 7(33)   & 0(0) & 16(87) \\\\ \\hline\n",
      "total   & 113(650) & 217(10091)   & 11(56) & 341(10797) & total   & 24(131) & 114(12218)   & 0(0) & 138(12349)  \\\\ \\hline\n",
      "\\hline\n",
      "CAA 1A & ss & mixed & ds   & total & CAA 3A & ss & mixed & ds   & total \\\\ \\hline\n",
      "contact   & 106(558) & 122(738)   & 9(39) & 237(1335) & contact   & 22(113) & 20(153)   & 1(3) & 43(269) \\\\ \\hline\n",
      "mixed   & 0(0) & 168(8706)   & 0(0) & 168(8706) & mixed   & 0(0) & 86(12575)   & 0(0) & 86(12575) \\\\ \\hline\n",
      "nocontact &  58(402) & 86(601)   & 9(67) & 153(1070) & nocontact &  5(38) & 3(18)   & 0(0) & 8(56) \\\\ \\hline\n",
      "total   & 164(960) & 376(10045)   & 18(106) & 558(11111) & total   & 27(151) & 109(12746)   & 1(3) & 137(12900)  \\\\ \\hline\n",
      "\\hline\n",
      "CAC 1A & ss & mixed & ds   & total & CAC 3A & ss & mixed & ds   & total \\\\ \\hline\n",
      "contact   & 83(631) & 83(477)   & 5(34) & 171(1142) & contact   & 7(65) & 13(77)   & 1(4) & 21(146) \\\\ \\hline\n",
      "mixed   & 0(0) & 89(7072)   & 0(0) & 89(7072) & mixed   & 0(0) & 77(10041)   & 0(0) & 77(10041) \\\\ \\hline\n",
      "nocontact &  62(436) & 35(222)   & 5(48) & 102(706) & nocontact &  6(30) & 2(9)   & 0(0) & 8(39) \\\\ \\hline\n",
      "total   & 145(1067) & 207(7771)   & 10(82) & 362(8920) & total   & 13(95) & 92(10127)   & 1(4) & 106(10226)  \\\\ \\hline\n",
      "\\hline\n",
      "CCA 1A & ss & mixed & ds   & total & CCA 3A & ss & mixed & ds   & total \\\\ \\hline\n",
      "contact   & 86(484) & 84(437)   & 7(27) & 177(948) & contact   & 14(58) & 13(70)   & 0(0) & 27(128) \\\\ \\hline\n",
      "mixed   & 0(0) & 112(7879)   & 0(0) & 112(7879) & mixed   & 0(0) & 92(10962)   & 0(0) & 92(10962) \\\\ \\hline\n",
      "nocontact &  39(282) & 57(321)   & 3(21) & 99(624) & nocontact &  5(35) & 9(69)   & 0(0) & 14(104) \\\\ \\hline\n",
      "total   & 125(766) & 253(8637)   & 10(48) & 388(9451) & total   & 19(93) & 114(11101)   & 0(0) & 133(11194)  \\\\ \\hline\n",
      "\\hline\n",
      "CCC 1A & ss & mixed & ds   & total & CCC 3A & ss & mixed & ds   & total \\\\ \\hline\n",
      "contact   & 143(912) & 81(391)   & 4(15) & 228(1318) & contact   & 16(84) & 7(28)   & 0(0) & 23(112) \\\\ \\hline\n",
      "mixed   & 0(0) & 133(10183)   & 0(0) & 133(10183) & mixed   & 0(0) & 101(14277)   & 0(0) & 101(14277) \\\\ \\hline\n",
      "nocontact &  61(376) & 52(321)   & 0(0) & 113(697) & nocontact &  7(43) & 10(43)   & 0(0) & 17(86) \\\\ \\hline\n",
      "total   & 204(1288) & 266(10895)   & 4(15) & 474(12198) & total   & 23(127) & 118(14348)   & 0(0) & 141(14475)  \\\\ \\hline\n"
     ]
    }
   ],
   "source": [
    "for key in res_cluster_1A.keys():\n",
    "    sum_tt = res_cluster_1A[key]['sum_contact_ss']+res_cluster_1A[key]['sum_contact_ds']+res_cluster_1A[key]['sum_contact_mixte']+res_cluster_1A[key]['sum_nocontact_ss']+res_cluster_1A[key]['sum_nocontact_ds']+res_cluster_1A[key]['sum_nocontact_mixte']+res_cluster_1A[key]['sum_mixte_ss']+res_cluster_1A[key]['sum_mixte_ds']+res_cluster_1A[key]['sum_mixte_mixte']\n",
    "    sum_tt_3A = res_cluster_3A[key]['sum_contact_ss']+res_cluster_3A[key]['sum_contact_ds']+res_cluster_3A[key]['sum_contact_mixte']+res_cluster_3A[key]['sum_nocontact_ss']+res_cluster_3A[key]['sum_nocontact_ds']+res_cluster_3A[key]['sum_nocontact_mixte']+res_cluster_3A[key]['sum_mixte_ss']+res_cluster_3A[key]['sum_mixte_ds']+res_cluster_3A[key]['sum_mixte_mixte']\n",
    "    texte = []\n",
    "    texte.append(\"\\hline\")\n",
    "    texte.append(\"{} 1A & ss & mixed & ds   & total & {} 3A & ss & mixed & ds   & total \\\\\\\\ \\hline\".format(key, key))\n",
    "    texte.append(\"contact   & {}({}) & {}({})   & {}({}) & {}({}) & contact   & {}({}) & {}({})   & {}({}) & {}({}) \\\\\\\\ \\hline\".format(res_cluster_1A[key]['contact_ss'], res_cluster_1A[key]['sum_contact_ss'], res_cluster_1A[key]['contact_mixte'], res_cluster_1A[key]['sum_contact_mixte'], res_cluster_1A[key]['contact_ds'], res_cluster_1A[key]['sum_contact_ds'], str(res_cluster_1A[key]['contact_ss']+res_cluster_1A[key]['contact_mixte']+res_cluster_1A[key]['contact_ds']), str(res_cluster_1A[key]['sum_contact_ss']+res_cluster_1A[key]['sum_contact_mixte']+res_cluster_1A[key]['sum_contact_ds']), res_cluster_3A[key]['contact_ss'], res_cluster_3A[key]['sum_contact_ss'], res_cluster_3A[key]['contact_mixte'], res_cluster_3A[key]['sum_contact_mixte'], res_cluster_3A[key]['contact_ds'], res_cluster_3A[key]['sum_contact_ds'], str(res_cluster_3A[key]['contact_ss']+res_cluster_3A[key]['contact_mixte']+res_cluster_3A[key]['contact_ds']), str(res_cluster_3A[key]['sum_contact_ss']+res_cluster_3A[key]['sum_contact_mixte']+res_cluster_3A[key]['sum_contact_ds'])))\n",
    "    texte.append(\"mixed   & {}({}) & {}({})   & {}({}) & {}({}) & mixed   & {}({}) & {}({})   & {}({}) & {}({}) \\\\\\\\ \\hline\".format(res_cluster_1A[key]['mixte_ss'], res_cluster_1A[key]['sum_mixte_ss'], res_cluster_1A[key]['mixte_mixte'], res_cluster_1A[key]['sum_mixte_mixte'],  res_cluster_1A[key]['mixte_ds'], res_cluster_1A[key]['sum_mixte_ds'], str(res_cluster_1A[key]['mixte_ss']+res_cluster_1A[key]['mixte_mixte']+res_cluster_1A[key]['mixte_ds']), str(res_cluster_1A[key]['sum_mixte_ss']+res_cluster_1A[key]['sum_mixte_mixte']+res_cluster_1A[key]['sum_mixte_ds']), res_cluster_3A[key]['mixte_ss'], res_cluster_3A[key]['sum_mixte_ss'], res_cluster_3A[key]['mixte_mixte'], res_cluster_3A[key]['sum_mixte_mixte'],  res_cluster_3A[key]['mixte_ds'], res_cluster_3A[key]['sum_mixte_ds'], str(res_cluster_3A[key]['mixte_ss']+res_cluster_3A[key]['mixte_mixte']+res_cluster_3A[key]['mixte_ds']), str(res_cluster_3A[key]['sum_mixte_ss']+res_cluster_3A[key]['sum_mixte_mixte']+res_cluster_3A[key]['sum_mixte_ds'])))\n",
    "    texte.append(\"nocontact &  {}({}) & {}({})   & {}({}) & {}({}) & nocontact &  {}({}) & {}({})   & {}({}) & {}({}) \\\\\\\\ \\hline\".format(res_cluster_1A[key]['nocontact_ss'], res_cluster_1A[key]['sum_nocontact_ss'], res_cluster_1A[key]['nocontact_mixte'], res_cluster_1A[key]['sum_nocontact_mixte'], res_cluster_1A[key]['nocontact_ds'], res_cluster_1A[key]['sum_nocontact_ds'], str(res_cluster_1A[key]['nocontact_ss']+res_cluster_1A[key]['nocontact_mixte']+res_cluster_1A[key]['nocontact_ds']), str(res_cluster_1A[key]['sum_nocontact_ss']+res_cluster_1A[key]['sum_nocontact_mixte']+res_cluster_1A[key]['sum_nocontact_ds']),res_cluster_3A[key]['nocontact_ss'], res_cluster_3A[key]['sum_nocontact_ss'], res_cluster_3A[key]['nocontact_mixte'], res_cluster_3A[key]['sum_nocontact_mixte'], res_cluster_3A[key]['nocontact_ds'], res_cluster_3A[key]['sum_nocontact_ds'], str(res_cluster_3A[key]['nocontact_ss']+res_cluster_3A[key]['nocontact_mixte']+res_cluster_3A[key]['nocontact_ds']), str(res_cluster_3A[key]['sum_nocontact_ss']+res_cluster_3A[key]['sum_nocontact_mixte']+res_cluster_3A[key]['sum_nocontact_ds'])))\n",
    "    texte.append(\"total   & {}({}) & {}({})   & {}({}) & {}({}) & total   & {}({}) & {}({})   & {}({}) & {}({})  \\\\\\\\ \\hline\".format(res_cluster_1A[key]['contact_ss']+res_cluster_1A[key]['mixte_ss']+res_cluster_1A[key]['nocontact_ss'], str(res_cluster_1A[key]['sum_contact_ss']+res_cluster_1A[key]['sum_mixte_ss']+res_cluster_1A[key]['sum_nocontact_ss']), res_cluster_1A[key]['contact_mixte']+res_cluster_1A[key]['mixte_mixte']+res_cluster_1A[key]['nocontact_mixte'], res_cluster_1A[key]['sum_contact_mixte']+res_cluster_1A[key]['sum_mixte_mixte']+res_cluster_1A[key]['sum_nocontact_mixte'], res_cluster_1A[key]['contact_ds']+res_cluster_1A[key]['mixte_ds']+res_cluster_1A[key]['nocontact_ds'], res_cluster_1A[key]['sum_contact_ds']+res_cluster_1A[key]['sum_mixte_ds']+res_cluster_1A[key]['sum_nocontact_ds'], str(res_cluster_1A[key]['contact_ss']+res_cluster_1A[key]['contact_mixte']+res_cluster_1A[key]['contact_ds']+res_cluster_1A[key]['mixte_ss']+res_cluster_1A[key]['mixte_mixte']+res_cluster_1A[key]['mixte_ds']+res_cluster_1A[key]['nocontact_ss']+res_cluster_1A[key]['nocontact_mixte']+res_cluster_1A[key]['nocontact_ds']), sum_tt, res_cluster_3A[key]['contact_ss']+res_cluster_3A[key]['mixte_ss']+res_cluster_3A[key]['nocontact_ss'], str(res_cluster_3A[key]['sum_contact_ss']+res_cluster_3A[key]['sum_mixte_ss']+res_cluster_3A[key]['sum_nocontact_ss']), res_cluster_3A[key]['contact_mixte']+res_cluster_3A[key]['mixte_mixte']+res_cluster_3A[key]['nocontact_mixte'], res_cluster_3A[key]['sum_contact_mixte']+res_cluster_3A[key]['sum_mixte_mixte']+res_cluster_3A[key]['sum_nocontact_mixte'], res_cluster_3A[key]['contact_ds']+res_cluster_3A[key]['mixte_ds']+res_cluster_3A[key]['nocontact_ds'], res_cluster_3A[key]['sum_contact_ds']+res_cluster_3A[key]['sum_mixte_ds']+res_cluster_3A[key]['sum_nocontact_ds'], str(res_cluster_3A[key]['contact_ss']+res_cluster_3A[key]['contact_mixte']+res_cluster_3A[key]['contact_ds']+res_cluster_3A[key]['mixte_ss']+res_cluster_3A[key]['mixte_mixte']+res_cluster_3A[key]['mixte_ds']+res_cluster_3A[key]['nocontact_ss']+res_cluster_3A[key]['nocontact_mixte']+res_cluster_3A[key]['nocontact_ds']), sum_tt_3A))\n",
    "    for ii in texte:\n",
    "        print(ii)"
   ]
  },
  {
   "cell_type": "code",
   "execution_count": 18,
   "metadata": {
    "scrolled": true
   },
   "outputs": [
    {
     "name": "stdout",
     "output_type": "stream",
     "text": [
      "\\hline\n",
      "AAA 1A & ss & mixed & ds   & total & AAA 1A & ss & mixed & ds   & total \\\\ \\hline\n",
      "contact   & 32(197) & 26(189)   & 0(0) & 58(386)  \\\\ \\hline\n",
      "mixed   & 0(0) & 119(16860)   & 0(0) & 119(16860)  \\\\ \\hline\n",
      "nocontact &  6(24) & 10(81)   & 0(0) & 16(105)  \\\\ \\hline\n",
      "total   & 38(221) & 155(17130)   & 0(0) & 193(14475)  \\\\ \\hline\n",
      "\\hline\n",
      "AAC 1A & ss & mixed & ds   & total & AAC 1A & ss & mixed & ds   & total \\\\ \\hline\n",
      "contact   & 13(108) & 13(72)   & 0(0) & 26(180)  \\\\ \\hline\n",
      "mixed   & 0(0) & 99(13933)   & 0(0) & 99(13933)  \\\\ \\hline\n",
      "nocontact &  10(65) & 10(39)   & 0(0) & 20(104)  \\\\ \\hline\n",
      "total   & 23(173) & 122(14044)   & 0(0) & 145(14475)  \\\\ \\hline\n",
      "\\hline\n",
      "ACA 1A & ss & mixed & ds   & total & ACA 1A & ss & mixed & ds   & total \\\\ \\hline\n",
      "contact   & 20(139) & 9(75)   & 0(0) & 29(214)  \\\\ \\hline\n",
      "mixed   & 0(0) & 96(11550)   & 0(0) & 96(11550)  \\\\ \\hline\n",
      "nocontact &  8(61) & 9(60)   & 0(0) & 17(121)  \\\\ \\hline\n",
      "total   & 28(200) & 114(11685)   & 0(0) & 142(14475)  \\\\ \\hline\n",
      "\\hline\n",
      "ACC 1A & ss & mixed & ds   & total & ACC 1A & ss & mixed & ds   & total \\\\ \\hline\n",
      "contact   & 15(77) & 18(164)   & 0(0) & 33(241)  \\\\ \\hline\n",
      "mixed   & 0(0) & 89(12021)   & 0(0) & 89(12021)  \\\\ \\hline\n",
      "nocontact &  9(54) & 7(33)   & 0(0) & 16(87)  \\\\ \\hline\n",
      "total   & 24(131) & 114(12218)   & 0(0) & 138(14475)  \\\\ \\hline\n",
      "\\hline\n",
      "CAA 1A & ss & mixed & ds   & total & CAA 1A & ss & mixed & ds   & total \\\\ \\hline\n",
      "contact   & 22(113) & 20(153)   & 1(3) & 43(269)  \\\\ \\hline\n",
      "mixed   & 0(0) & 86(12575)   & 0(0) & 86(12575)  \\\\ \\hline\n",
      "nocontact &  5(38) & 3(18)   & 0(0) & 8(56)  \\\\ \\hline\n",
      "total   & 27(151) & 109(12746)   & 1(3) & 137(14475)  \\\\ \\hline\n",
      "\\hline\n",
      "CAC 1A & ss & mixed & ds   & total & CAC 1A & ss & mixed & ds   & total \\\\ \\hline\n",
      "contact   & 7(65) & 13(77)   & 1(4) & 21(146)  \\\\ \\hline\n",
      "mixed   & 0(0) & 77(10041)   & 0(0) & 77(10041)  \\\\ \\hline\n",
      "nocontact &  6(30) & 2(9)   & 0(0) & 8(39)  \\\\ \\hline\n",
      "total   & 13(95) & 92(10127)   & 1(4) & 106(14475)  \\\\ \\hline\n",
      "\\hline\n",
      "CCA 1A & ss & mixed & ds   & total & CCA 1A & ss & mixed & ds   & total \\\\ \\hline\n",
      "contact   & 14(58) & 13(70)   & 0(0) & 27(128)  \\\\ \\hline\n",
      "mixed   & 0(0) & 92(10962)   & 0(0) & 92(10962)  \\\\ \\hline\n",
      "nocontact &  5(35) & 9(69)   & 0(0) & 14(104)  \\\\ \\hline\n",
      "total   & 19(93) & 114(11101)   & 0(0) & 133(14475)  \\\\ \\hline\n",
      "\\hline\n",
      "CCC 1A & ss & mixed & ds   & total & CCC 1A & ss & mixed & ds   & total \\\\ \\hline\n",
      "contact   & 16(84) & 7(28)   & 0(0) & 23(112)  \\\\ \\hline\n",
      "mixed   & 0(0) & 101(14277)   & 0(0) & 101(14277)  \\\\ \\hline\n",
      "nocontact &  7(43) & 10(43)   & 0(0) & 17(86)  \\\\ \\hline\n",
      "total   & 23(127) & 118(14348)   & 0(0) & 141(14475)  \\\\ \\hline\n"
     ]
    }
   ],
   "source": [
    "for key in res_cluster_3A.keys():\n",
    "    sum_tt = res_cluster_3A[key]['sum_contact_ss']+res_cluster_3A[key]['sum_contact_ds']+res_cluster_3A[key]['sum_contact_mixte']+res_cluster_3A[key]['sum_nocontact_ss']+res_cluster_3A[key]['sum_nocontact_ds']+res_cluster_3A[key]['sum_nocontact_mixte']+res_cluster_3A[key]['sum_mixte_ss']+res_cluster_3A[key]['sum_mixte_ds']+res_cluster_3A[key]['sum_mixte_mixte']\n",
    "    texte = []\n",
    "    texte.append(\"\\hline\")\n",
    "    texte.append(\"{} 1A & ss & mixed & ds   & total & {} 1A & ss & mixed & ds   & total \\\\\\\\ \\hline\".format(key, key))\n",
    "    texte.append(\"contact   & {}({}) & {}({})   & {}({}) & {}({})  \\\\\\\\ \\hline\".format(res_cluster_3A[key]['contact_ss'], res_cluster_3A[key]['sum_contact_ss'], res_cluster_3A[key]['contact_mixte'], res_cluster_3A[key]['sum_contact_mixte'], res_cluster_3A[key]['contact_ds'], res_cluster_3A[key]['sum_contact_ds'], str(res_cluster_3A[key]['contact_ss']+res_cluster_3A[key]['contact_mixte']+res_cluster_3A[key]['contact_ds']), str(res_cluster_3A[key]['sum_contact_ss']+res_cluster_3A[key]['sum_contact_mixte']+res_cluster_3A[key]['sum_contact_ds'])))\n",
    "    texte.append(\"mixed   & {}({}) & {}({})   & {}({}) & {}({})  \\\\\\\\ \\hline\".format(res_cluster_3A[key]['mixte_ss'], res_cluster_3A[key]['sum_mixte_ss'], res_cluster_3A[key]['mixte_mixte'], res_cluster_3A[key]['sum_mixte_mixte'],  res_cluster_3A[key]['mixte_ds'], res_cluster_3A[key]['sum_mixte_ds'], str(res_cluster_3A[key]['mixte_ss']+res_cluster_3A[key]['mixte_mixte']+res_cluster_3A[key]['mixte_ds']), str(res_cluster_3A[key]['sum_mixte_ss']+res_cluster_3A[key]['sum_mixte_mixte']+res_cluster_3A[key]['sum_mixte_ds'])))\n",
    "    texte.append(\"nocontact &  {}({}) & {}({})   & {}({}) & {}({})  \\\\\\\\ \\hline\".format(res_cluster_3A[key]['nocontact_ss'], res_cluster_3A[key]['sum_nocontact_ss'], res_cluster_3A[key]['nocontact_mixte'], res_cluster_3A[key]['sum_nocontact_mixte'], res_cluster_3A[key]['nocontact_ds'], res_cluster_3A[key]['sum_nocontact_ds'], str(res_cluster_3A[key]['nocontact_ss']+res_cluster_3A[key]['nocontact_mixte']+res_cluster_3A[key]['nocontact_ds']), str(res_cluster_3A[key]['sum_nocontact_ss']+res_cluster_3A[key]['sum_nocontact_mixte']+res_cluster_3A[key]['sum_nocontact_ds'])))\n",
    "    texte.append(\"total   & {}({}) & {}({})   & {}({}) & {}({})  \\\\\\\\ \\hline\".format(res_cluster_3A[key]['contact_ss']+res_cluster_3A[key]['mixte_ss']+res_cluster_3A[key]['nocontact_ss'], str(res_cluster_3A[key]['sum_contact_ss']+res_cluster_3A[key]['sum_mixte_ss']+res_cluster_3A[key]['sum_nocontact_ss']), res_cluster_3A[key]['contact_mixte']+res_cluster_3A[key]['mixte_mixte']+res_cluster_3A[key]['nocontact_mixte'], res_cluster_3A[key]['sum_contact_mixte']+res_cluster_3A[key]['sum_mixte_mixte']+res_cluster_3A[key]['sum_nocontact_mixte'], res_cluster_3A[key]['contact_ds']+res_cluster_3A[key]['mixte_ds']+res_cluster_3A[key]['nocontact_ds'], res_cluster_3A[key]['sum_contact_ds']+res_cluster_3A[key]['sum_mixte_ds']+res_cluster_3A[key]['sum_nocontact_ds'], str(res_cluster_3A[key]['contact_ss']+res_cluster_3A[key]['contact_mixte']+res_cluster_3A[key]['contact_ds']+res_cluster_3A[key]['mixte_ss']+res_cluster_3A[key]['mixte_mixte']+res_cluster_3A[key]['mixte_ds']+res_cluster_3A[key]['nocontact_ss']+res_cluster_3A[key]['nocontact_mixte']+res_cluster_3A[key]['nocontact_ds']), sum_tt_3A))\n",
    "    for ii in texte:\n",
    "        print(ii)"
   ]
  },
  {
   "cell_type": "code",
   "execution_count": null,
   "metadata": {},
   "outputs": [],
   "source": []
  }
 ],
 "metadata": {
  "kernelspec": {
   "display_name": "Python 3",
   "language": "python",
   "name": "python3"
  },
  "language_info": {
   "codemirror_mode": {
    "name": "ipython",
    "version": 3
   },
   "file_extension": ".py",
   "mimetype": "text/x-python",
   "name": "python",
   "nbconvert_exporter": "python",
   "pygments_lexer": "ipython3",
   "version": "3.6.15"
  }
 },
 "nbformat": 4,
 "nbformat_minor": 2
}
