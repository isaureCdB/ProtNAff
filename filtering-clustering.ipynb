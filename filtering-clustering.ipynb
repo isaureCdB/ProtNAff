{
 "cells": [
  {
   "cell_type": "markdown",
   "id": "8fa3f109",
   "metadata": {
    "id": "8fa3f109"
   },
   "source": [
    "# Custom filtering and clustering\n",
    "\n",
    "This notebook shows how you can do custom filtering and clustering.\n",
    "\n",
    "There are two ways to run this notebook:\n",
    "\n",
    "- As a web server for **biologists**, using the example filters and clustering methods provided here.\n",
    "\n",
    "- As a starting point for **bioinformaticians**, to create their own filters and/or clustering methods.\n"
   ]
  },
  {
   "cell_type": "markdown",
   "id": "Aii5cw4jpq_2",
   "metadata": {
    "id": "Aii5cw4jpq_2"
   },
   "source": [
    "## Instructions for biologists (non-programmers)"
   ]
  },
  {
   "cell_type": "markdown",
   "id": "249fdaaf",
   "metadata": {
    "id": "249fdaaf"
   },
   "source": [
    "You should run this notebook in [Google Colab](https://colab.google.com).\n",
    "\n",
    "The notebook will download the ProtNAff RNA fragment library (trinucleotides), then apply a filtering step, and finally cluster the filtered fragments. \n",
    "In the *User parameters* section below, choose:\n",
    "\n",
    "- A filtering method.\n",
    "\n",
    "- A clustering method. \n",
    "\n",
    "- A clustering RMSD threshold (in angstroms).\n",
    "\n",
    "- A secondary clustering RMSD threshold. This threshold is used only by the hierarchical method and should be slightly (~1 angstrom) higher than the primary threshold.\n",
    "\n",
    "The filtering methods should be considered as proof-of-principle examples, to be extended by bioinformaticians using this notebook. The filters select purely single-stranded RNA fragments and/or fragments from NMR structures.\n",
    "\n",
    "Three clustering methods are available. \n",
    "\n",
    "The \"full matrix\" method gives the fewest clusters, but is limited to 20 000 fragments. \n",
    "\n",
    "The \"fast\" method gives more clusters, but has no limitation. \n",
    "\n",
    "The \"hierarchical\" method combines the two, and is very close to the approach in the main ProtNAff pipeline.\n",
    "\n",
    "**After filling in the parameters, in the Colab menu, select *Runtime => Run all cells***\n"
   ]
  },
  {
   "cell_type": "markdown",
   "id": "hM9WF2xSp5c3",
   "metadata": {
    "id": "hM9WF2xSp5c3"
   },
   "source": [
    "## Instructions for bioinformaticians"
   ]
  },
  {
   "cell_type": "markdown",
   "id": "16b0e681",
   "metadata": {
    "id": "16b0e681"
   },
   "source": [
    "You can run this notebook either in [Google Colab](https://colab.google.com) or under your own Jupyter instance.\n",
    "\n",
    "In this notebook:\n",
    "\n",
    "- A number of filters are defined, and cataloged in the \"filters\" dictionary.\n",
    "\n",
    "- A number of clustering methods are defined, and cataloged in the \"clustering_methods\" dictionary.\n",
    "\n",
    "\n",
    "### You can select a filter and a clustering method and apply it on the ProtNAff fragment library.\n",
    "\n",
    "In \"User parameters\", you can select:\n",
    "- One filter, among the cataloged filters.\n",
    "- One clustering method, among the cataloged clustering methods.\n",
    "- The clustering RMSD threshold.\n",
    "- A secondary clustering RMSD threshold (if hierarchical clustering is chosen)\n",
    "\n",
    "The ProtNAff RNA fragment library is downloaded and loaded in memory. \n",
    "\n",
    "Filtering and clustering is then performed on the fragment library.\n",
    "\n",
    "The number of clusters per motif is shown, and the size distribution of the clusters is plotted.\n",
    "\n",
    "\n",
    "### You can create your own filter\n",
    "\n",
    "- The example filters are based on mask functions. Two example mask functions are provided: one to select NMR fragments, and one to select only purely single-stranded RNA fragments. You can use these examples to write your own mask functions.\n",
    "\n",
    "- The example filter functions show how to invoke and combine mask functions. You can use this to write your own filter function. Catalog your filter function in the \"filters\" dictionary.\n",
    "\n",
    "### You can create your own clustering\n",
    "\n",
    "- Three example clustering functions are provided, based on the ones used in the ProtNAff pipeline. You can write your own clustering function based on this. A clustering function is expected to designate some of the clustered fragments as \n",
    "- The downloaded fragment library coordinates contain trinucleotide xyz values, fitted on a common reference (the first structure), with clashing fragments removed."
   ]
  },
  {
   "cell_type": "markdown",
   "id": "043d6929",
   "metadata": {
    "id": "043d6929"
   },
   "source": [
    "# Definition of example filters and clustering methods"
   ]
  },
  {
   "cell_type": "markdown",
   "id": "58440641",
   "metadata": {
    "id": "58440641"
   },
   "source": [
    "## Fragment library definition (before loading)\n",
    "\n",
    "These are global variables used in the filters. \"motifs\" is also used in clustering"
   ]
  },
  {
   "cell_type": "code",
   "execution_count": 1,
   "id": "9298d7e0",
   "metadata": {
    "cellView": "form",
    "id": "9298d7e0"
   },
   "outputs": [],
   "source": [
    "#@title\n",
    "motifs = [\"AAA\", \"AAC\", \"ACA\", \"ACC\", \"CAA\", \"CAC\", \"CCA\", \"CCC\"]\n",
    "structures = None\n",
    "fragments = None\n",
    "coordinates = None\n",
    "rev_fragindex = None  # to map a key in fragments dict to an index in the fragment array"
   ]
  },
  {
   "cell_type": "markdown",
   "id": "1249f5e5",
   "metadata": {
    "id": "1249f5e5"
   },
   "source": [
    "## Masks for filtering"
   ]
  },
  {
   "cell_type": "code",
   "execution_count": 2,
   "id": "783dcd18",
   "metadata": {
    "cellView": "form",
    "id": "783dcd18"
   },
   "outputs": [],
   "source": [
    "#@title\n",
    "def mask_pure_ss(motif_fragments,structures, motif_rev_fragindex):\n",
    "    \"\"\"Returns a mask that indicates for each fragment \n",
    "if it is purely single-stranded or not\"\"\"\n",
    "    ss_set = set([\"L\", \"T\", \"S\", \"J\", \"B\", \"I\"])\n",
    "    \n",
    "    reverse_mapping = {}\n",
    "    for strucname, structure in structures.items():\n",
    "        struc_rev_mapping = {}\n",
    "        for chain, mapping in structure[\"mapping\"].items():\n",
    "            struc_rev_mapping[chain] = {v:k for k,v in mapping.items()}\n",
    "        reverse_mapping[strucname] = struc_rev_mapping\n",
    "    \n",
    "    result = np.zeros(len(motif_rev_fragindex),bool)\n",
    "\n",
    "    for fragkey, frag in motif_fragments.items():\n",
    "        if fragkey not in motif_rev_fragindex:\n",
    "            # fragment contains clashes\n",
    "            continue\n",
    "        fragind = motif_rev_fragindex[fragkey]\n",
    "        structure = frag[\"structure\"]\n",
    "        chain = frag[\"chain\"]\n",
    "        rmap = reverse_mapping[structure][\"chain_\" + chain]\n",
    "        res = [rmap[resid] for resid in frag[\"resid\"]]\n",
    "        ss_states = structures[structure][\"ss\"][\"chain_\" + chain]\n",
    "        frag_ss_states = [ss_states[\"res_\"+ r][0] for r in res]\n",
    "        is_pure_ss = all([ss_state in ss_set for ss_state in frag_ss_states])\n",
    "        result[fragind] = is_pure_ss\n",
    "\n",
    "    return result\n",
    "\n",
    "\n",
    "def mask_nmr(motif_fragments,structures, motif_rev_fragindex):\n",
    "    \"\"\"Returns a mask that indicates for each fragment \n",
    "if it comes from NMR or not\"\"\"\n",
    "    result = np.zeros(len(motif_rev_fragindex),bool)\n",
    "\n",
    "    for fragkey, frag in motif_fragments.items():\n",
    "        if fragkey not in motif_rev_fragindex:\n",
    "            # fragment contains clashes\n",
    "            continue\n",
    "        fragind = motif_rev_fragindex[fragkey]\n",
    "        structure = frag[\"structure\"]\n",
    "        struc = structures[structure]\n",
    "        is_nmr = (struc[\"method\"].find(\"nmr\") > -1)\n",
    "        result[fragind] = is_nmr\n",
    "    \n",
    "    return result"
   ]
  },
  {
   "cell_type": "markdown",
   "id": "62798003",
   "metadata": {
    "id": "62798003"
   },
   "source": [
    "## Mask-based filters"
   ]
  },
  {
   "cell_type": "code",
   "execution_count": 3,
   "id": "c535aa30",
   "metadata": {
    "cellView": "form",
    "id": "c535aa30"
   },
   "outputs": [],
   "source": [
    "#@title\n",
    "def filter_pure_ss():\n",
    "    result = {}\n",
    "    for motif in fragments:\n",
    "        frags = fragments[motif]\n",
    "        mask = mask_pure_ss(frags, structures, rev_fragindex[motif])\n",
    "        result[motif] = coordinates[motif][mask]\n",
    "    return result\n",
    "\n",
    "def filter_pure_ss_nmr():\n",
    "    result = {}\n",
    "    for motif in fragments:\n",
    "        frags = fragments[motif]\n",
    "        args = frags, structures, rev_fragindex[motif]\n",
    "        mask1 = mask_pure_ss(*args)\n",
    "        mask2 = mask_nmr(*args)\n",
    "        mask = mask1 & mask2\n",
    "        result[motif] = coordinates[motif][mask]\n",
    "    return result\n",
    "\n",
    "def filter_pure_ss_not_nmr():\n",
    "    result = {}\n",
    "    for motif in fragments:\n",
    "        frags = fragments[motif]\n",
    "        args = frags, structures, rev_fragindex[motif]\n",
    "        mask1 = mask_pure_ss(*args)\n",
    "        mask2 = mask_nmr(*args)\n",
    "        mask = mask1 & (~mask2)\n",
    "        result[motif] = coordinates[motif][mask]\n",
    "    return result\n",
    "\n",
    "def filter_none():\n",
    "    return coordinates\n",
    "\n",
    "filters = {\n",
    "    \"None\": filter_none,\n",
    "    \"Pure single-stranded\": filter_pure_ss,\n",
    "    \"Pure single-stranded, only NMR structures\": filter_pure_ss_nmr,\n",
    "    \"Pure single-stranded, no NMR structures\": filter_pure_ss_not_nmr,\n",
    "}\n"
   ]
  },
  {
   "cell_type": "markdown",
   "id": "9442a152",
   "metadata": {
    "id": "9442a152"
   },
   "source": [
    "## Clustering methods"
   ]
  },
  {
   "cell_type": "code",
   "execution_count": 4,
   "id": "1e4f4757",
   "metadata": {
    "cellView": "form",
    "id": "1e4f4757"
   },
   "outputs": [],
   "source": [
    "#@title\n",
    "def reassign(structures, clustids, chunksize):\n",
    "    \"\"\"Reassigns structures to the closest cluster center.\n",
    "    Cluster centers are supplied in the form of cluster IDs, i.e.\n",
    "    a list of integer IDs where each ID is the index of the cluster center.\n",
    "    For example, [0, 3, 5] defines three cluster centers, the 1st 4th and 5th structure\n",
    "\n",
    "    chunksize: number of structures to put in a chunk\n",
    "        This is an implementation detail that only affects the speed, not the result\n",
    "    \"\"\"\n",
    "    if len(structures.shape) == 3:\n",
    "        assert structures.shape[2] == 3\n",
    "        structures = structures.reshape(structures.shape[0], structures.shape[1]*3)\n",
    "    if len(structures.shape) == 2:\n",
    "        assert structures.shape[1] % 3 == 0\n",
    "\n",
    "    clusters = {a:[a] for a in clustids}\n",
    "    clus = structures[clustids]\n",
    "    for n in range(0, len(structures), chunksize):\n",
    "        chunk = structures[n:n+chunksize]\n",
    "        d = chunk[:, np.newaxis, :] - clus[np.newaxis, :, :]\n",
    "        inter_sd = np.einsum(\"...ij,...ij->...i\", d,d)\n",
    "        best = np.argmin(inter_sd, axis=1)\n",
    "        for nn in range(len(chunk)):\n",
    "            bestclust = clustids[best[nn]]\n",
    "            if bestclust == (n+nn):\n",
    "                continue\n",
    "            clusters[bestclust].append(n+nn)\n",
    "    return clusters\n",
    "\n",
    "def cluster(structures, threshold, **kwargs):\n",
    "    \"\"\"Clusters structures using an RMSD threshold\n",
    "        First, calculates the full pairwise RMSD matrix.\n",
    "        The maximum number of structures is fixed at 20 000 (400 million pairwise RMSDs)\n",
    "        \n",
    "        The structure with the largest number of other structures within the RMSD\n",
    "         threshold becomes a cluster.\n",
    "        That structure and all of those other structures are removed.\n",
    "        The process is repeated until no structures are left.\n",
    "\n",
    "    This algorithm is used in ATTRACT and in the ProtNAff pipeline \n",
    "    (./create_frag_library/cluster-npy.py)\n",
    "    \"\"\"\n",
    "    if len(structures.shape) == 3:\n",
    "        assert structures.shape[2] == 3\n",
    "        structures = structures.reshape(structures.shape[0], structures.shape[1]*3)\n",
    "    if len(structures.shape) == 2:\n",
    "        assert structures.shape[1] % 3 == 0\n",
    "\n",
    "    if len(structures) > 20000:\n",
    "        raise ValueError(\"Number of structures is too large, maximum is 20 000\")\n",
    "\n",
    "    dist = pdist(structures, 'sqeuclidean')\n",
    "    d = squareform(dist)\n",
    "    lim = threshold*threshold*structures.shape[1]/3\n",
    "    d2 = d<lim\n",
    "    del d\n",
    "\n",
    "    clustids = []\n",
    "    clustered = 0\n",
    "    while clustered < len(structures):\n",
    "        neigh = d2.sum(axis=0)\n",
    "        cluster_center = neigh.argmax()\n",
    "        clustids.append(cluster_center)\n",
    "        cluster = np.where(d2[cluster_center])[0]\n",
    "        for cs in cluster:\n",
    "            d2[cs,:] = False\n",
    "            d2[:, cs] = False\n",
    "        clustered += len(cluster)\n",
    "    return clustids\n",
    "\n",
    "def fastcluster(structures, threshold, chunksize, existing=[], **kwargs):\n",
    "    \"\"\"Clusters structures using an RMSD threshold\n",
    "        First structure becomes a cluster,\n",
    "         second structure only if it doesn't cluster with the first, etc.\n",
    "\n",
    "        structures: 2D numpy array, second dimension = 3 * natoms\n",
    "          structures must already have been fitted!\n",
    "        threshold: RMSD threshold (A)\n",
    "        existing: a list of existing cluster IDs\n",
    "        chunksize: number of structures to put in a chunk\n",
    "          This is an implementation detail that only affects the speed, not the result\n",
    "    \n",
    "    This algorithm is used in ATTRACT and in the ProtNAff pipeline \n",
    "    (./create_frag_library/fastcluster_npy.py)\n",
    "    \"\"\"\n",
    "    if len(structures.shape) == 3:\n",
    "        assert structures.shape[2] == 3\n",
    "        structures = structures.reshape(structures.shape[0], structures.shape[1]*3)\n",
    "    if len(structures.shape) == 2:\n",
    "        assert structures.shape[1] % 3 == 0\n",
    "    natoms = structures.shape[1]/3\n",
    "    # threshold2 = sum-of-sd threshold = (RMSD threshold **2) * natoms\n",
    "    threshold2 = threshold**2 * natoms\n",
    "\n",
    "    nclus = 1\n",
    "    if len(existing):\n",
    "        clus_space = max(len(existing), 100)\n",
    "        clus = np.zeros((clus_space, structures.shape[1]))\n",
    "        clus[:len(existing)] = structures[existing]\n",
    "        clustids = []\n",
    "        clustids[:] = existing[:]\n",
    "    else:\n",
    "        clus_space = 100\n",
    "        clus = np.zeros((clus_space, structures.shape[1]))\n",
    "        clus[:1] = structures[:1]\n",
    "        clustids = [0]\n",
    "    for n in range(1, len(structures), chunksize):\n",
    "        #print(\"{0}/{1}\".format(n, len(structures), file=sys.stderr)\n",
    "        #sys.stderr.flush()\n",
    "        chunk = structures[n:n+chunksize]\n",
    "        d = chunk[:, np.newaxis, :] - clus[np.newaxis, :, :]\n",
    "        inter_sd = np.einsum(\"...ij,...ij->...i\", d, d)\n",
    "        #close_inter is a 2D Boolean matrix:\n",
    "        #  True  (1): chunk[i] is close to (within RMSD threshold of) clus[j]\n",
    "        #  False (0): chunk[i] is not close to clus[j]\n",
    "        close_inter = (inter_sd < threshold2)\n",
    "        # newclustered contains all structures in the chunk that *don't* cluster with an existing cluster\n",
    "        newclustered = []\n",
    "        for chunk_index, closest_inter in enumerate(np.argmax(close_inter,axis=1)):\n",
    "            # closest_inter contains the *first* index of close_inter\n",
    "            #   with the highest value of close_inter\n",
    "            # We are interested in the case where close_inter is all False (=> new cluster)\n",
    "            # In that case, the highest value of close_inter is False, and closest_inter is 0\n",
    "            # If close_inter is *not* all False (=> existing cluster), one of these conditions is False\n",
    "            if closest_inter == 0 and close_inter[chunk_index, 0] == False:\n",
    "                newclustered.append(chunk_index)\n",
    "\n",
    "        if len(newclustered):\n",
    "            # Now we have newclustered: the *chunk* index of all structures in the chunk that will be in new clusters\n",
    "            # Now we want to cluster them among themselves, and add the *structure* id of each new cluster\n",
    "            chunk_newclustered = chunk[newclustered]\n",
    "            d = chunk_newclustered[:, np.newaxis, :] - chunk_newclustered[np.newaxis, :, :]\n",
    "            intra_sd = np.einsum(\"...ij,...ij->...i\", d, d)\n",
    "            close_intra = (intra_sd < threshold2)\n",
    "\n",
    "            # set all upper-triangular indices to False\n",
    "            close_intra[np.triu_indices(len(chunk_newclustered))] = 0\n",
    "            for nn in range(len(chunk_newclustered)):\n",
    "                # same logic as for closest_inter;\n",
    "                #  except that we don't have the chunk index, but the chunk_newclustered index (nn)\n",
    "                #  and, since we modify close_intra in the \"else\" clause, argmax is computed later\n",
    "                closest_intra = np.argmax(close_intra[nn])\n",
    "                if closest_intra == 0 and close_intra[nn, 0] == False:\n",
    "                    chunk_index = newclustered[nn]\n",
    "                    # if clus is full, re-allocate it as a 50 % larger array\n",
    "                    if nclus == clus_space:\n",
    "                        clus_space = int(clus_space*1.5)\n",
    "                        clus_old = clus\n",
    "                        clus = np.zeros((clus_space, structures.shape[1]))\n",
    "                        clus[:nclus] = clus_old\n",
    "                    clus[nclus] = chunk[chunk_index]\n",
    "                    clustids.append(n+chunk_index)\n",
    "                    nclus += 1\n",
    "                else:  # in addition, if we aren't a new cluster, being close to us doesn't matter\n",
    "                    close_intra[:, nn] = False\n",
    "\n",
    "    return clustids\n",
    "\n",
    "def hierarchical_cluster(structures,threshold, secondary_threshold, chunksize, **kwargs):\n",
    "    \"\"\"Clusters structures using an RMSD threshold\n",
    "    Does an initial clustering using fastcluster() with a secondary threshold\n",
    "     then the resulting clusters are clustered using cluster()\n",
    "    \n",
    "    This is very close to the approach of the ProtNAff pipeline\n",
    "    (./create_frag_library/clusterfrag_npy.sh)\n",
    "    \"\"\"\n",
    "    if secondary_threshold <= threshold:\n",
    "        raise ValueError(\"Secondary threshold must be higher than clustering threshold\")\n",
    "    chunksize = 200\n",
    "    initial_clustids = fastcluster(structures,secondary_threshold,chunksize=chunksize)\n",
    "    initial_clusters = reassign(structures, initial_clustids, chunksize=chunksize)\n",
    "    all_rough_clustids = []\n",
    "    for initial_cluster in initial_clusters.values():\n",
    "        if len(initial_cluster) > 20000:\n",
    "            raise ValueError(\"Initial cluster is too large, maximum is 20 000. Increase secondary RMSD threshold.\")\n",
    "        initial_cluster = np.array(initial_cluster)\n",
    "        initial_cluster_struc = structures[initial_cluster]\n",
    "        subclustids0 = cluster(initial_cluster_struc, threshold)\n",
    "        subclustids = initial_cluster[subclustids0]\n",
    "        all_rough_clustids.append(subclustids)\n",
    "    rough_clustids = np.concatenate(all_rough_clustids)\n",
    "    rough_clust_struc = structures[rough_clustids]\n",
    "    if len(rough_clustids) > 20000:\n",
    "        clustids0 = fastcluster(rough_clust_struc, threshold, chunksize=chunksize)\n",
    "    else:\n",
    "        clustids0 = cluster(rough_clust_struc, threshold)\n",
    "    fine_clustids = rough_clustids[clustids0].tolist()\n",
    "    final_clustids = fastcluster(structures, threshold, chunksize=chunksize, existing=fine_clustids)\n",
    "    return final_clustids    \n",
    "\n",
    "clustering_methods = {\n",
    "    \"Fast\": fastcluster,\n",
    "    \"Full matrix\": cluster,\n",
    "    \"Hierarchical\": hierarchical_cluster,\n",
    "}"
   ]
  },
  {
   "cell_type": "markdown",
   "id": "068c96f6",
   "metadata": {
    "id": "068c96f6"
   },
   "source": [
    "# User parameters"
   ]
  },
  {
   "cell_type": "code",
   "execution_count": 5,
   "id": "9c396339",
   "metadata": {
    "cellView": "form",
    "id": "9c396339"
   },
   "outputs": [],
   "source": [
    "filtering_method = \"Pure single-stranded, no NMR structures\" #@param [\"None\", \"Pure single-stranded\", \"Pure single-stranded, only NMR structures\", \"Pure single-stranded, no NMR structures\"]\n",
    "clustering_method = \"Hierarchical\" #@param [\"Fast\", \"Full matrix\", \"Hierarchical\"]\n",
    "clustering_threshold = 3.0 #@param {type:\"slider\", min:0.1, max:10, step:0.1}\n",
    "secondary_threshold = 4.0 #@param {type:\"slider\", min:0.1, max:10, step:0.1}\n",
    "chunksize = 200  # affects only the speed, not the result"
   ]
  },
  {
   "cell_type": "markdown",
   "id": "70f08a50",
   "metadata": {
    "id": "70f08a50"
   },
   "source": [
    "## Parameter validation"
   ]
  },
  {
   "cell_type": "code",
   "execution_count": 6,
   "id": "75fc1639",
   "metadata": {
    "cellView": "form",
    "id": "75fc1639"
   },
   "outputs": [],
   "source": [
    "#@title\n",
    "if filtering_method not in filters:\n",
    "    raise ValueError(\"Filtering method '{}' not in {}\".format(filtering_method, filters.keys()))\n",
    "if clustering_method not in clustering_methods:\n",
    "    raise ValueError(\"Clustering method '{}' not in {}\".format(clustering_method, clustering_methods.keys()))\n",
    "clustering_threshold = float(clustering_threshold)\n",
    "if clustering_threshold <= 0:\n",
    "    raise ValueError(\"Clustering threshold must be positive\")\n",
    "secondary_threshold = float(secondary_threshold)\n",
    "chunksize = int(chunksize)\n",
    "if chunksize <= 0:\n",
    "    raise ValueError(\"Chunk size must be positive\")"
   ]
  },
  {
   "cell_type": "markdown",
   "id": "bce0230c",
   "metadata": {
    "id": "bce0230c"
   },
   "source": [
    "# Execution"
   ]
  },
  {
   "cell_type": "markdown",
   "id": "edc46630",
   "metadata": {
    "id": "edc46630"
   },
   "source": [
    "## Imports"
   ]
  },
  {
   "cell_type": "code",
   "execution_count": 7,
   "id": "942cf660",
   "metadata": {
    "cellView": "form",
    "id": "942cf660"
   },
   "outputs": [],
   "source": [
    "#@title\n",
    "import os\n",
    "import tempfile\n",
    "import shutil\n",
    "import json\n",
    "import numpy as np\n",
    "from scipy.spatial.distance import pdist, squareform\n",
    "from urllib.request import urlretrieve\n",
    "import matplotlib.pyplot as plt\n",
    "import matplotlib.gridspec as gridspec"
   ]
  },
  {
   "cell_type": "markdown",
   "id": "ef6a7e9f",
   "metadata": {
    "id": "ef6a7e9f"
   },
   "source": [
    "## Loading fragment library"
   ]
  },
  {
   "cell_type": "code",
   "execution_count": 8,
   "id": "1a125adc",
   "metadata": {
    "cellView": "form",
    "id": "1a125adc"
   },
   "outputs": [
    {
     "name": "stdout",
     "output_type": "stream",
     "text": [
      "Download https://zenodo.org/record/6475637/files/structures.json ...\n",
      "Download https://zenodo.org/record/6475637/files/fragments_clust.json ...\n",
      "Download https://zenodo.org/record/6475637/files/aa-fit.tgz ...\n"
     ]
    }
   ],
   "source": [
    "#@title\n",
    "fraglib_files = {\n",
    "    \"structures.json\": \"https://zenodo.org/record/6475637/files/structures.json\",\n",
    "\n",
    "    \"fragments_clust.json\": \"https://zenodo.org/record/6475637/files/fragments_clust.json\",\n",
    "\n",
    "    \"aa-fit.tgz\": \"https://zenodo.org/record/6475637/files/aa-fit.tgz\",  \n",
    "    # containing:\n",
    "    #   <motif>-aa-fit.npy\n",
    "    #   <motif>-aa.noclash\n",
    "    #   for 8 motifs (AAA to CCC)\n",
    "    # These come from the trilib/ directory.\n",
    "    # The .npy contains only the non-clashing fragments\n",
    "}\n",
    "\n",
    "if structures is None:\n",
    "    with tempfile.TemporaryDirectory() as TEMPDIR:\n",
    "        for fraglib_file, url in fraglib_files.items():\n",
    "            dest = os.path.join(TEMPDIR, fraglib_file)\n",
    "            print(\"Download\", url, \"...\")\n",
    "            urlretrieve(url, dest)\n",
    "        os.system(\"cd {}; tar xzf aa-fit.tgz\".format(TEMPDIR))\n",
    "\n",
    "        structures = json.load(open(os.path.join(TEMPDIR, \"structures.json\")))\n",
    "        fragments = json.load(open(os.path.join(TEMPDIR, \"fragments_clust.json\")))\n",
    "        coordinates = {}\n",
    "        rev_fragindex = {}\n",
    "        for motif in motifs:\n",
    "            coorfile = \"{}-aa-fit.npy\".format(motif)\n",
    "            coordinates[motif] = np.load(os.path.join(TEMPDIR, coorfile))\n",
    "            noclash_file = \"{}-aa.noclash\".format(motif)\n",
    "            motif_rev_fragindex = {}\n",
    "            with open(os.path.join(TEMPDIR, noclash_file)) as f:\n",
    "                for lnr, l in enumerate(f.readlines()):\n",
    "                    frag_key = l.strip()\n",
    "                    motif_rev_fragindex[frag_key] = lnr\n",
    "                assert len(motif_rev_fragindex) == len(coordinates[motif]), (len(motif_rev_fragindex), noclash_file, len(coordinates[motif]), coorfile)\n",
    "                rev_fragindex[motif] = motif_rev_fragindex\n"
   ]
  },
  {
   "cell_type": "markdown",
   "id": "00222529",
   "metadata": {
    "id": "00222529"
   },
   "source": [
    "## Run filtering and clustering"
   ]
  },
  {
   "cell_type": "code",
   "execution_count": 9,
   "id": "412c4df6",
   "metadata": {
    "cellView": "form",
    "id": "412c4df6"
   },
   "outputs": [
    {
     "name": "stdout",
     "output_type": "stream",
     "text": [
      "Motif AAA, filtering... clustering... Done\n",
      "Motif AAC, filtering... clustering... Done\n",
      "Motif ACA, filtering... clustering... Done\n",
      "Motif ACC, filtering... clustering... Done\n",
      "Motif CAA, filtering... clustering... Done\n",
      "Motif CAC, filtering... clustering... Done\n",
      "Motif CCA, filtering... clustering... Done\n",
      "Motif CCC, filtering... clustering... Done\n"
     ]
    }
   ],
   "source": [
    "#@title\n",
    "filt = filters[filtering_method]\n",
    "clustering_func = clustering_methods[clustering_method]\n",
    "filtered_coordinates = filt()\n",
    "clusters = {}\n",
    "for motif in motifs:\n",
    "    print(\"Motif {}, filtering... \".format(motif),end=\"\")\n",
    "    motif_coors = filtered_coordinates[motif]\n",
    "    print(\"clustering... \", end=\"\")\n",
    "    motif_clustids = clustering_func(\n",
    "        motif_coors,\n",
    "        threshold=clustering_threshold,\n",
    "        secondary_threshold=secondary_threshold,\n",
    "        chunksize=chunksize\n",
    "    )\n",
    "    motif_clusters = reassign(\n",
    "        motif_coors,\n",
    "        motif_clustids,\n",
    "        chunksize=chunksize\n",
    "    )\n",
    "    print(\"Done\")\n",
    "    clusters[motif] = motif_clusters"
   ]
  },
  {
   "cell_type": "markdown",
   "id": "d4bf44c1",
   "metadata": {
    "id": "d4bf44c1"
   },
   "source": [
    "# Results"
   ]
  },
  {
   "cell_type": "markdown",
   "id": "9513e5a7",
   "metadata": {
    "id": "9513e5a7"
   },
   "source": [
    "## Number of clusters per motif"
   ]
  },
  {
   "cell_type": "code",
   "execution_count": 10,
   "id": "574cf777",
   "metadata": {
    "cellView": "form",
    "id": "574cf777",
    "outputId": "5a9a878d-50ac-44a7-a977-1ad5db775b7f"
   },
   "outputs": [
    {
     "name": "stdout",
     "output_type": "stream",
     "text": [
      "AAA 238\n",
      "AAC 177\n",
      "ACA 165\n",
      "ACC 180\n",
      "CAA 170\n",
      "CAC 125\n",
      "CCA 180\n",
      "CCC 180\n"
     ]
    },
    {
     "data": {
      "image/png": "[encoded data removed]",
      "text/plain": [
       "<Figure size 720x360 with 1 Axes>"
      ]
     },
     "metadata": {
      "needs_background": "light"
     },
     "output_type": "display_data"
    }
   ],
   "source": [
    "#@title\n",
    "from math import log10, ceil\n",
    "\n",
    "nclusts = []\n",
    "for motif in motifs:\n",
    "    nclust = len(clusters[motif])\n",
    "    print(motif, nclust)\n",
    "    nclusts.append(nclust)\n",
    "plt.figure(figsize=(10,5))\n",
    "plt.bar([1, 2, 3, 4, 5, 6, 7, 8], nclusts, 0.4, label=\"clusters\", log=True, color='green')\n",
    "plt.ylabel(\"Number of clusters (logarithm scale)\")\n",
    "plt.xticks([1, 2, 3, 4, 5, 6, 7, 8], motifs)\n",
    "ylim = 10**(ceil(log10(max(nclusts)+1)))\n",
    "plt.ylim(1, ylim)\n",
    "plt.legend()\n",
    "plt.show()"
   ]
  },
  {
   "cell_type": "markdown",
   "id": "41e29c37",
   "metadata": {
    "id": "41e29c37"
   },
   "source": [
    "## Distribution of cluster sizes"
   ]
  },
  {
   "cell_type": "code",
   "execution_count": 11,
   "id": "6790d77a",
   "metadata": {
    "cellView": "form",
    "id": "6790d77a",
    "outputId": "56441128-20bb-487c-e4f9-326211852d74"
   },
   "outputs": [
    {
     "data": {
      "image/png": "[encoded data removed]",
      "text/plain": [
       "<Figure size 576x288 with 1 Axes>"
      ]
     },
     "metadata": {
      "needs_background": "light"
     },
     "output_type": "display_data"
    }
   ],
   "source": [
    "#@title\n",
    "clustsizes = []\n",
    "for motif in motifs:\n",
    "    for clust in clusters[motif].values():\n",
    "        clustsizes.append(len(clust))\n",
    "x, y = np.unique(clustsizes, return_counts=True)\n",
    "        \n",
    "fig = plt.figure(figsize=(8,4))\n",
    "gs = gridspec.GridSpec(1, 1)\n",
    "ax1 = plt.subplot(gs[0, 0])\n",
    "ax1.scatter(x, y)\n",
    "ax1.set_xscale(\"log\")\n",
    "ax1.set_yscale(\"log\")\n",
    "\n",
    "fig.text(0.055, 0.5, \"Number of clusters\", va='center', rotation='vertical')\n",
    "plt.xlabel(\"Number of conformations in the cluster\")\n",
    "plt.show()"
   ]
  }
 ],
 "metadata": {
  "colab": {
   "name": "filtering-clustering.ipynb",
   "provenance": []
  },
  "kernelspec": {
   "display_name": "Python 3",
   "language": "python",
   "name": "python3"
  },
  "language_info": {
   "codemirror_mode": {
    "name": "ipython",
    "version": 3
   },
   "file_extension": ".py",
   "mimetype": "text/x-python",
   "name": "python",
   "nbconvert_exporter": "python",
   "pygments_lexer": "ipython3",
   "version": "3.6.15"
  }
 },
 "nbformat": 4,
 "nbformat_minor": 5
}
