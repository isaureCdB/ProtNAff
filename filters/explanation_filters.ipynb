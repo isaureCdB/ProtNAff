{
 "cells": [
  {
   "cell_type": "markdown",
   "id": "66dafa70",
   "metadata": {},
   "source": [
    "# Presentation filters\n",
    "\n",
    "This notebook is presenting how you can use the JSON files to create filters.\n",
    "\n",
    "First we will have a look at what is inside the JSON files."
   ]
  },
  {
   "cell_type": "code",
   "execution_count": 1,
   "id": "459f93d6",
   "metadata": {},
   "outputs": [],
   "source": [
    "import json\n",
    "\n",
    "structures = json.load(open(\"./../example/structures.json\"))"
   ]
  },
  {
   "cell_type": "code",
   "execution_count": 17,
   "id": "b3e27e29",
   "metadata": {},
   "outputs": [
    {
     "name": "stdout",
     "output_type": "stream",
     "text": [
      "dict_keys(['Nmodels', 'RNAprot_hb', 'bptype', 'breaks', 'canonized', 'hetnames', 'interface_hetatoms', 'interface_protein', 'intraRNA_hb', 'mapping', 'method', 'missing_atoms', 'nachains', 'protchain', 'resolution', 'sequence', 'ss', 'stacking'])\n"
     ]
    }
   ],
   "source": [
    "print(structures[\"1ASY\"].keys())"
   ]
  },
  {
   "cell_type": "markdown",
   "id": "89e416d5",
   "metadata": {},
   "source": [
    "For the `structures.json` there are:\n",
    "* Nmodels: the number of models;\n",
    "* RNAprot_hb: the hydrogen bonds between the NA (chain and res and base/ph/sugar) and the protein;\n",
    "* bptype: the base pairing type for the residue;\n",
    "* breaks: the breaks into the NA chains;\n",
    "* canonized: the residue that are canonized by the pipline;\n",
    "* hetnames: the hetero atom names;\n",
    "* interface_hetatoms: the interface between the NA (chain and res and base/ph/sugar) and the hetero atoms;\n",
    "* interface_protein: the interface between the NA (chain and res and base/ph/sugar) and the protein;\n",
    "* intraRNA_hb: the intra NA hydrogen bonds, for the chain and residue, between the residue n-1 or n+1 or other residues;\n",
    "* mapping: the mapping created by the pipeline, new numbers : old numbers;\n",
    "* method: the experimental method used to obtain the structure;\n",
    "* missing_atoms: the residue of NA on which there are missing atoms;\n",
    "* nachains: the NA chains;\n",
    "* protchain: the protein chains;\n",
    "* resolution: the resolution of the experimental structure;\n",
    "* sequence: the NA sequence by chains;\n",
    "* ss: the secondary structure for the NA by chain, residue;\n",
    "* stacking: the stacking of the NA, for the residue with the residue n-1, n+1, or other."
   ]
  },
  {
   "cell_type": "code",
   "execution_count": 18,
   "id": "ab34f839",
   "metadata": {},
   "outputs": [],
   "source": [
    "fragments = json.load(open(\"./../example/fragments.json\"))"
   ]
  },
  {
   "cell_type": "code",
   "execution_count": 26,
   "id": "7e638e2c",
   "metadata": {},
   "outputs": [
    {
     "name": "stdout",
     "output_type": "stream",
     "text": [
      "dict_keys(['structure', 'chain', 'model', 'indices', 'resid', 'seq', 'missing_atoms'])\n"
     ]
    }
   ],
   "source": [
    "print(fragments['CCC']['1'].keys())"
   ]
  },
  {
   "cell_type": "markdown",
   "id": "12f9941d",
   "metadata": {},
   "source": [
    "For the `fragments.json`, for each motif, and for each fragment, there are the following information:\n",
    "* structure: the structure frome which the fragment is coming;\n",
    "* chain: the NA chain from the structure from which the fragment is coming;\n",
    "* model: the model, if the structure is an RMN structure for instance;\n",
    "* indices: the indices of the nucleotides, they are the indices given by the pipline;\n",
    "* resid: the number of the residues corresponding to the original structure;\n",
    "* seq: the original sequence of the fragment;\n",
    "* missing_atoms: the information of the missing atoms from the original residues."
   ]
  },
  {
   "cell_type": "code",
   "execution_count": 28,
   "id": "9d71a538",
   "metadata": {},
   "outputs": [],
   "source": [
    "fragments_clust = json.load(open(\"./../example/fragments_clust.json\"))"
   ]
  },
  {
   "cell_type": "code",
   "execution_count": 38,
   "id": "0f7103f5",
   "metadata": {},
   "outputs": [
    {
     "name": "stdout",
     "output_type": "stream",
     "text": [
      "dict_keys(['chain', 'clust0.2', 'clust0.2_center', 'clust1.0', 'clust1.0_center', 'clust3.0', 'clust3.0_center', 'indices', 'missing_atoms', 'model', 'resid', 'seq', 'structure'])\n"
     ]
    }
   ],
   "source": [
    "print(fragments_clust['CCC']['1'].keys())"
   ]
  },
  {
   "cell_type": "markdown",
   "id": "09116f6b",
   "metadata": {},
   "source": [
    "And last, the `fragments_clust.json`, for each motif, and for each fragment:\n",
    "* chain: the NA chain from the structure from which the fragment is coming;\n",
    "* clust0.2: the number of the cluster at 0.2A;\n",
    "* clust0.2_center: boolean if yes or no the fragment is the center of the cluster at 0.2A obtained by the fastclust method;\n",
    "* clust1.0: the number of the cluster at 1.0A;\n",
    "* clust1.0_center: boolean if yes or no the fragment is the center of the cluster at 1.0A obtained by the fastclust method;\n",
    "* clust3.0: the number of the cluster at 3.0A;\n",
    "* clust3.0_center: boolean if yes or no the fragment is the center of the cluster at 3.0A obtained by the fastclust method;\n",
    "* structure: the structure frome which the fragment is coming;\n",
    "* model: the model, if the structure is an RMN structure for instance;\n",
    "* indices: the indices of the nucleotides, they are the indices given by the pipline;\n",
    "* resid: the number of the residues corresponding to the original structure;\n",
    "* seq: the original sequence of the fragment;\n",
    "* missing_atoms: the information of the missing atoms from the original residues."
   ]
  },
  {
   "cell_type": "markdown",
   "id": "d15c3807",
   "metadata": {},
   "source": [
    "Using those information, we can try to do a filter to select all based paired nucleotides (WC pairing) that are in contact with the protein."
   ]
  },
  {
   "cell_type": "code",
   "execution_count": 52,
   "id": "67fb1839",
   "metadata": {},
   "outputs": [
    {
     "name": "stdout",
     "output_type": "stream",
     "text": [
      "Structure: 1A1T, chain: chain_B, nucleotides: set()\n",
      "Structure: 1A34, chain: chain_B, nucleotides: {'6', '4', '5'}\n",
      "Structure: 1A34, chain: chain_C, nucleotides: {'7', '6', '8'}\n",
      "Structure: 1A4T, chain: chain_A, nucleotides: set()\n",
      "Structure: 1A9N, chain: chain_Q, nucleotides: {'5', '2', '1', '3', '19'}\n",
      "Structure: 1A9N, chain: chain_R, nucleotides: {'5', '2', '1', '3', '4', '19'}\n",
      "Structure: 1AQ3, chain: chain_R, nucleotides: {'1', '2', '11'}\n",
      "Structure: 1AQ3, chain: chain_S, nucleotides: set()\n",
      "Structure: 1AQ4, chain: chain_R, nucleotides: {'2', '11'}\n",
      "Structure: 1AQ4, chain: chain_S, nucleotides: {'2', '11'}\n",
      "Structure: 1ASY, chain: chain_R, nucleotides: {'39', '66', '11', '68', '71', '27', '1', '70', '28', '12', '29', '69'}\n",
      "Structure: 1ASY, chain: chain_S, nucleotides: {'39', '66', '11', '68', '71', '27', '1', '70', '28', '12', '69', '24'}\n",
      "Structure: 1AUD, chain: chain_B, nucleotides: set()\n",
      "Structure: 1B23, chain: chain_R, nucleotides: {'50', '65', '62', '49', '48', '63', '1', '2', '3', '61', '51', '70', '64'}\n",
      "Structure: 1B7F, chain: chain_P, nucleotides: set()\n",
      "Structure: 1B7F, chain: chain_Q, nucleotides: set()\n"
     ]
    }
   ],
   "source": [
    "results = []\n",
    "for structure in structures.keys():\n",
    "    for chain in structures[structure][\"nachains\"]:\n",
    "        chain = \"chain_\" + chain\n",
    "        nucl_contact = structures[structure][\"interface_protein\"][\"model_1\"][chain]\n",
    "        nucl_contact = [element.split(\"_\")[1] for element in nucl_contact]\n",
    "        \n",
    "        nucl_bp_tmp = structures[structure][\"bptype\"][chain]\n",
    "        nucl_bp = []\n",
    "        for key, value in nucl_bp_tmp.items():\n",
    "            if value[0] == 'WC':\n",
    "                nucl_bp.append(key.split(\"_\")[1])\n",
    "        \n",
    "        nucl_contact_bp = set(nucl_contact).intersection(set(nucl_bp))\n",
    "        \n",
    "        results.append([structure, chain, nucl_contact_bp])\n",
    "for res in results:\n",
    "    print(\"Structure: {}, chain: {}, nucleotides: {}\".format(res[0], res[1], res[2]))"
   ]
  }
 ],
 "metadata": {
  "kernelspec": {
   "display_name": "Python 3",
   "language": "python",
   "name": "python3"
  },
  "language_info": {
   "codemirror_mode": {
    "name": "ipython",
    "version": 3
   },
   "file_extension": ".py",
   "mimetype": "text/x-python",
   "name": "python",
   "nbconvert_exporter": "python",
   "pygments_lexer": "ipython3",
   "version": "3.6.13"
  }
 },
 "nbformat": 4,
 "nbformat_minor": 5
}
