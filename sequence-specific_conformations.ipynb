{
 "cells": [
  {
   "cell_type": "markdown",
   "metadata": {},
   "source": [
    "# Effect of mutations on conformations\n",
    "\n",
    "Evaluate if some conformations are specific for a given sequence, and if the Pu->Pu and Py->Py mutations induce unrrealistic conformations."
   ]
  },
  {
   "cell_type": "code",
   "execution_count": 1,
   "metadata": {},
   "outputs": [],
   "source": [
    "import numpy as np\n",
    "import json, sys\n",
    "from math import factorial as fact"
   ]
  },
  {
   "cell_type": "code",
   "execution_count": 2,
   "metadata": {},
   "outputs": [],
   "source": [
    "ff = json.load(open(\"fragments_clust.json\"))"
   ]
  },
  {
   "cell_type": "code",
   "execution_count": 23,
   "metadata": {
    "collapsed": true
   },
   "outputs": [
    {
     "data": {
      "text/plain": [
       "{'chain': 'B',\n",
       " 'clust0.2': 9372,\n",
       " 'clust0.2_center': True,\n",
       " 'clust1.0': 392,\n",
       " 'clust1.0_center': True,\n",
       " 'clust3.0': 58,\n",
       " 'clust3.0_center': True,\n",
       " 'indices': [9, 10, 11],\n",
       " 'missing_atoms': [0, 0, 0],\n",
       " 'model': 3,\n",
       " 'resid': ['209', '210', '211'],\n",
       " 'seq': 'GGA',\n",
       " 'structure': '1A1T'}"
      ]
     },
     "execution_count": 23,
     "metadata": {},
     "output_type": "execute_result"
    }
   ],
   "source": [
    "#example of fragment\n",
    "ff[\"AAA\"][\"10\"]"
   ]
  },
  {
   "cell_type": "markdown",
   "metadata": {},
   "source": [
    "### Remove redundant fragments in clusters of 1A conformations\n",
    "Fragments are considered redundant if they are:\n",
    "- of same original sequence\n",
    "\n",
    "AND one of the following:\n",
    "\n",
    "- from RNA belonging to the same Rfam family\n",
    "- bound to proteins with >90% seq id"
   ]
  },
  {
   "cell_type": "code",
   "execution_count": 3,
   "metadata": {},
   "outputs": [],
   "source": [
    "def l2d(mapfile):\n",
    "    ll = [l.split() for l in open(mapfile).readlines()]\n",
    "    d = {}\n",
    "    for i,j in ll:\n",
    "        if i not in d:\n",
    "            d[i] = set()\n",
    "        d[i].add(j)\n",
    "    return d"
   ]
  },
  {
   "cell_type": "code",
   "execution_count": 4,
   "metadata": {},
   "outputs": [],
   "source": [
    "# mapping of each PDB structure to Rfam and Uniprot\n",
    "unip = l2d(\"pdbUnip\")\n",
    "rfam = l2d(\"pdbRfam\")"
   ]
  },
  {
   "cell_type": "code",
   "execution_count": 5,
   "metadata": {},
   "outputs": [],
   "source": [
    "# clusters of PDB chains with seqid > 90%\n",
    "# https://cdn.rcsb.org/resources/sequence/clusters/bc-90.out\n",
    "ll = [l.split() for l in open(\"bc-90.out\").readlines()]\n",
    "redun = {}\n",
    "for nl,l in enumerate(ll):\n",
    "    for w in l:\n",
    "        redun[w[:4]] = nl"
   ]
  },
  {
   "cell_type": "code",
   "execution_count": 7,
   "metadata": {},
   "outputs": [],
   "source": [
    "#define which sequences correspond to each Pu/Py motif\n",
    "pu = [\"A\", \"G\"]\n",
    "py = [\"C\",\"U\"]\n",
    "mu = [\"A\", \"C\"]\n",
    "motifs=[a+b+c for a in mu for b in mu for c in mu ]\n",
    "seq = {m:set([ ff[m][k][\"seq\"] for k in ff[m].keys()]) for m in motifs}"
   ]
  },
  {
   "cell_type": "code",
   "execution_count": 10,
   "metadata": {
    "collapsed": true
   },
   "outputs": [
    {
     "data": {
      "text/plain": [
       "{'AAA': {'AAA', 'AAG', 'AGA', 'AGG', 'GAA', 'GAG', 'GGA', 'GGG'},\n",
       " 'AAC': {'AAC', 'AAU', 'AGC', 'AGU', 'GAC', 'GAU', 'GGC', 'GGU'},\n",
       " 'ACA': {'ACA', 'ACG', 'AUA', 'AUG', 'GCA', 'GCG', 'GUA', 'GUG'},\n",
       " 'ACC': {'ACC', 'ACU', 'AUC', 'AUU', 'GCC', 'GCU', 'GUC', 'GUU'},\n",
       " 'CAA': {'CAA', 'CAG', 'CGA', 'CGG', 'UAA', 'UAG', 'UGA', 'UGG'},\n",
       " 'CAC': {'CAC', 'CAU', 'CGC', 'CGU', 'UAC', 'UAU', 'UGC', 'UGU'},\n",
       " 'CCA': {'CCA', 'CCG', 'CUA', 'CUG', 'UCA', 'UCG', 'UUA', 'UUG'},\n",
       " 'CCC': {'CCC', 'CCU', 'CUC', 'CUU', 'UCC', 'UCU', 'UUC', 'UUU'}}"
      ]
     },
     "execution_count": 10,
     "metadata": {},
     "output_type": "execute_result"
    }
   ],
   "source": [
    "seq"
   ]
  },
  {
   "cell_type": "code",
   "execution_count": 60,
   "metadata": {},
   "outputs": [],
   "source": [
    "#to make results more readable, we hide some entries in the fragments description\n",
    "keep = {'p':'structure',\n",
    "        'r':'resid', \n",
    "        's':'seq',\n",
    "        'c':'chain'\n",
    "        #'m':'model'\n",
    "       }\n",
    "f2 = {m:{k:{ x:ff[m][k][keep[x]] for x in keep} for k in ff[m].keys()} for m in motifs}"
   ]
  },
  {
   "cell_type": "code",
   "execution_count": 61,
   "metadata": {},
   "outputs": [
    {
     "data": {
      "text/plain": [
       "{'p': '1A1T', 'r': ['209', '210', '211'], 's': 'GGA', 'c': 'B'}"
      ]
     },
     "execution_count": 61,
     "metadata": {},
     "output_type": "execute_result"
    }
   ],
   "source": [
    "f2[\"AAA\"][\"10\"]"
   ]
  },
  {
   "cell_type": "code",
   "execution_count": 90,
   "metadata": {},
   "outputs": [],
   "source": [
    "# For a given motif, in each cluster (1A),\n",
    "# sort non-redondant fragments by their original sequence.\n",
    "# Non-redundant = \n",
    "#    from different PDB structures\n",
    "#    from different RNA families (according to Rfam)\n",
    "#    bound to different proteins (according to uniprot) \n",
    "\n",
    "d = {m:{} for m in motifs}\n",
    "for m in motifs:\n",
    "    for k in ff[m].keys():\n",
    "        f = ff[m][k]\n",
    "        s = f['seq']\n",
    "        c = f['clust1.0']\n",
    "        pdb = f['structure'][:4]\n",
    "        if c not in d[m]:\n",
    "            d[m][c] = {}\n",
    "            for ss in seq[m]:\n",
    "                d[m][c][ss] = {\"seqid\":set(),\n",
    "                              \"rfam\":set(),\n",
    "                              \"pdb\":set(),\n",
    "                              \"frag\":[]}\n",
    "        new = 1\n",
    "\n",
    "        # is it bound to a new protein?\n",
    "        if pdb in redun.keys():\n",
    "            if redun[pdb] in d[m][c][s][\"seqid\"]:\n",
    "                new = 0\n",
    "            else:\n",
    "                d[m][c][s][\"seqid\"].add(redun[pdb])\n",
    "        \n",
    "        # is it from a new Rfam?\n",
    "        if pdb in rfam:\n",
    "            for r in rfam[pdb]: \n",
    "                if r in d[m][c][s][\"rfam\"]:\n",
    "                    new = 0\n",
    "                else:\n",
    "                    d[m][c][s][\"rfam\"].add(r)\n",
    "                    \n",
    "        # is it bound to a new protein (Uniprot/code)?\n",
    "        if pdb in unip:\n",
    "            for p in unip[pdb]:\n",
    "                if p in d[m][c][s][\"pdb\"]:\n",
    "                    new = 0\n",
    "                else:\n",
    "                    d[m][c][s][\"pdb\"].add(p)\n",
    "        else:\n",
    "            if pdb in d[m][c][s][\"pdb\"]:\n",
    "                new = 0\n",
    "            else:\n",
    "                d[m][c][s][\"pdb\"].add(pdb)\n",
    "\n",
    "        if new:\n",
    "            d[m][c][s][\"frag\"].append(f2[m][k])\n"
   ]
  },
  {
   "cell_type": "code",
   "execution_count": 91,
   "metadata": {},
   "outputs": [],
   "source": [
    "clust = {m:{ c: { s:len(d[m][c][s][\"frag\"]) for s in seq[m]} for c in d[m].keys() } for m in motifs}"
   ]
  },
  {
   "cell_type": "code",
   "execution_count": 92,
   "metadata": {},
   "outputs": [
    {
     "data": {
      "text/plain": [
       "{'GGA': 57,\n",
       " 'AAA': 43,\n",
       " 'AGG': 57,\n",
       " 'GAA': 44,\n",
       " 'GGG': 56,\n",
       " 'AAG': 43,\n",
       " 'AGA': 49,\n",
       " 'GAG': 59}"
      ]
     },
     "execution_count": 92,
     "metadata": {},
     "output_type": "execute_result"
    }
   ],
   "source": [
    "# Number of fragments with each of the 8 PuPuPu original sequences\n",
    "# in the first \"AAA\" cluster\n",
    "clust[\"AAA\"][1]"
   ]
  },
  {
   "cell_type": "code",
   "execution_count": 93,
   "metadata": {},
   "outputs": [
    {
     "name": "stdout",
     "output_type": "stream",
     "text": [
      "There are 2338 \t \"AAA\" clusters of size 1\n",
      "There are 130 \t \"AAA\" clusters of size 2\n",
      "There are 37 \t \"AAA\" clusters of size 3\n",
      "There are 22 \t \"AAA\" clusters of size 4\n",
      "There are 11 \t \"AAA\" clusters of size 5\n",
      "There are 11 \t \"AAA\" clusters of size 6\n",
      "There are 6 \t \"AAA\" clusters of size 7\n",
      "There are 6 \t \"AAA\" clusters of size 8\n",
      "There are 4 \t \"AAA\" clusters of size 9\n",
      "There are 3 \t \"AAA\" clusters of size 11\n",
      "There are 3 \t \"AAA\" clusters of size 12\n",
      "There are 3 \t \"AAA\" clusters of size 13\n",
      "There are 1 \t \"AAA\" clusters of size 14\n",
      "There are 2 \t \"AAA\" clusters of size 15\n",
      "There are 1 \t \"AAA\" clusters of size 16\n",
      "There are 2 \t \"AAA\" clusters of size 17\n",
      "There are 1 \t \"AAA\" clusters of size 18\n",
      "There are 1 \t \"AAA\" clusters of size 22\n",
      "There are 1 \t \"AAA\" clusters of size 27\n",
      "There are 1 \t \"AAA\" clusters of size 29\n",
      "There are 1 \t \"AAA\" clusters of size 30\n",
      "There are 1 \t \"AAA\" clusters of size 31\n",
      "There are 1 \t \"AAA\" clusters of size 54\n",
      "There are 1 \t \"AAA\" clusters of size 186\n",
      "There are 1 \t \"AAA\" clusters of size 223\n",
      "There are 1 \t \"AAA\" clusters of size 408\n"
     ]
    }
   ],
   "source": [
    "nclust = {m:{} for m in motifs}\n",
    "for m in motifs:\n",
    "    for k in clust[m]:\n",
    "        n = sum([clust[m][k][s] for s in clust[m][k].keys()])\n",
    "        if n not in nclust[m]:\n",
    "            nclust[m][n] = 1\n",
    "        else:\n",
    "            nclust[m][n] += 1\n",
    "\n",
    "kk = [k for k in nclust[\"AAA\"].keys()]\n",
    "kk.sort() \n",
    "for k in kk:\n",
    "    n = nclust[\"AAA\"][k]\n",
    "    print(\"There are %i \\t \\\"AAA\\\" clusters of size %i\"%(n,k))"
   ]
  },
  {
   "cell_type": "markdown",
   "metadata": {},
   "source": [
    "### Are some clusters made of only one sequence ?\n",
    "In other words, is a conformation (at 1A precision) specific of one sequence ?\n",
    "\n",
    "Our null hypothesis is a random distribution of the n fragments of each cluster into the k=8 sequences.\\\n",
    "For a cluster containing n fragments (n>=8), the probability p(n) that they are all of the same sequence is:\n",
    "\n",
    "p(n) = A(n) / B(n)\\\n",
    "with:\\\n",
    "A(n) = nb of distributions into only one sequence = k\\\n",
    "B(n) = nb of distributions = k**n"
   ]
  },
  {
   "cell_type": "code",
   "execution_count": 94,
   "metadata": {},
   "outputs": [
    {
     "name": "stdout",
     "output_type": "stream",
     "text": [
      "1 1.0\n",
      "2 0.125\n",
      "3 0.015625\n",
      "4 0.001953125\n",
      "5 0.000244140625\n"
     ]
    }
   ],
   "source": [
    "for n in range(1, 6):\n",
    "    p = 8/8**n\n",
    "    print(n,p)"
   ]
  },
  {
   "cell_type": "markdown",
   "metadata": {},
   "source": [
    "The first value of n such that p(n) < 0.05 is 3 \\\n",
    "Therefore we will consider only clusters with at least 3 fragments."
   ]
  },
  {
   "cell_type": "code",
   "execution_count": 98,
   "metadata": {},
   "outputs": [],
   "source": [
    "single = {m:{} for m in motifs} #clusters with n >= nf made of one sequence\n",
    "nclust = {m:{} for m in motifs} #nb clusters with n >= nf\n",
    "E = 0 #expectancy of total number of single-sequence clusters\n",
    "nf = 3\n",
    "for m in motifs:\n",
    "    ncl = 0\n",
    "    for k in d[m].keys():\n",
    "        n = sum([clust[m][k][s] for s in seq[m]])\n",
    "        if n < nf : continue\n",
    "        ncl += 1\n",
    "        E += 8/8**n\n",
    "        i = len([s for s in seq[m] if clust[m][k][s]> 0])\n",
    "        if i==1:\n",
    "            ss = [s for s in seq[m] if clust[m][k][s] > 0][0] \n",
    "            single[m][k] = (ss,clust[m][k][ss])\n",
    "    nclust[m] = ncl"
   ]
  },
  {
   "cell_type": "code",
   "execution_count": 99,
   "metadata": {},
   "outputs": [
    {
     "name": "stdout",
     "output_type": "stream",
     "text": [
      "AAA 4 122\n",
      "AAC 4 100\n",
      "ACA 4 75\n",
      "ACC 0 74\n",
      "CAA 6 106\n",
      "CAC 4 62\n",
      "CCA 2 77\n",
      "CCC 8 99\n",
      "\n",
      " 32 out of 715 (4.48 %) clusters with at least 3 fragments are of single sequence, while ~4 were expected\n"
     ]
    }
   ],
   "source": [
    "for m in motifs:\n",
    "    print(m, len(single[m]), nclust[m])\n",
    "    \n",
    "#a = sum([len(clust[m].keys()) for m in motifs])\n",
    "x1 = sum([len(single[m]) for m in motifs])\n",
    "x2 = sum([nclust[m] for m in motifs])\n",
    "x3 = 100*x1/x2\n",
    "print(\"\\n %i out of %i (%.2f %%) clusters with at least %i fragments are of single sequence, \\\n",
    "while ~%i were expected\"%(x1, x2, x3, nf, E))"
   ]
  },
  {
   "cell_type": "code",
   "execution_count": 68,
   "metadata": {
    "scrolled": true
   },
   "outputs": [
    {
     "name": "stdout",
     "output_type": "stream",
     "text": [
      "Single-seq clusters of the PuPuPu motif:\n",
      "{index of cluster: (original sequence, number of fragments)}\n"
     ]
    },
    {
     "data": {
      "text/plain": [
       "{235: ('GGA', 4), 657: ('AGG', 3), 236: ('GGA', 3), 262: ('GGG', 3)}"
      ]
     },
     "execution_count": 68,
     "metadata": {},
     "output_type": "execute_result"
    }
   ],
   "source": [
    "print(\"Single-seq clusters of the PuPuPu motif:\")\n",
    "print(\"{index of cluster: (original sequence, number of fragments)}\")\n",
    "single[\"AAA\"]"
   ]
  },
  {
   "cell_type": "code",
   "execution_count": 70,
   "metadata": {
    "scrolled": false
   },
   "outputs": [
    {
     "name": "stdout",
     "output_type": "stream",
     "text": [
      "Fragments in each single-seq PuPuPu cluster\n",
      "\n",
      "{p: pdbcode, r: resid, s: original sequence, c: chain }\n",
      "\n",
      "cluster 235\n",
      "{'p': '4QVI', 'r': ['2156', '2157', '2158'], 's': 'GGA', 'c': 'B'}\n",
      "{'p': '5FJ4', 'r': ['4', '5', '6'], 's': 'GGA', 'c': 'D'}\n",
      "{'p': '6YAL', 'r': ['1600', '1601', '1602'], 's': 'GGA', 'c': '2'}\n",
      "{'p': '2ANN', 'r': ['6', '7', '8'], 's': 'GGA', 'c': 'B'}\n",
      "\n",
      "cluster 657\n",
      "{'p': '6KWR', 'r': ['599', '600', '601'], 's': 'AGG', 'c': 'B'}\n",
      "{'p': '4K4V', 'r': ['599', '600', '601'], 's': 'AGG', 'c': 'B'}\n",
      "{'p': '4K4Y', 'r': ['599', '600', '601'], 's': 'AGG', 'c': 'B'}\n",
      "\n",
      "cluster 236\n",
      "{'p': '6QULA', 'r': ['188', '189', '190'], 's': 'GGA', 'c': 'A'}\n",
      "{'p': '1JBR', 'r': ['18', '19', '20'], 's': 'GGA', 'c': 'F'}\n",
      "{'p': '2HGH', 'r': ['40', '41', '42'], 's': 'GGA', 'c': 'B'}\n",
      "\n",
      "cluster 262\n",
      "{'p': '6QULA', 'r': ['1695', '1696', '1697'], 's': 'GGG', 'c': 'A'}\n",
      "{'p': '1AUD', 'r': ['34', '35', '36'], 's': 'GGG', 'c': 'B'}\n",
      "{'p': '1EKZ', 'r': ['17', '18', '19'], 's': 'GGG', 'c': 'B'}\n"
     ]
    }
   ],
   "source": [
    "print(\"Fragments in each single-seq PuPuPu cluster\\n\")\n",
    "print(\"{p: pdbcode, r: resid, s: original sequence, c: chain }\")\n",
    "for k in single[\"AAA\"]:\n",
    "    s = single[\"AAA\"][k][0]\n",
    "    print(\"\\ncluster %i\"%k)\n",
    "    for frag in d[\"AAA\"][k][s][\"frag\"]:\n",
    "        print(frag)"
   ]
  },
  {
   "cell_type": "markdown",
   "metadata": {},
   "source": [
    "**Cluster 235**\\\n",
    "4QVI: Mutant ribosomal protein M218L TthL1 in complex with 80nt 23S RNA from Thermus thermophilus \\\n",
    "5FJ4: Structure of the standard kink turn HmKt-7 as stem loop bound with U1A and L7Ae proteins \\\n",
    "6YAL: Mammalian 48S late-stage initiation complex with beta-globin mRNA \\\n",
    "2ANN: Crystal structure (I) of Nova-1 KH1/KH2 domain tandem with 25 nt RNA hairpin\\\n",
    "\n",
    "**cluster 657**\\\n",
    "4K4V: Poliovirus polymerase elongation complex (r5+1_form) \\\n",
    "4K4Y: Coxsackievirus B3 polymerase elongation complex (r2+1_form) \\\n",
    "6KWR: enterovirus 71 polymerase elongation complex (ddCTP form) \\\n",
    "=> ***redundant***\n",
    "\n",
    "**cluster 236**\\\n",
    "6QUL: bacterial 50S ribosomal subunit in complex with cadazolid \\\n",
    "1JBR: Ribotoxin Restrictocin and a 31-mer SRD RNA Inhibitor \\\n",
    "2HGH: Transcription Factor IIIA zinc fingers 4-6 bound to 5S rRNA 55mer\\\n",
    "\n",
    "**cluster 262**\\\n",
    "6QUL: bacterial 50S ribosomal subunit in complex with cadazolid \\\n",
    "1AUD: U1A-UTRRNA \\\n",
    "1EKZ: THIRD DSRBD FROM DROSOPHILA STAUFEN AND A RNA HAIRPIN\n",
    "\n"
   ]
  },
  {
   "cell_type": "code",
   "execution_count": null,
   "metadata": {},
   "outputs": [],
   "source": []
  }
 ],
 "metadata": {
  "kernelspec": {
   "display_name": "Python 3",
   "language": "python",
   "name": "python3"
  },
  "language_info": {
   "codemirror_mode": {
    "name": "ipython",
    "version": 3
   },
   "file_extension": ".py",
   "mimetype": "text/x-python",
   "name": "python",
   "nbconvert_exporter": "python",
   "pygments_lexer": "ipython3",
   "version": "3.8.3"
  }
 },
 "nbformat": 4,
 "nbformat_minor": 4
}
